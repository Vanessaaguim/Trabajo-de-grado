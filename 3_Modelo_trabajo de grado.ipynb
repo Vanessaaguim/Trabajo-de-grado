{
  "cells": [
    {
      "cell_type": "markdown",
      "source": [
        "# Cindy Vanessa Aguirre Marín\n",
        "# Trabajo de grado"
      ],
      "metadata": {
        "id": "dCRiKv5ok3jj"
      }
    },
    {
      "cell_type": "markdown",
      "source": [
        "# **3. Modelo**"
      ],
      "metadata": {
        "id": "CaSxP3KbkjWL"
      }
    },
    {
      "cell_type": "code",
      "execution_count": null,
      "metadata": {
        "id": "QOj4kOHckCi7"
      },
      "outputs": [],
      "source": [
        "from google.colab import drive"
      ]
    },
    {
      "cell_type": "code",
      "execution_count": null,
      "metadata": {
        "colab": {
          "base_uri": "https://localhost:8080/"
        },
        "id": "meV99zirkJES",
        "outputId": "45801c06-ee79-4adf-9e2d-cd4d29ce5cc9"
      },
      "outputs": [
        {
          "output_type": "stream",
          "name": "stdout",
          "text": [
            "Drive already mounted at /content/drive; to attempt to forcibly remount, call drive.mount(\"/content/drive\", force_remount=True).\n"
          ]
        }
      ],
      "source": [
        "drive.mount('/content/drive')"
      ]
    },
    {
      "cell_type": "code",
      "execution_count": null,
      "metadata": {
        "id": "mrKXQr6zkK6w"
      },
      "outputs": [],
      "source": [
        "import pandas as pd\n",
        "import os\n",
        "import numpy as np\n",
        "import matplotlib.pyplot as plt\n",
        "import seaborn as sns"
      ]
    },
    {
      "cell_type": "code",
      "execution_count": null,
      "metadata": {
        "id": "8dROX9szaTGz"
      },
      "outputs": [],
      "source": [
        "df_uno = pd.read_excel(\"/content/drive/MyDrive/Proyecto_grado/Datos/Datos.xlsx\")\n"
      ]
    },
    {
      "cell_type": "code",
      "execution_count": null,
      "metadata": {
        "id": "WPjIpoFigB8i"
      },
      "outputs": [],
      "source": [
        "# Guardar el DataFrame en formato pickle\n",
        "df_uno.to_pickle(\"/content/drive/MyDrive/Proyecto_grado/Datos/Datos.pkl\")"
      ]
    },
    {
      "cell_type": "code",
      "execution_count": null,
      "metadata": {
        "colab": {
          "base_uri": "https://localhost:8080/"
        },
        "id": "BnvfN-JQuxHI",
        "outputId": "31e9bbcd-2594-4649-b3e4-0729b70100a0"
      },
      "outputs": [
        {
          "output_type": "stream",
          "name": "stdout",
          "text": [
            "Requirement already satisfied: umap-learn in /usr/local/lib/python3.10/dist-packages (0.5.6)\n",
            "Requirement already satisfied: numpy>=1.17 in /usr/local/lib/python3.10/dist-packages (from umap-learn) (1.25.2)\n",
            "Requirement already satisfied: scipy>=1.3.1 in /usr/local/lib/python3.10/dist-packages (from umap-learn) (1.11.4)\n",
            "Requirement already satisfied: scikit-learn>=0.22 in /usr/local/lib/python3.10/dist-packages (from umap-learn) (1.2.2)\n",
            "Requirement already satisfied: numba>=0.51.2 in /usr/local/lib/python3.10/dist-packages (from umap-learn) (0.58.1)\n",
            "Requirement already satisfied: pynndescent>=0.5 in /usr/local/lib/python3.10/dist-packages (from umap-learn) (0.5.13)\n",
            "Requirement already satisfied: tqdm in /usr/local/lib/python3.10/dist-packages (from umap-learn) (4.66.4)\n",
            "Requirement already satisfied: llvmlite<0.42,>=0.41.0dev0 in /usr/local/lib/python3.10/dist-packages (from numba>=0.51.2->umap-learn) (0.41.1)\n",
            "Requirement already satisfied: joblib>=0.11 in /usr/local/lib/python3.10/dist-packages (from pynndescent>=0.5->umap-learn) (1.4.2)\n",
            "Requirement already satisfied: threadpoolctl>=2.0.0 in /usr/local/lib/python3.10/dist-packages (from scikit-learn>=0.22->umap-learn) (3.5.0)\n"
          ]
        }
      ],
      "source": [
        "pip install umap-learn"
      ]
    },
    {
      "cell_type": "code",
      "execution_count": null,
      "metadata": {
        "colab": {
          "base_uri": "https://localhost:8080/"
        },
        "id": "rIVVITH3vOF2",
        "outputId": "d485bcd6-81fc-409f-cb8f-53983fc415fe"
      },
      "outputs": [
        {
          "output_type": "stream",
          "name": "stdout",
          "text": [
            "Requirement already satisfied: umap-learn[plot] in /usr/local/lib/python3.10/dist-packages (0.5.6)\n",
            "Requirement already satisfied: numpy>=1.17 in /usr/local/lib/python3.10/dist-packages (from umap-learn[plot]) (1.25.2)\n",
            "Requirement already satisfied: scipy>=1.3.1 in /usr/local/lib/python3.10/dist-packages (from umap-learn[plot]) (1.11.4)\n",
            "Requirement already satisfied: scikit-learn>=0.22 in /usr/local/lib/python3.10/dist-packages (from umap-learn[plot]) (1.2.2)\n",
            "Requirement already satisfied: numba>=0.51.2 in /usr/local/lib/python3.10/dist-packages (from umap-learn[plot]) (0.58.1)\n",
            "Requirement already satisfied: pynndescent>=0.5 in /usr/local/lib/python3.10/dist-packages (from umap-learn[plot]) (0.5.13)\n",
            "Requirement already satisfied: tqdm in /usr/local/lib/python3.10/dist-packages (from umap-learn[plot]) (4.66.4)\n",
            "Requirement already satisfied: pandas in /usr/local/lib/python3.10/dist-packages (from umap-learn[plot]) (2.0.3)\n",
            "Requirement already satisfied: matplotlib in /usr/local/lib/python3.10/dist-packages (from umap-learn[plot]) (3.7.1)\n",
            "Requirement already satisfied: datashader in /usr/local/lib/python3.10/dist-packages (from umap-learn[plot]) (0.16.2)\n",
            "Requirement already satisfied: bokeh in /usr/local/lib/python3.10/dist-packages (from umap-learn[plot]) (3.3.4)\n",
            "Requirement already satisfied: holoviews in /usr/local/lib/python3.10/dist-packages (from umap-learn[plot]) (1.17.1)\n",
            "Requirement already satisfied: colorcet in /usr/local/lib/python3.10/dist-packages (from umap-learn[plot]) (3.1.0)\n",
            "Requirement already satisfied: seaborn in /usr/local/lib/python3.10/dist-packages (from umap-learn[plot]) (0.13.1)\n",
            "Requirement already satisfied: scikit-image in /usr/local/lib/python3.10/dist-packages (from umap-learn[plot]) (0.19.3)\n",
            "Requirement already satisfied: llvmlite<0.42,>=0.41.0dev0 in /usr/local/lib/python3.10/dist-packages (from numba>=0.51.2->umap-learn[plot]) (0.41.1)\n",
            "Requirement already satisfied: joblib>=0.11 in /usr/local/lib/python3.10/dist-packages (from pynndescent>=0.5->umap-learn[plot]) (1.4.2)\n",
            "Requirement already satisfied: threadpoolctl>=2.0.0 in /usr/local/lib/python3.10/dist-packages (from scikit-learn>=0.22->umap-learn[plot]) (3.5.0)\n",
            "Requirement already satisfied: Jinja2>=2.9 in /usr/local/lib/python3.10/dist-packages (from bokeh->umap-learn[plot]) (3.1.4)\n",
            "Requirement already satisfied: contourpy>=1 in /usr/local/lib/python3.10/dist-packages (from bokeh->umap-learn[plot]) (1.2.1)\n",
            "Requirement already satisfied: packaging>=16.8 in /usr/local/lib/python3.10/dist-packages (from bokeh->umap-learn[plot]) (24.1)\n",
            "Requirement already satisfied: pillow>=7.1.0 in /usr/local/lib/python3.10/dist-packages (from bokeh->umap-learn[plot]) (9.4.0)\n",
            "Requirement already satisfied: PyYAML>=3.10 in /usr/local/lib/python3.10/dist-packages (from bokeh->umap-learn[plot]) (6.0.1)\n",
            "Requirement already satisfied: tornado>=5.1 in /usr/local/lib/python3.10/dist-packages (from bokeh->umap-learn[plot]) (6.3.3)\n",
            "Requirement already satisfied: xyzservices>=2021.09.1 in /usr/local/lib/python3.10/dist-packages (from bokeh->umap-learn[plot]) (2024.6.0)\n",
            "Requirement already satisfied: python-dateutil>=2.8.2 in /usr/local/lib/python3.10/dist-packages (from pandas->umap-learn[plot]) (2.8.2)\n",
            "Requirement already satisfied: pytz>=2020.1 in /usr/local/lib/python3.10/dist-packages (from pandas->umap-learn[plot]) (2023.4)\n",
            "Requirement already satisfied: tzdata>=2022.1 in /usr/local/lib/python3.10/dist-packages (from pandas->umap-learn[plot]) (2024.1)\n",
            "Requirement already satisfied: dask in /usr/local/lib/python3.10/dist-packages (from datashader->umap-learn[plot]) (2023.8.1)\n",
            "Requirement already satisfied: multipledispatch in /usr/local/lib/python3.10/dist-packages (from datashader->umap-learn[plot]) (1.0.0)\n",
            "Requirement already satisfied: param in /usr/local/lib/python3.10/dist-packages (from datashader->umap-learn[plot]) (2.1.0)\n",
            "Requirement already satisfied: pyct in /usr/local/lib/python3.10/dist-packages (from datashader->umap-learn[plot]) (0.5.0)\n",
            "Requirement already satisfied: requests in /usr/local/lib/python3.10/dist-packages (from datashader->umap-learn[plot]) (2.31.0)\n",
            "Requirement already satisfied: toolz in /usr/local/lib/python3.10/dist-packages (from datashader->umap-learn[plot]) (0.12.1)\n",
            "Requirement already satisfied: xarray in /usr/local/lib/python3.10/dist-packages (from datashader->umap-learn[plot]) (2023.7.0)\n",
            "Requirement already satisfied: pyviz-comms>=0.7.4 in /usr/local/lib/python3.10/dist-packages (from holoviews->umap-learn[plot]) (3.0.2)\n",
            "Requirement already satisfied: panel>=0.13.1 in /usr/local/lib/python3.10/dist-packages (from holoviews->umap-learn[plot]) (1.3.8)\n",
            "Requirement already satisfied: cycler>=0.10 in /usr/local/lib/python3.10/dist-packages (from matplotlib->umap-learn[plot]) (0.12.1)\n",
            "Requirement already satisfied: fonttools>=4.22.0 in /usr/local/lib/python3.10/dist-packages (from matplotlib->umap-learn[plot]) (4.53.0)\n",
            "Requirement already satisfied: kiwisolver>=1.0.1 in /usr/local/lib/python3.10/dist-packages (from matplotlib->umap-learn[plot]) (1.4.5)\n",
            "Requirement already satisfied: pyparsing>=2.3.1 in /usr/local/lib/python3.10/dist-packages (from matplotlib->umap-learn[plot]) (3.1.2)\n",
            "Requirement already satisfied: networkx>=2.2 in /usr/local/lib/python3.10/dist-packages (from scikit-image->umap-learn[plot]) (3.3)\n",
            "Requirement already satisfied: imageio>=2.4.1 in /usr/local/lib/python3.10/dist-packages (from scikit-image->umap-learn[plot]) (2.31.6)\n",
            "Requirement already satisfied: tifffile>=2019.7.26 in /usr/local/lib/python3.10/dist-packages (from scikit-image->umap-learn[plot]) (2024.5.22)\n",
            "Requirement already satisfied: PyWavelets>=1.1.1 in /usr/local/lib/python3.10/dist-packages (from scikit-image->umap-learn[plot]) (1.6.0)\n",
            "Requirement already satisfied: MarkupSafe>=2.0 in /usr/local/lib/python3.10/dist-packages (from Jinja2>=2.9->bokeh->umap-learn[plot]) (2.1.5)\n",
            "Requirement already satisfied: markdown in /usr/local/lib/python3.10/dist-packages (from panel>=0.13.1->holoviews->umap-learn[plot]) (3.6)\n",
            "Requirement already satisfied: markdown-it-py in /usr/local/lib/python3.10/dist-packages (from panel>=0.13.1->holoviews->umap-learn[plot]) (3.0.0)\n",
            "Requirement already satisfied: linkify-it-py in /usr/local/lib/python3.10/dist-packages (from panel>=0.13.1->holoviews->umap-learn[plot]) (2.0.3)\n",
            "Requirement already satisfied: mdit-py-plugins in /usr/local/lib/python3.10/dist-packages (from panel>=0.13.1->holoviews->umap-learn[plot]) (0.4.1)\n",
            "Requirement already satisfied: bleach in /usr/local/lib/python3.10/dist-packages (from panel>=0.13.1->holoviews->umap-learn[plot]) (6.1.0)\n",
            "Requirement already satisfied: typing-extensions in /usr/local/lib/python3.10/dist-packages (from panel>=0.13.1->holoviews->umap-learn[plot]) (4.12.2)\n",
            "Requirement already satisfied: six>=1.5 in /usr/local/lib/python3.10/dist-packages (from python-dateutil>=2.8.2->pandas->umap-learn[plot]) (1.16.0)\n",
            "Requirement already satisfied: click>=8.0 in /usr/local/lib/python3.10/dist-packages (from dask->datashader->umap-learn[plot]) (8.1.7)\n",
            "Requirement already satisfied: cloudpickle>=1.5.0 in /usr/local/lib/python3.10/dist-packages (from dask->datashader->umap-learn[plot]) (2.2.1)\n",
            "Requirement already satisfied: fsspec>=2021.09.0 in /usr/local/lib/python3.10/dist-packages (from dask->datashader->umap-learn[plot]) (2023.6.0)\n",
            "Requirement already satisfied: partd>=1.2.0 in /usr/local/lib/python3.10/dist-packages (from dask->datashader->umap-learn[plot]) (1.4.2)\n",
            "Requirement already satisfied: importlib-metadata>=4.13.0 in /usr/local/lib/python3.10/dist-packages (from dask->datashader->umap-learn[plot]) (7.1.0)\n",
            "Requirement already satisfied: charset-normalizer<4,>=2 in /usr/local/lib/python3.10/dist-packages (from requests->datashader->umap-learn[plot]) (3.3.2)\n",
            "Requirement already satisfied: idna<4,>=2.5 in /usr/local/lib/python3.10/dist-packages (from requests->datashader->umap-learn[plot]) (3.7)\n",
            "Requirement already satisfied: urllib3<3,>=1.21.1 in /usr/local/lib/python3.10/dist-packages (from requests->datashader->umap-learn[plot]) (2.0.7)\n",
            "Requirement already satisfied: certifi>=2017.4.17 in /usr/local/lib/python3.10/dist-packages (from requests->datashader->umap-learn[plot]) (2024.6.2)\n",
            "Requirement already satisfied: zipp>=0.5 in /usr/local/lib/python3.10/dist-packages (from importlib-metadata>=4.13.0->dask->datashader->umap-learn[plot]) (3.19.2)\n",
            "Requirement already satisfied: locket in /usr/local/lib/python3.10/dist-packages (from partd>=1.2.0->dask->datashader->umap-learn[plot]) (1.0.0)\n",
            "Requirement already satisfied: webencodings in /usr/local/lib/python3.10/dist-packages (from bleach->panel>=0.13.1->holoviews->umap-learn[plot]) (0.5.1)\n",
            "Requirement already satisfied: uc-micro-py in /usr/local/lib/python3.10/dist-packages (from linkify-it-py->panel>=0.13.1->holoviews->umap-learn[plot]) (1.0.3)\n",
            "Requirement already satisfied: mdurl~=0.1 in /usr/local/lib/python3.10/dist-packages (from markdown-it-py->panel>=0.13.1->holoviews->umap-learn[plot]) (0.1.2)\n"
          ]
        }
      ],
      "source": [
        "pip install umap-learn[plot]"
      ]
    },
    {
      "cell_type": "code",
      "execution_count": null,
      "metadata": {
        "id": "vI5THidHugI0"
      },
      "outputs": [],
      "source": [
        "import sklearn.datasets\n",
        "from sklearn.preprocessing import RobustScaler\n",
        "import seaborn as sns\n",
        "import pandas as pd\n",
        "import numpy as np\n",
        "import umap\n",
        "import umap.plot"
      ]
    },
    {
      "cell_type": "markdown",
      "source": [
        "# Reducción de dimensionalidad"
      ],
      "metadata": {
        "id": "ZSsWmRRtlL5h"
      }
    },
    {
      "cell_type": "code",
      "execution_count": null,
      "metadata": {
        "colab": {
          "base_uri": "https://localhost:8080/"
        },
        "id": "mF8rVvTnve2b",
        "outputId": "d769becd-709e-417d-a323-4103efc6f3e4"
      },
      "outputs": [
        {
          "output_type": "stream",
          "name": "stderr",
          "text": [
            "/usr/local/lib/python3.10/dist-packages/umap/umap_.py:1945: UserWarning: n_jobs value 1 overridden to 1 by setting random_state. Use no seed for parallelism.\n",
            "  warn(f\"n_jobs value {self.n_jobs} overridden to 1 by setting random_state. Use no seed for parallelism.\")\n"
          ]
        }
      ],
      "source": [
        "cluster1 = umap.UMAP(n_neighbors=15, random_state=42).fit(df_uno)"
      ]
    },
    {
      "cell_type": "code",
      "execution_count": null,
      "metadata": {
        "colab": {
          "base_uri": "https://localhost:8080/",
          "height": 670
        },
        "id": "GytAcpxcv7pz",
        "outputId": "cc5294f6-a419-41da-ab2f-a239bb4c1b3c"
      },
      "outputs": [
        {
          "output_type": "execute_result",
          "data": {
            "text/plain": [
              "<Axes: >"
            ]
          },
          "metadata": {},
          "execution_count": 58
        },
        {
          "output_type": "display_data",
          "data": {
            "text/plain": [
              "<Figure size 800x800 with 1 Axes>"
            ],
            "image/png": "[encoded data removed]"
          },
          "metadata": {}
        }
      ],
      "source": [
        "umap.plot.points(cluster1, values=df_uno[\"RangoEdad_\"], cmap=\"viridis\")"
      ]
    },
    {
      "cell_type": "code",
      "execution_count": null,
      "metadata": {
        "colab": {
          "base_uri": "https://localhost:8080/"
        },
        "id": "P7Kp-7WmHYUm",
        "outputId": "1836b78b-b8b4-448d-db1c-8eb50c4d3572"
      },
      "outputs": [
        {
          "output_type": "stream",
          "name": "stderr",
          "text": [
            "/usr/local/lib/python3.10/dist-packages/umap/umap_.py:1945: UserWarning: n_jobs value 1 overridden to 1 by setting random_state. Use no seed for parallelism.\n",
            "  warn(f\"n_jobs value {self.n_jobs} overridden to 1 by setting random_state. Use no seed for parallelism.\")\n"
          ]
        }
      ],
      "source": [
        "umap = umap.UMAP(n_components=2, random_state=42, metric= 'manhattan')\n",
        "X_reduced = umap.fit_transform(df_uno)"
      ]
    },
    {
      "cell_type": "markdown",
      "metadata": {
        "id": "GCwJSZfpjnMY"
      },
      "source": [
        "# K-Means"
      ]
    },
    {
      "cell_type": "code",
      "execution_count": null,
      "metadata": {
        "colab": {
          "base_uri": "https://localhost:8080/",
          "height": 541
        },
        "id": "-MMLUVsbjlfa",
        "outputId": "67f097af-3f1e-42eb-984c-60c5996bf32a"
      },
      "outputs": [
        {
          "output_type": "display_data",
          "data": {
            "text/plain": [
              "<Figure size 800x550 with 2 Axes>"
            ],
            "image/png": "[encoded data removed]"
          },
          "metadata": {}
        },
        {
          "output_type": "execute_result",
          "data": {
            "text/plain": [
              "<Axes: title={'center': 'Distortion Score Elbow for KMeans Clustering'}, xlabel='k', ylabel='distortion score'>"
            ]
          },
          "metadata": {},
          "execution_count": 60
        }
      ],
      "source": [
        "import numpy as np\n",
        "from sklearn.cluster import KMeans\n",
        "from yellowbrick.cluster import KElbowVisualizer\n",
        "\n",
        "\n",
        "# Instancia el modelo de clustering y visualizador\n",
        "km = KMeans(init=\"k-means++\", random_state=0, n_init=\"auto\")\n",
        "visualizer = KElbowVisualizer(km, k=(2, 10))\n",
        "\n",
        "# Ajusta los datos al visualizador\n",
        "visualizer.fit(X_reduced)\n",
        "\n",
        "# Muestra el gráfico\n",
        "visualizer.show()"
      ]
    },
    {
      "cell_type": "code",
      "execution_count": null,
      "metadata": {
        "id": "3GPFLqHsj5Ur"
      },
      "outputs": [],
      "source": [
        " #Se crea el cluster\n",
        "km = KMeans(\n",
        "    n_clusters=4,\n",
        "    init='k-means++',\n",
        "    n_init=10,\n",
        "    max_iter=100,\n",
        "    random_state=42\n",
        ")\n",
        "\n",
        "clusters_predict = km.fit_predict(X_reduced)\n"
      ]
    },
    {
      "cell_type": "code",
      "execution_count": null,
      "metadata": {
        "id": "1w4UoFdHY7yf"
      },
      "outputs": [],
      "source": [
        "# Convertir clusters_predict a una Serie de pandas\n",
        "clusters_predict_series = pd.Series(clusters_predict, name='Cluster')"
      ]
    },
    {
      "cell_type": "code",
      "execution_count": null,
      "metadata": {
        "colab": {
          "base_uri": "https://localhost:8080/",
          "height": 716
        },
        "id": "C0l-hn9HL622",
        "outputId": "14b39914-e5c4-4155-fc0c-8170e4127fa5"
      },
      "outputs": [
        {
          "output_type": "display_data",
          "data": {
            "text/plain": [
              "<Figure size 1000x800 with 2 Axes>"
            ],
            "image/png": "[encoded data removed]"
          },
          "metadata": {}
        }
      ],
      "source": [
        "plt.figure(figsize=(10, 8))\n",
        "plt.scatter(X_reduced[:, 0], X_reduced[:, 1], c=clusters_predict, cmap='Spectral', s=50)\n",
        "plt.colorbar(boundaries=np.arange(len(set(clusters_predict)) + 1) - 0.5).set_ticks(np.arange(len(set(clusters_predict))))\n",
        "plt.title('Clustering con K-Means después de la Reducción de Dimensiones con UMAP')\n",
        "plt.xlabel('UMAP 1')\n",
        "plt.ylabel('UMAP 2')\n",
        "plt.show()"
      ]
    },
    {
      "cell_type": "markdown",
      "source": [
        "# Evaluación"
      ],
      "metadata": {
        "id": "qe63wSFhls7q"
      }
    },
    {
      "cell_type": "code",
      "source": [
        "from sklearn.metrics import silhouette_score\n",
        "from sklearn.metrics import calinski_harabasz_score\n",
        "from sklearn.metrics import davies_bouldin_score\n",
        "print(f\"Davies bouldin score: {davies_bouldin_score(X_reduced,clusters_predict)}\")\n",
        "print(f\"Calinski Score: {calinski_harabasz_score(X_reduced,clusters_predict)}\")\n",
        "print(f\"Silhouette Score: {silhouette_score(X_reduced,clusters_predict)}\")"
      ],
      "metadata": {
        "id": "dU74lnSGEhOa",
        "colab": {
          "base_uri": "https://localhost:8080/"
        },
        "outputId": "ccdecd30-ee36-46e7-e3fa-7c1dcf4e9ef8"
      },
      "execution_count": null,
      "outputs": [
        {
          "output_type": "stream",
          "name": "stdout",
          "text": [
            "Davies bouldin score: 0.9328117340508842\n",
            "Calinski Score: 29734.127213320895\n",
            "Silhouette Score: 0.32718053460121155\n"
          ]
        }
      ]
    },
    {
      "cell_type": "code",
      "source": [
        "print(f\"Davies bouldin score: {davies_bouldin_score(X_reduced,clusters_predict)}\")"
      ],
      "metadata": {
        "colab": {
          "base_uri": "https://localhost:8080/"
        },
        "id": "4AQgcU5LSNp0",
        "outputId": "5445bd68-da9f-459e-cdb3-b4e81b231ec3"
      },
      "execution_count": null,
      "outputs": [
        {
          "output_type": "stream",
          "name": "stdout",
          "text": [
            "Davies bouldin score: 0.9328117340508842\n"
          ]
        }
      ]
    },
    {
      "cell_type": "markdown",
      "source": [
        "# Interpretación de las características"
      ],
      "metadata": {
        "id": "bO--duQd4AcX"
      }
    },
    {
      "cell_type": "code",
      "execution_count": null,
      "metadata": {
        "colab": {
          "base_uri": "https://localhost:8080/"
        },
        "id": "xi75vnoJVZ_3",
        "outputId": "bd3a8b6c-6030-4247-a794-87d21a433d3c"
      },
      "outputs": [
        {
          "output_type": "stream",
          "name": "stdout",
          "text": [
            "Collecting shapash\n",
            "  Downloading shapash-2.5.0-py2.py3-none-any.whl (651 kB)\n",
            "\u001b[2K     \u001b[90m━━━━━━━━━━━━━━━━━━━━━━━━━━━━━━━━━━━━━━━━\u001b[0m \u001b[32m651.7/651.7 kB\u001b[0m \u001b[31m7.5 MB/s\u001b[0m eta \u001b[36m0:00:00\u001b[0m\n",
            "\u001b[?25hRequirement already satisfied: plotly>=5.0.0 in /usr/local/lib/python3.10/dist-packages (from shapash) (5.15.0)\n",
            "Requirement already satisfied: matplotlib>=3.2.0 in /usr/local/lib/python3.10/dist-packages (from shapash) (3.7.1)\n",
            "Requirement already satisfied: numpy>1.18.0 in /usr/local/lib/python3.10/dist-packages (from shapash) (1.25.2)\n",
            "Collecting pandas>=2.1.0 (from shapash)\n",
            "  Downloading pandas-2.2.2-cp310-cp310-manylinux_2_17_x86_64.manylinux2014_x86_64.whl (13.0 MB)\n",
            "\u001b[2K     \u001b[90m━━━━━━━━━━━━━━━━━━━━━━━━━━━━━━━━━━━━━━━━\u001b[0m \u001b[32m13.0/13.0 MB\u001b[0m \u001b[31m18.1 MB/s\u001b[0m eta \u001b[36m0:00:00\u001b[0m\n",
            "\u001b[?25hRequirement already satisfied: shap>=0.45.0 in /usr/local/lib/python3.10/dist-packages (from shapash) (0.45.1)\n",
            "Requirement already satisfied: Flask<2.3.0 in /usr/local/lib/python3.10/dist-packages (from shapash) (2.2.5)\n",
            "Collecting dash>=2.3.1 (from shapash)\n",
            "  Downloading dash-2.17.1-py3-none-any.whl (7.5 MB)\n",
            "\u001b[2K     \u001b[90m━━━━━━━━━━━━━━━━━━━━━━━━━━━━━━━━━━━━━━━━\u001b[0m \u001b[32m7.5/7.5 MB\u001b[0m \u001b[31m35.7 MB/s\u001b[0m eta \u001b[36m0:00:00\u001b[0m\n",
            "\u001b[?25hCollecting dash-bootstrap-components>=1.1.0 (from shapash)\n",
            "  Downloading dash_bootstrap_components-1.6.0-py3-none-any.whl (222 kB)\n",
            "\u001b[2K     \u001b[90m━━━━━━━━━━━━━━━━━━━━━━━━━━━━━━━━━━━━━━━━\u001b[0m \u001b[32m222.5/222.5 kB\u001b[0m \u001b[31m22.2 MB/s\u001b[0m eta \u001b[36m0:00:00\u001b[0m\n",
            "\u001b[?25hCollecting dash-core-components>=2.0.0 (from shapash)\n",
            "  Downloading dash_core_components-2.0.0-py3-none-any.whl (3.8 kB)\n",
            "Collecting dash-daq>=0.5.0 (from shapash)\n",
            "  Downloading dash_daq-0.5.0.tar.gz (642 kB)\n",
            "\u001b[2K     \u001b[90m━━━━━━━━━━━━━━━━━━━━━━━━━━━━━━━━━━━━━━━━\u001b[0m \u001b[32m642.7/642.7 kB\u001b[0m \u001b[31m29.0 MB/s\u001b[0m eta \u001b[36m0:00:00\u001b[0m\n",
            "\u001b[?25h  Preparing metadata (setup.py) ... \u001b[?25l\u001b[?25hdone\n",
            "Collecting dash-html-components>=2.0.0 (from shapash)\n",
            "  Downloading dash_html_components-2.0.0-py3-none-any.whl (4.1 kB)\n",
            "Collecting dash-renderer==1.8.3 (from shapash)\n",
            "  Downloading dash_renderer-1.8.3.tar.gz (1.0 MB)\n",
            "\u001b[2K     \u001b[90m━━━━━━━━━━━━━━━━━━━━━━━━━━━━━━━━━━━━━━━━\u001b[0m \u001b[32m1.0/1.0 MB\u001b[0m \u001b[31m30.9 MB/s\u001b[0m eta \u001b[36m0:00:00\u001b[0m\n",
            "\u001b[?25h  Preparing metadata (setup.py) ... \u001b[?25l\u001b[?25hdone\n",
            "Collecting dash-table>=5.0.0 (from shapash)\n",
            "  Downloading dash_table-5.0.0-py3-none-any.whl (3.9 kB)\n",
            "Requirement already satisfied: nbformat>4.2.0 in /usr/local/lib/python3.10/dist-packages (from shapash) (5.10.4)\n",
            "Requirement already satisfied: numba>=0.53.1 in /usr/local/lib/python3.10/dist-packages (from shapash) (0.58.1)\n",
            "Collecting scikit-learn>=1.4.0 (from shapash)\n",
            "  Downloading scikit_learn-1.5.0-cp310-cp310-manylinux_2_17_x86_64.manylinux2014_x86_64.whl (13.3 MB)\n",
            "\u001b[2K     \u001b[90m━━━━━━━━━━━━━━━━━━━━━━━━━━━━━━━━━━━━━━━━\u001b[0m \u001b[32m13.3/13.3 MB\u001b[0m \u001b[31m43.1 MB/s\u001b[0m eta \u001b[36m0:00:00\u001b[0m\n",
            "\u001b[?25hCollecting category-encoders>=2.6.0 (from shapash)\n",
            "  Downloading category_encoders-2.6.3-py2.py3-none-any.whl (81 kB)\n",
            "\u001b[2K     \u001b[90m━━━━━━━━━━━━━━━━━━━━━━━━━━━━━━━━━━━━━━━━\u001b[0m \u001b[32m81.9/81.9 kB\u001b[0m \u001b[31m9.3 MB/s\u001b[0m eta \u001b[36m0:00:00\u001b[0m\n",
            "\u001b[?25hRequirement already satisfied: scipy>=0.19.1 in /usr/local/lib/python3.10/dist-packages (from shapash) (1.11.4)\n",
            "Requirement already satisfied: statsmodels>=0.9.0 in /usr/local/lib/python3.10/dist-packages (from category-encoders>=2.6.0->shapash) (0.14.2)\n",
            "Requirement already satisfied: patsy>=0.5.1 in /usr/local/lib/python3.10/dist-packages (from category-encoders>=2.6.0->shapash) (0.5.6)\n",
            "Requirement already satisfied: Werkzeug<3.1 in /usr/local/lib/python3.10/dist-packages (from dash>=2.3.1->shapash) (3.0.3)\n",
            "Requirement already satisfied: importlib-metadata in /usr/local/lib/python3.10/dist-packages (from dash>=2.3.1->shapash) (7.1.0)\n",
            "Requirement already satisfied: typing-extensions>=4.1.1 in /usr/local/lib/python3.10/dist-packages (from dash>=2.3.1->shapash) (4.12.2)\n",
            "Requirement already satisfied: requests in /usr/local/lib/python3.10/dist-packages (from dash>=2.3.1->shapash) (2.31.0)\n",
            "Collecting retrying (from dash>=2.3.1->shapash)\n",
            "  Downloading retrying-1.3.4-py3-none-any.whl (11 kB)\n",
            "Requirement already satisfied: nest-asyncio in /usr/local/lib/python3.10/dist-packages (from dash>=2.3.1->shapash) (1.6.0)\n",
            "Requirement already satisfied: setuptools in /usr/local/lib/python3.10/dist-packages (from dash>=2.3.1->shapash) (67.7.2)\n",
            "Requirement already satisfied: Jinja2>=3.0 in /usr/local/lib/python3.10/dist-packages (from Flask<2.3.0->shapash) (3.1.4)\n",
            "Requirement already satisfied: itsdangerous>=2.0 in /usr/local/lib/python3.10/dist-packages (from Flask<2.3.0->shapash) (2.2.0)\n",
            "Requirement already satisfied: click>=8.0 in /usr/local/lib/python3.10/dist-packages (from Flask<2.3.0->shapash) (8.1.7)\n",
            "Requirement already satisfied: contourpy>=1.0.1 in /usr/local/lib/python3.10/dist-packages (from matplotlib>=3.2.0->shapash) (1.2.1)\n",
            "Requirement already satisfied: cycler>=0.10 in /usr/local/lib/python3.10/dist-packages (from matplotlib>=3.2.0->shapash) (0.12.1)\n",
            "Requirement already satisfied: fonttools>=4.22.0 in /usr/local/lib/python3.10/dist-packages (from matplotlib>=3.2.0->shapash) (4.53.0)\n",
            "Requirement already satisfied: kiwisolver>=1.0.1 in /usr/local/lib/python3.10/dist-packages (from matplotlib>=3.2.0->shapash) (1.4.5)\n",
            "Requirement already satisfied: packaging>=20.0 in /usr/local/lib/python3.10/dist-packages (from matplotlib>=3.2.0->shapash) (24.1)\n",
            "Requirement already satisfied: pillow>=6.2.0 in /usr/local/lib/python3.10/dist-packages (from matplotlib>=3.2.0->shapash) (9.4.0)\n",
            "Requirement already satisfied: pyparsing>=2.3.1 in /usr/local/lib/python3.10/dist-packages (from matplotlib>=3.2.0->shapash) (3.1.2)\n",
            "Requirement already satisfied: python-dateutil>=2.7 in /usr/local/lib/python3.10/dist-packages (from matplotlib>=3.2.0->shapash) (2.8.2)\n",
            "Requirement already satisfied: fastjsonschema>=2.15 in /usr/local/lib/python3.10/dist-packages (from nbformat>4.2.0->shapash) (2.20.0)\n",
            "Requirement already satisfied: jsonschema>=2.6 in /usr/local/lib/python3.10/dist-packages (from nbformat>4.2.0->shapash) (4.19.2)\n",
            "Requirement already satisfied: jupyter-core!=5.0.*,>=4.12 in /usr/local/lib/python3.10/dist-packages (from nbformat>4.2.0->shapash) (5.7.2)\n",
            "Requirement already satisfied: traitlets>=5.1 in /usr/local/lib/python3.10/dist-packages (from nbformat>4.2.0->shapash) (5.7.1)\n",
            "Requirement already satisfied: llvmlite<0.42,>=0.41.0dev0 in /usr/local/lib/python3.10/dist-packages (from numba>=0.53.1->shapash) (0.41.1)\n",
            "Requirement already satisfied: pytz>=2020.1 in /usr/local/lib/python3.10/dist-packages (from pandas>=2.1.0->shapash) (2023.4)\n",
            "Requirement already satisfied: tzdata>=2022.7 in /usr/local/lib/python3.10/dist-packages (from pandas>=2.1.0->shapash) (2024.1)\n",
            "Requirement already satisfied: tenacity>=6.2.0 in /usr/local/lib/python3.10/dist-packages (from plotly>=5.0.0->shapash) (8.4.1)\n",
            "Requirement already satisfied: joblib>=1.2.0 in /usr/local/lib/python3.10/dist-packages (from scikit-learn>=1.4.0->shapash) (1.4.2)\n",
            "Requirement already satisfied: threadpoolctl>=3.1.0 in /usr/local/lib/python3.10/dist-packages (from scikit-learn>=1.4.0->shapash) (3.5.0)\n",
            "Requirement already satisfied: tqdm>=4.27.0 in /usr/local/lib/python3.10/dist-packages (from shap>=0.45.0->shapash) (4.66.4)\n",
            "Requirement already satisfied: slicer==0.0.8 in /usr/local/lib/python3.10/dist-packages (from shap>=0.45.0->shapash) (0.0.8)\n",
            "Requirement already satisfied: cloudpickle in /usr/local/lib/python3.10/dist-packages (from shap>=0.45.0->shapash) (2.2.1)\n",
            "Requirement already satisfied: MarkupSafe>=2.0 in /usr/local/lib/python3.10/dist-packages (from Jinja2>=3.0->Flask<2.3.0->shapash) (2.1.5)\n",
            "Requirement already satisfied: attrs>=22.2.0 in /usr/local/lib/python3.10/dist-packages (from jsonschema>=2.6->nbformat>4.2.0->shapash) (23.2.0)\n",
            "Requirement already satisfied: jsonschema-specifications>=2023.03.6 in /usr/local/lib/python3.10/dist-packages (from jsonschema>=2.6->nbformat>4.2.0->shapash) (2023.12.1)\n",
            "Requirement already satisfied: referencing>=0.28.4 in /usr/local/lib/python3.10/dist-packages (from jsonschema>=2.6->nbformat>4.2.0->shapash) (0.35.1)\n",
            "Requirement already satisfied: rpds-py>=0.7.1 in /usr/local/lib/python3.10/dist-packages (from jsonschema>=2.6->nbformat>4.2.0->shapash) (0.18.1)\n",
            "Requirement already satisfied: platformdirs>=2.5 in /usr/local/lib/python3.10/dist-packages (from jupyter-core!=5.0.*,>=4.12->nbformat>4.2.0->shapash) (4.2.2)\n",
            "Requirement already satisfied: six in /usr/local/lib/python3.10/dist-packages (from patsy>=0.5.1->category-encoders>=2.6.0->shapash) (1.16.0)\n",
            "Requirement already satisfied: zipp>=0.5 in /usr/local/lib/python3.10/dist-packages (from importlib-metadata->dash>=2.3.1->shapash) (3.19.2)\n",
            "Requirement already satisfied: charset-normalizer<4,>=2 in /usr/local/lib/python3.10/dist-packages (from requests->dash>=2.3.1->shapash) (3.3.2)\n",
            "Requirement already satisfied: idna<4,>=2.5 in /usr/local/lib/python3.10/dist-packages (from requests->dash>=2.3.1->shapash) (3.7)\n",
            "Requirement already satisfied: urllib3<3,>=1.21.1 in /usr/local/lib/python3.10/dist-packages (from requests->dash>=2.3.1->shapash) (2.0.7)\n",
            "Requirement already satisfied: certifi>=2017.4.17 in /usr/local/lib/python3.10/dist-packages (from requests->dash>=2.3.1->shapash) (2024.6.2)\n",
            "Building wheels for collected packages: dash-renderer, dash-daq\n",
            "  Building wheel for dash-renderer (setup.py) ... \u001b[?25l\u001b[?25hdone\n",
            "  Created wheel for dash-renderer: filename=dash_renderer-1.8.3-py3-none-any.whl size=1013921 sha256=e1f7cc2973246388a80d537ee820734f0aea62b9fcc9e87294057677d1d611f7\n",
            "  Stored in directory: /root/.cache/pip/wheels/6c/04/c8/22a0b5a26c3ecb61e17a27d4bbe7fad32d1417bbdbd4d46acf\n",
            "  Building wheel for dash-daq (setup.py) ... \u001b[?25l\u001b[?25hdone\n",
            "  Created wheel for dash-daq: filename=dash_daq-0.5.0-py3-none-any.whl size=669692 sha256=52b51ca5dc7d4e4c8c567225e0d753be33c4fbf367008d7dd72a88977138bbef\n",
            "  Stored in directory: /root/.cache/pip/wheels/75/14/1b/208d09d5e239391048bdc167759977b41ba65a3d4063aebf6b\n",
            "Successfully built dash-renderer dash-daq\n",
            "Installing collected packages: dash-table, dash-renderer, dash-html-components, dash-core-components, retrying, scikit-learn, pandas, dash, dash-daq, dash-bootstrap-components, category-encoders, shapash\n",
            "  Attempting uninstall: scikit-learn\n",
            "    Found existing installation: scikit-learn 1.2.2\n",
            "    Uninstalling scikit-learn-1.2.2:\n",
            "      Successfully uninstalled scikit-learn-1.2.2\n",
            "  Attempting uninstall: pandas\n",
            "    Found existing installation: pandas 2.0.3\n",
            "    Uninstalling pandas-2.0.3:\n",
            "      Successfully uninstalled pandas-2.0.3\n",
            "\u001b[31mERROR: pip's dependency resolver does not currently take into account all the packages that are installed. This behaviour is the source of the following dependency conflicts.\n",
            "cudf-cu12 24.4.1 requires pandas<2.2.2dev0,>=2.0, but you have pandas 2.2.2 which is incompatible.\n",
            "google-colab 1.0.0 requires pandas==2.0.3, but you have pandas 2.2.2 which is incompatible.\u001b[0m\u001b[31m\n",
            "\u001b[0mSuccessfully installed category-encoders-2.6.3 dash-2.17.1 dash-bootstrap-components-1.6.0 dash-core-components-2.0.0 dash-daq-0.5.0 dash-html-components-2.0.0 dash-renderer-1.8.3 dash-table-5.0.0 pandas-2.2.2 retrying-1.3.4 scikit-learn-1.5.0 shapash-2.5.0\n"
          ]
        }
      ],
      "source": [
        "!pip install shapash"
      ]
    },
    {
      "cell_type": "code",
      "execution_count": null,
      "metadata": {
        "id": "l9qLYzuZXlpP"
      },
      "outputs": [],
      "source": [
        "import pandas as pd\n",
        "import numpy as np\n",
        "from sklearn.cluster import KMeans\n",
        "from lightgbm import LGBMClassifier\n",
        "from shapash import SmartExplainer\n"
      ]
    },
    {
      "cell_type": "code",
      "source": [
        "# Entrenar el modelo LGBMClassifier\n",
        "model = LGBMClassifier(random_state=42)\n",
        "model.fit(df_uno, clusters_predict_series)"
      ],
      "metadata": {
        "colab": {
          "base_uri": "https://localhost:8080/",
          "height": 231
        },
        "id": "IfUmo4X0ANm5",
        "outputId": "67f175e8-c70d-4ef3-a884-8cd2bf65face"
      },
      "execution_count": null,
      "outputs": [
        {
          "output_type": "stream",
          "name": "stdout",
          "text": [
            "[LightGBM] [Info] Auto-choosing row-wise multi-threading, the overhead of testing was 0.001678 seconds.\n",
            "You can set `force_row_wise=true` to remove the overhead.\n",
            "And if memory is not enough, you can set `force_col_wise=true`.\n",
            "[LightGBM] [Info] Total Bins 74\n",
            "[LightGBM] [Info] Number of data points in the train set: 50000, number of used features: 34\n",
            "[LightGBM] [Info] Start training from score -1.536931\n",
            "[LightGBM] [Info] Start training from score -1.383977\n",
            "[LightGBM] [Info] Start training from score -1.208851\n",
            "[LightGBM] [Info] Start training from score -1.444602\n"
          ]
        },
        {
          "output_type": "execute_result",
          "data": {
            "text/plain": [
              "LGBMClassifier(random_state=42)"
            ],
            "text/html": [
              "<style>#sk-container-id-1 {color: black;background-color: white;}#sk-container-id-1 pre{padding: 0;}#sk-container-id-1 div.sk-toggleable {background-color: white;}#sk-container-id-1 label.sk-toggleable__label {cursor: pointer;display: block;width: 100%;margin-bottom: 0;padding: 0.3em;box-sizing: border-box;text-align: center;}#sk-container-id-1 label.sk-toggleable__label-arrow:before {content: \"▸\";float: left;margin-right: 0.25em;color: #696969;}#sk-container-id-1 label.sk-toggleable__label-arrow:hover:before {color: black;}#sk-container-id-1 div.sk-estimator:hover label.sk-toggleable__label-arrow:before {color: black;}#sk-container-id-1 div.sk-toggleable__content {max-height: 0;max-width: 0;overflow: hidden;text-align: left;background-color: #f0f8ff;}#sk-container-id-1 div.sk-toggleable__content pre {margin: 0.2em;color: black;border-radius: 0.25em;background-color: #f0f8ff;}#sk-container-id-1 input.sk-toggleable__control:checked~div.sk-toggleable__content {max-height: 200px;max-width: 100%;overflow: auto;}#sk-container-id-1 input.sk-toggleable__control:checked~label.sk-toggleable__label-arrow:before {content: \"▾\";}#sk-container-id-1 div.sk-estimator input.sk-toggleable__control:checked~label.sk-toggleable__label {background-color: #d4ebff;}#sk-container-id-1 div.sk-label input.sk-toggleable__control:checked~label.sk-toggleable__label {background-color: #d4ebff;}#sk-container-id-1 input.sk-hidden--visually {border: 0;clip: rect(1px 1px 1px 1px);clip: rect(1px, 1px, 1px, 1px);height: 1px;margin: -1px;overflow: hidden;padding: 0;position: absolute;width: 1px;}#sk-container-id-1 div.sk-estimator {font-family: monospace;background-color: #f0f8ff;border: 1px dotted black;border-radius: 0.25em;box-sizing: border-box;margin-bottom: 0.5em;}#sk-container-id-1 div.sk-estimator:hover {background-color: #d4ebff;}#sk-container-id-1 div.sk-parallel-item::after {content: \"\";width: 100%;border-bottom: 1px solid gray;flex-grow: 1;}#sk-container-id-1 div.sk-label:hover label.sk-toggleable__label {background-color: #d4ebff;}#sk-container-id-1 div.sk-serial::before {content: \"\";position: absolute;border-left: 1px solid gray;box-sizing: border-box;top: 0;bottom: 0;left: 50%;z-index: 0;}#sk-container-id-1 div.sk-serial {display: flex;flex-direction: column;align-items: center;background-color: white;padding-right: 0.2em;padding-left: 0.2em;position: relative;}#sk-container-id-1 div.sk-item {position: relative;z-index: 1;}#sk-container-id-1 div.sk-parallel {display: flex;align-items: stretch;justify-content: center;background-color: white;position: relative;}#sk-container-id-1 div.sk-item::before, #sk-container-id-1 div.sk-parallel-item::before {content: \"\";position: absolute;border-left: 1px solid gray;box-sizing: border-box;top: 0;bottom: 0;left: 50%;z-index: -1;}#sk-container-id-1 div.sk-parallel-item {display: flex;flex-direction: column;z-index: 1;position: relative;background-color: white;}#sk-container-id-1 div.sk-parallel-item:first-child::after {align-self: flex-end;width: 50%;}#sk-container-id-1 div.sk-parallel-item:last-child::after {align-self: flex-start;width: 50%;}#sk-container-id-1 div.sk-parallel-item:only-child::after {width: 0;}#sk-container-id-1 div.sk-dashed-wrapped {border: 1px dashed gray;margin: 0 0.4em 0.5em 0.4em;box-sizing: border-box;padding-bottom: 0.4em;background-color: white;}#sk-container-id-1 div.sk-label label {font-family: monospace;font-weight: bold;display: inline-block;line-height: 1.2em;}#sk-container-id-1 div.sk-label-container {text-align: center;}#sk-container-id-1 div.sk-container {/* jupyter's `normalize.less` sets `[hidden] { display: none; }` but bootstrap.min.css set `[hidden] { display: none !important; }` so we also need the `!important` here to be able to override the default hidden behavior on the sphinx rendered scikit-learn.org. See: https://github.com/scikit-learn/scikit-learn/issues/21755 */display: inline-block !important;position: relative;}#sk-container-id-1 div.sk-text-repr-fallback {display: none;}</style><div id=\"sk-container-id-1\" class=\"sk-top-container\"><div class=\"sk-text-repr-fallback\"><pre>LGBMClassifier(random_state=42)</pre><b>In a Jupyter environment, please rerun this cell to show the HTML representation or trust the notebook. <br />On GitHub, the HTML representation is unable to render, please try loading this page with nbviewer.org.</b></div><div class=\"sk-container\" hidden><div class=\"sk-item\"><div class=\"sk-estimator sk-toggleable\"><input class=\"sk-toggleable__control sk-hidden--visually\" id=\"sk-estimator-id-1\" type=\"checkbox\" checked><label for=\"sk-estimator-id-1\" class=\"sk-toggleable__label sk-toggleable__label-arrow\">LGBMClassifier</label><div class=\"sk-toggleable__content\"><pre>LGBMClassifier(random_state=42)</pre></div></div></div></div></div>"
            ]
          },
          "metadata": {},
          "execution_count": 72
        }
      ]
    },
    {
      "cell_type": "code",
      "source": [
        "# Agrupación de características\n",
        "features_groups = {\n",
        "    \"Mes\": [\"Mes__Agosto\", \"Mes__Diciembre\", \"Mes__Enero\", \"Mes__Febrero\", \"Mes__Julio\",\n",
        "            \"Mes__Junio\", \"Mes__Marzo\", \"Mes__Mayo\", \"Mes__Noviembre\", \"Mes__Octubre\",\n",
        "            \"Mes__Septiembre\"],\n",
        "    \"RegionOrigen\": [\"RegionOrigen__AméricaCentralyelCaribe\", \"RegionOrigen__AméricadelNorte\",\n",
        "                     \"RegionOrigen__AméricadelSur\", \"RegionOrigen__Asia\", \"RegionOrigen__Europa\",\n",
        "                     \"RegionOrigen__Oceanía\", \"RegionOrigen__Otros\"],\n",
        "    \"MotivoViaje\": [\"MotivoViaje__Casosespecíficosyotros\", \"MotivoViaje__EstudiosyPrácticas\",\n",
        "                    \"MotivoViaje__EventosyConferencias\", \"MotivoViaje__FamiliayRelacionesMaritales\",\n",
        "                    \"MotivoViaje__NegociosyTrabajo\", \"MotivoViaje__ProtecciónySituacionesEspeciales\",\n",
        "                    \"MotivoViaje__SaludyTratamientoMédico\", \"MotivoViaje__TránsitoyMovilidad\",\n",
        "                    \"MotivoViaje__TurismoyViajes\"],\n",
        "    \"RegionHospedaje\": [\"RegionHospedaje__RegiónAmazónica\", \"RegionHospedaje__RegiónAndina\",\n",
        "                        \"RegionHospedaje__RegiónCaribe\", \"RegionHospedaje__RegiónOrinoquía\",\n",
        "                        \"RegionHospedaje__RegiónPacífica\"],\n",
        "    \"Transporte\": [\"Transporte__Otros\", \"Transporte__Terrestre\"]\n",
        "}\n",
        "\n",
        "# Etiquetas de los grupos de características\n",
        "groups_labels = {\n",
        "    'Mes': 'Mes de viaje',\n",
        "    'RegionOrigen': 'Región de origen',\n",
        "    'MotivoViaje': 'Motivo del viaje',\n",
        "    'RegionHospedaje': 'Región de hospedaje',\n",
        "    'Transporte': 'Medio de transporte'\n",
        "}"
      ],
      "metadata": {
        "id": "UPcazU_kAYIQ"
      },
      "execution_count": null,
      "outputs": []
    },
    {
      "cell_type": "code",
      "execution_count": null,
      "metadata": {
        "colab": {
          "base_uri": "https://localhost:8080/"
        },
        "id": "bIvKfPDJZP0A",
        "outputId": "5de66eff-be1a-4657-8d81-674d0b9f8320"
      },
      "outputs": [
        {
          "output_type": "stream",
          "name": "stdout",
          "text": [
            "INFO: Shap explainer type - <shap.explainers._tree.TreeExplainer object at 0x7e080e4bde40>\n"
          ]
        }
      ],
      "source": [
        "# Crear un SmartExplainer de Shapash\n",
        "xpl = SmartExplainer(model=model, features_groups=features_groups, features_dict=groups_labels)\n",
        "xpl.compile(x=df_uno, y_pred=clusters_predict_series)"
      ]
    },
    {
      "cell_type": "markdown",
      "source": [
        "## Cluster 3"
      ],
      "metadata": {
        "id": "EtvtfDCItIzq"
      }
    },
    {
      "cell_type": "code",
      "execution_count": null,
      "metadata": {
        "colab": {
          "base_uri": "https://localhost:8080/",
          "height": 517
        },
        "id": "4fR9364TZSW5",
        "outputId": "7d1a458e-adf8-43d8-b78e-cb11318375d8"
      },
      "outputs": [
        {
          "output_type": "display_data",
          "data": {
            "text/html": [
              "<html>\n",
              "<head><meta charset=\"utf-8\" /></head>\n",
              "<body>\n",
              "    <div>            <script src=\"https://cdnjs.cloudflare.com/ajax/libs/mathjax/2.7.5/MathJax.js?config=TeX-AMS-MML_SVG\"></script><script type=\"text/javascript\">if (window.MathJax && window.MathJax.Hub && window.MathJax.Hub.Config) {window.MathJax.Hub.Config({SVG: {font: \"STIX-Web\"}});}</script>                <script type=\"text/javascript\">window.PlotlyConfig = {MathJaxConfig: 'local'};</script>\n",
              "        <script charset=\"utf-8\" src=\"https://cdn.plot.ly/plotly-2.24.1.min.js\"></script>                <div id=\"f6a867bf-1e96-4569-a90e-28dc9ba90223\" class=\"plotly-graph-div\" style=\"height:500px; width:900px;\"></div>            <script type=\"text/javascript\">                                    window.PLOTLYENV=window.PLOTLYENV || {};                                    if (document.getElementById(\"f6a867bf-1e96-4569-a90e-28dc9ba90223\")) {                    Plotly.newPlot(                        \"f6a867bf-1e96-4569-a90e-28dc9ba90223\",                        [{\"customdata\":[\"\\u003cb\\u003eMedio de transporte\",\"\\u003cb\\u003eMotivo del viaje\",\"RangoEdad_\",\"\\u003cb\\u003eMes de viaje\",\"\\u003cb\\u003eRegi\\u00f3n de hospedaje\",\"\\u003cb\\u003eRegi\\u00f3n de origen\"],\"hovertemplate\":\"Feature: %{customdata}\\u003cbr \\u002f\\u003eContribution: %{x:.4f}\\u003cextra\\u003e\\u003c\\u002fextra\\u003e\",\"marker\":{\"color\":[\"rgb(245, 133, 24)\",\"rgb(245, 133, 24)\",\"rgba(244, 192, 0, 1.0)\",\"rgb(245, 133, 24)\",\"rgb(245, 133, 24)\",\"rgb(245, 133, 24)\"],\"line\":{\"color\":\"rgba(52, 55, 54, 0.8)\",\"width\":0.5}},\"name\":\"Global\",\"orientation\":\"h\",\"x\":[0.0154,0.0899,0.1052,0.1471,0.2871,0.3552],\"y\":[\"\\u003cb\\u003eMedio de transporte\",\"\\u003cb\\u003eMotivo del viaje\",\"RangoEdad_\",\"\\u003cb\\u003eMes de viaje\",\"\\u003cb\\u003eRegi\\u00f3n de hospedaje\",\"\\u003cb\\u003eRegi\\u00f3n de origen\"],\"type\":\"bar\"}],                        {\"autosize\":false,\"barmode\":\"group\",\"height\":500,\"hovermode\":\"closest\",\"margin\":{\"b\":50,\"l\":160,\"r\":0,\"t\":95},\"template\":{\"data\":{\"scatter\":[{\"type\":\"scatter\"}]}},\"title\":{\"font\":{\"color\":\"rgb(50, 50, 50)\",\"family\":\"Arial\",\"size\":24},\"text\":\"Features Importance\\u003cbr\\u003e\\u003csup\\u003eResponse: \\u003cb\\u003e3\\u003c\\u002fb\\u003e - Total number of features: 35\\u003c\\u002fsup\\u003e\",\"x\":0.5,\"xanchor\":\"center\",\"y\":0.9,\"yanchor\":\"middle\"},\"width\":900,\"xaxis\":{\"title\":{\"font\":{\"color\":\"rgb(50, 50, 50)\",\"family\":\"Arial Black\",\"size\":16},\"text\":\"Mean absolute Contribution\"}},\"yaxis\":{\"title\":{\"font\":{\"color\":\"rgb(50, 50, 50)\",\"family\":\"Arial Black\",\"size\":16}},\"ticktext\":[\"\\u003cb\\u003eMedio de transporte\",\"\\u003cb\\u003eMotivo del viaje\",\"RangoEdad_\",\"\\u003cb\\u003eMes de viaje\",\"\\u003cb\\u003eRegi\\u00f3n de hospedaje\",\"\\u003cb\\u003eRegi\\u00f3n de origen\"],\"tickvals\":[\"\\u003cb\\u003eMedio de transporte\",\"\\u003cb\\u003eMotivo del viaje\",\"RangoEdad_\",\"\\u003cb\\u003eMes de viaje\",\"\\u003cb\\u003eRegi\\u00f3n de hospedaje\",\"\\u003cb\\u003eRegi\\u00f3n de origen\"],\"tickmode\":\"array\",\"dtick\":1,\"automargin\":true}},                        {\"responsive\": true}                    ).then(function(){\n",
              "                            \n",
              "var gd = document.getElementById('f6a867bf-1e96-4569-a90e-28dc9ba90223');\n",
              "var x = new MutationObserver(function (mutations, observer) {{\n",
              "        var display = window.getComputedStyle(gd).display;\n",
              "        if (!display || display === 'none') {{\n",
              "            console.log([gd, 'removed!']);\n",
              "            Plotly.purge(gd);\n",
              "            observer.disconnect();\n",
              "        }}\n",
              "}});\n",
              "\n",
              "// Listen for the removal of the full notebook cells\n",
              "var notebookContainer = gd.closest('#notebook-container');\n",
              "if (notebookContainer) {{\n",
              "    x.observe(notebookContainer, {childList: true});\n",
              "}}\n",
              "\n",
              "// Listen for the clearing of the current output cell\n",
              "var outputEl = gd.closest('.output');\n",
              "if (outputEl) {{\n",
              "    x.observe(outputEl, {childList: true});\n",
              "}}\n",
              "\n",
              "                        })                };                            </script>        </div>\n",
              "</body>\n",
              "</html>"
            ]
          },
          "metadata": {}
        }
      ],
      "source": [
        "# Mostrar la importancia de las características\n",
        "xpl.plot.features_importance()"
      ]
    },
    {
      "cell_type": "code",
      "execution_count": null,
      "metadata": {
        "colab": {
          "base_uri": "https://localhost:8080/",
          "height": 517
        },
        "id": "nxamBDLmZoF5",
        "outputId": "0cf88443-60ca-45f8-a3c8-fd6848ca3e1b"
      },
      "outputs": [
        {
          "output_type": "display_data",
          "data": {
            "text/html": [
              "<html>\n",
              "<head><meta charset=\"utf-8\" /></head>\n",
              "<body>\n",
              "    <div>            <script src=\"https://cdnjs.cloudflare.com/ajax/libs/mathjax/2.7.5/MathJax.js?config=TeX-AMS-MML_SVG\"></script><script type=\"text/javascript\">if (window.MathJax && window.MathJax.Hub && window.MathJax.Hub.Config) {window.MathJax.Hub.Config({SVG: {font: \"STIX-Web\"}});}</script>                <script type=\"text/javascript\">window.PlotlyConfig = {MathJaxConfig: 'local'};</script>\n",
              "        <script charset=\"utf-8\" src=\"https://cdn.plot.ly/plotly-2.24.1.min.js\"></script>                <div id=\"4a8cf625-9083-423b-bbd1-533afb67e265\" class=\"plotly-graph-div\" style=\"height:500px; width:900px;\"></div>            <script type=\"text/javascript\">                                    window.PLOTLYENV=window.PLOTLYENV || {};                                    if (document.getElementById(\"4a8cf625-9083-423b-bbd1-533afb67e265\")) {                    Plotly.newPlot(                        \"4a8cf625-9083-423b-bbd1-533afb67e265\",                        [{\"customdata\":[\"MotivoViaje__Protecci\\u00f3nySituacionesEspeciales\",\"MotivoViaje__EstudiosyPr\\u00e1cticas\",\"MotivoViaje__SaludyTratamientoM\\u00e9dico\",\"MotivoViaje__Tr\\u00e1nsitoyMovilidad\",\"MotivoViaje__FamiliayRelacionesMaritales\",\"MotivoViaje__Casosespec\\u00edficosyotros\",\"MotivoViaje__EventosyConferencias\",\"MotivoViaje__NegociosyTrabajo\",\"MotivoViaje__TurismoyViajes\"],\"hovertemplate\":\"Feature: %{customdata}\\u003cbr \\u002f\\u003eContribution: %{x:.4f}\\u003cextra\\u003e\\u003c\\u002fextra\\u003e\",\"marker\":{\"color\":[\"rgba(244, 192, 0, 1.0)\",\"rgba(244, 192, 0, 1.0)\",\"rgba(244, 192, 0, 1.0)\",\"rgba(244, 192, 0, 1.0)\",\"rgba(244, 192, 0, 1.0)\",\"rgba(244, 192, 0, 1.0)\",\"rgba(244, 192, 0, 1.0)\",\"rgba(244, 192, 0, 1.0)\",\"rgba(244, 192, 0, 1.0)\"],\"line\":{\"color\":\"rgba(52, 55, 54, 0.8)\",\"width\":0.5}},\"name\":\"Global\",\"orientation\":\"h\",\"x\":[0.0,0.0001,0.0008,0.0019,0.0026,0.0027,0.0101,0.0147,0.0458],\"y\":[\"MotivoViaje__Protecci\\u00f3nySituacionesEspeciales\",\"MotivoViaje__EstudiosyPr\\u00e1cticas\",\"MotivoViaje__SaludyTratamientoM\\u00e9dico\",\"MotivoViaje__Tr\\u00e1nsitoyMovilidad\",\"MotivoViaje__FamiliayRelacionesMaritales\",\"MotivoViaje__Casosespec\\u00edficosyotros\",\"MotivoViaje__EventosyConferencias\",\"MotivoViaje__NegociosyTrabajo\",\"MotivoViaje__TurismoyViajes\"],\"type\":\"bar\"}],                        {\"autosize\":false,\"barmode\":\"group\",\"height\":500,\"hovermode\":\"closest\",\"margin\":{\"b\":50,\"l\":160,\"r\":0,\"t\":95},\"template\":{\"data\":{\"scatter\":[{\"type\":\"scatter\"}]}},\"title\":{\"font\":{\"color\":\"rgb(50, 50, 50)\",\"family\":\"Arial\",\"size\":24},\"text\":\"Features Importance - Motivo del viaje\\u003cbr\\u003e\\u003csup\\u003eResponse: \\u003cb\\u003e3\\u003c\\u002fb\\u003e - Total number of features: 35\\u003c\\u002fsup\\u003e\",\"x\":0.5,\"xanchor\":\"center\",\"y\":0.9,\"yanchor\":\"middle\"},\"width\":900,\"xaxis\":{\"title\":{\"font\":{\"color\":\"rgb(50, 50, 50)\",\"family\":\"Arial Black\",\"size\":16},\"text\":\"Mean absolute Contribution\"}},\"yaxis\":{\"title\":{\"font\":{\"color\":\"rgb(50, 50, 50)\",\"family\":\"Arial Black\",\"size\":16}},\"ticktext\":[\"MotivoViaje__Protecci\\u00f3ny...les\",\"MotivoViaje__EstudiosyPr...cas\",\"MotivoViaje__SaludyTrata...ico\",\"MotivoViaje__Tr\\u00e1nsitoyMo...dad\",\"MotivoViaje__FamiliayRel...les\",\"MotivoViaje__Casosespec\\u00ed...ros\",\"MotivoViaje__EventosyCon...ias\",\"MotivoViaje__NegociosyTrabajo\",\"MotivoViaje__TurismoyViajes\"],\"tickvals\":[\"MotivoViaje__Protecci\\u00f3nySituacionesEspeciales\",\"MotivoViaje__EstudiosyPr\\u00e1cticas\",\"MotivoViaje__SaludyTratamientoM\\u00e9dico\",\"MotivoViaje__Tr\\u00e1nsitoyMovilidad\",\"MotivoViaje__FamiliayRelacionesMaritales\",\"MotivoViaje__Casosespec\\u00edficosyotros\",\"MotivoViaje__EventosyConferencias\",\"MotivoViaje__NegociosyTrabajo\",\"MotivoViaje__TurismoyViajes\"],\"tickmode\":\"array\",\"dtick\":1,\"automargin\":true}},                        {\"responsive\": true}                    ).then(function(){\n",
              "                            \n",
              "var gd = document.getElementById('4a8cf625-9083-423b-bbd1-533afb67e265');\n",
              "var x = new MutationObserver(function (mutations, observer) {{\n",
              "        var display = window.getComputedStyle(gd).display;\n",
              "        if (!display || display === 'none') {{\n",
              "            console.log([gd, 'removed!']);\n",
              "            Plotly.purge(gd);\n",
              "            observer.disconnect();\n",
              "        }}\n",
              "}});\n",
              "\n",
              "// Listen for the removal of the full notebook cells\n",
              "var notebookContainer = gd.closest('#notebook-container');\n",
              "if (notebookContainer) {{\n",
              "    x.observe(notebookContainer, {childList: true});\n",
              "}}\n",
              "\n",
              "// Listen for the clearing of the current output cell\n",
              "var outputEl = gd.closest('.output');\n",
              "if (outputEl) {{\n",
              "    x.observe(outputEl, {childList: true});\n",
              "}}\n",
              "\n",
              "                        })                };                            </script>        </div>\n",
              "</body>\n",
              "</html>"
            ]
          },
          "metadata": {}
        }
      ],
      "source": [
        "# Mostrar la importancia de las características del grupo \"MotivoViaje\"\n",
        "xpl.plot.features_importance(group_name='MotivoViaje')"
      ]
    },
    {
      "cell_type": "code",
      "source": [
        "# Mostrar la importancia de las características del grupo \"MotivoViaje\"\n",
        "xpl.plot.features_importance(group_name='Mes')"
      ],
      "metadata": {
        "colab": {
          "base_uri": "https://localhost:8080/",
          "height": 517
        },
        "id": "2ij-nM4pCZIJ",
        "outputId": "2f41cafb-8075-486b-b7e4-f45ebff289a4"
      },
      "execution_count": null,
      "outputs": [
        {
          "output_type": "display_data",
          "data": {
            "text/html": [
              "<html>\n",
              "<head><meta charset=\"utf-8\" /></head>\n",
              "<body>\n",
              "    <div>            <script src=\"https://cdnjs.cloudflare.com/ajax/libs/mathjax/2.7.5/MathJax.js?config=TeX-AMS-MML_SVG\"></script><script type=\"text/javascript\">if (window.MathJax && window.MathJax.Hub && window.MathJax.Hub.Config) {window.MathJax.Hub.Config({SVG: {font: \"STIX-Web\"}});}</script>                <script type=\"text/javascript\">window.PlotlyConfig = {MathJaxConfig: 'local'};</script>\n",
              "        <script charset=\"utf-8\" src=\"https://cdn.plot.ly/plotly-2.24.1.min.js\"></script>                <div id=\"919536ad-176c-419b-89cd-ac76aa70ceed\" class=\"plotly-graph-div\" style=\"height:500px; width:900px;\"></div>            <script type=\"text/javascript\">                                    window.PLOTLYENV=window.PLOTLYENV || {};                                    if (document.getElementById(\"919536ad-176c-419b-89cd-ac76aa70ceed\")) {                    Plotly.newPlot(                        \"919536ad-176c-419b-89cd-ac76aa70ceed\",                        [{\"customdata\":[\"Mes__Mayo\",\"Mes__Junio\",\"Mes__Octubre\",\"Mes__Enero\",\"Mes__Marzo\",\"Mes__Febrero\",\"Mes__Septiembre\",\"Mes__Noviembre\",\"Mes__Julio\",\"Mes__Diciembre\",\"Mes__Agosto\"],\"hovertemplate\":\"Feature: %{customdata}\\u003cbr \\u002f\\u003eContribution: %{x:.4f}\\u003cextra\\u003e\\u003c\\u002fextra\\u003e\",\"marker\":{\"color\":[\"rgba(244, 192, 0, 1.0)\",\"rgba(244, 192, 0, 1.0)\",\"rgba(244, 192, 0, 1.0)\",\"rgba(244, 192, 0, 1.0)\",\"rgba(244, 192, 0, 1.0)\",\"rgba(244, 192, 0, 1.0)\",\"rgba(244, 192, 0, 1.0)\",\"rgba(244, 192, 0, 1.0)\",\"rgba(244, 192, 0, 1.0)\",\"rgba(244, 192, 0, 1.0)\",\"rgba(244, 192, 0, 1.0)\"],\"line\":{\"color\":\"rgba(52, 55, 54, 0.8)\",\"width\":0.5}},\"name\":\"Global\",\"orientation\":\"h\",\"x\":[0.0018,0.0051,0.0056,0.0067,0.0092,0.0099,0.0103,0.0187,0.0187,0.029,0.0534],\"y\":[\"Mes__Mayo\",\"Mes__Junio\",\"Mes__Octubre\",\"Mes__Enero\",\"Mes__Marzo\",\"Mes__Febrero\",\"Mes__Septiembre\",\"Mes__Noviembre\",\"Mes__Julio\",\"Mes__Diciembre\",\"Mes__Agosto\"],\"type\":\"bar\"}],                        {\"autosize\":false,\"barmode\":\"group\",\"height\":500,\"hovermode\":\"closest\",\"margin\":{\"b\":50,\"l\":160,\"r\":0,\"t\":95},\"template\":{\"data\":{\"scatter\":[{\"type\":\"scatter\"}]}},\"title\":{\"font\":{\"color\":\"rgb(50, 50, 50)\",\"family\":\"Arial\",\"size\":24},\"text\":\"Features Importance - Mes de viaje\\u003cbr\\u003e\\u003csup\\u003eResponse: \\u003cb\\u003e3\\u003c\\u002fb\\u003e - Total number of features: 35\\u003c\\u002fsup\\u003e\",\"x\":0.5,\"xanchor\":\"center\",\"y\":0.9,\"yanchor\":\"middle\"},\"width\":900,\"xaxis\":{\"title\":{\"font\":{\"color\":\"rgb(50, 50, 50)\",\"family\":\"Arial Black\",\"size\":16},\"text\":\"Mean absolute Contribution\"}},\"yaxis\":{\"title\":{\"font\":{\"color\":\"rgb(50, 50, 50)\",\"family\":\"Arial Black\",\"size\":16}},\"ticktext\":[\"Mes__Mayo\",\"Mes__Junio\",\"Mes__Octubre\",\"Mes__Enero\",\"Mes__Marzo\",\"Mes__Febrero\",\"Mes__Septiembre\",\"Mes__Noviembre\",\"Mes__Julio\",\"Mes__Diciembre\",\"Mes__Agosto\"],\"tickvals\":[\"Mes__Mayo\",\"Mes__Junio\",\"Mes__Octubre\",\"Mes__Enero\",\"Mes__Marzo\",\"Mes__Febrero\",\"Mes__Septiembre\",\"Mes__Noviembre\",\"Mes__Julio\",\"Mes__Diciembre\",\"Mes__Agosto\"],\"tickmode\":\"array\",\"dtick\":1,\"automargin\":true}},                        {\"responsive\": true}                    ).then(function(){\n",
              "                            \n",
              "var gd = document.getElementById('919536ad-176c-419b-89cd-ac76aa70ceed');\n",
              "var x = new MutationObserver(function (mutations, observer) {{\n",
              "        var display = window.getComputedStyle(gd).display;\n",
              "        if (!display || display === 'none') {{\n",
              "            console.log([gd, 'removed!']);\n",
              "            Plotly.purge(gd);\n",
              "            observer.disconnect();\n",
              "        }}\n",
              "}});\n",
              "\n",
              "// Listen for the removal of the full notebook cells\n",
              "var notebookContainer = gd.closest('#notebook-container');\n",
              "if (notebookContainer) {{\n",
              "    x.observe(notebookContainer, {childList: true});\n",
              "}}\n",
              "\n",
              "// Listen for the clearing of the current output cell\n",
              "var outputEl = gd.closest('.output');\n",
              "if (outputEl) {{\n",
              "    x.observe(outputEl, {childList: true});\n",
              "}}\n",
              "\n",
              "                        })                };                            </script>        </div>\n",
              "</body>\n",
              "</html>"
            ]
          },
          "metadata": {}
        }
      ]
    },
    {
      "cell_type": "code",
      "source": [
        "# Mostrar la importancia de las características del grupo \"MotivoViaje\"\n",
        "xpl.plot.features_importance(group_name='RegionOrigen')"
      ],
      "metadata": {
        "colab": {
          "base_uri": "https://localhost:8080/",
          "height": 517
        },
        "id": "HYoazMzvCpw1",
        "outputId": "bcf3aaa3-0dde-417c-db17-69774cf0907c"
      },
      "execution_count": null,
      "outputs": [
        {
          "output_type": "display_data",
          "data": {
            "text/html": [
              "<html>\n",
              "<head><meta charset=\"utf-8\" /></head>\n",
              "<body>\n",
              "    <div>            <script src=\"https://cdnjs.cloudflare.com/ajax/libs/mathjax/2.7.5/MathJax.js?config=TeX-AMS-MML_SVG\"></script><script type=\"text/javascript\">if (window.MathJax && window.MathJax.Hub && window.MathJax.Hub.Config) {window.MathJax.Hub.Config({SVG: {font: \"STIX-Web\"}});}</script>                <script type=\"text/javascript\">window.PlotlyConfig = {MathJaxConfig: 'local'};</script>\n",
              "        <script charset=\"utf-8\" src=\"https://cdn.plot.ly/plotly-2.24.1.min.js\"></script>                <div id=\"f79e50fe-45e1-47a5-b6d1-045da803f4c4\" class=\"plotly-graph-div\" style=\"height:500px; width:900px;\"></div>            <script type=\"text/javascript\">                                    window.PLOTLYENV=window.PLOTLYENV || {};                                    if (document.getElementById(\"f79e50fe-45e1-47a5-b6d1-045da803f4c4\")) {                    Plotly.newPlot(                        \"f79e50fe-45e1-47a5-b6d1-045da803f4c4\",                        [{\"customdata\":[\"RegionOrigen__Otros\",\"RegionOrigen__Ocean\\u00eda\",\"RegionOrigen__Asia\",\"RegionOrigen__Am\\u00e9ricadelNorte\",\"RegionOrigen__Europa\",\"RegionOrigen__Am\\u00e9ricadelSur\",\"RegionOrigen__Am\\u00e9ricaCentralyelCaribe\"],\"hovertemplate\":\"Feature: %{customdata}\\u003cbr \\u002f\\u003eContribution: %{x:.4f}\\u003cextra\\u003e\\u003c\\u002fextra\\u003e\",\"marker\":{\"color\":[\"rgba(244, 192, 0, 1.0)\",\"rgba(244, 192, 0, 1.0)\",\"rgba(244, 192, 0, 1.0)\",\"rgba(244, 192, 0, 1.0)\",\"rgba(244, 192, 0, 1.0)\",\"rgba(244, 192, 0, 1.0)\",\"rgba(244, 192, 0, 1.0)\"],\"line\":{\"color\":\"rgba(52, 55, 54, 0.8)\",\"width\":0.5}},\"name\":\"Global\",\"orientation\":\"h\",\"x\":[0.0001,0.0128,0.0242,0.0546,0.0682,0.0957,0.1278],\"y\":[\"RegionOrigen__Otros\",\"RegionOrigen__Ocean\\u00eda\",\"RegionOrigen__Asia\",\"RegionOrigen__Am\\u00e9ricadelNorte\",\"RegionOrigen__Europa\",\"RegionOrigen__Am\\u00e9ricadelSur\",\"RegionOrigen__Am\\u00e9ricaCentralyelCaribe\"],\"type\":\"bar\"}],                        {\"autosize\":false,\"barmode\":\"group\",\"height\":500,\"hovermode\":\"closest\",\"margin\":{\"b\":50,\"l\":160,\"r\":0,\"t\":95},\"template\":{\"data\":{\"scatter\":[{\"type\":\"scatter\"}]}},\"title\":{\"font\":{\"color\":\"rgb(50, 50, 50)\",\"family\":\"Arial\",\"size\":24},\"text\":\"Features Importance - Regi\\u00f3n de origen\\u003cbr\\u003e\\u003csup\\u003eResponse: \\u003cb\\u003e3\\u003c\\u002fb\\u003e - Total number of features: 35\\u003c\\u002fsup\\u003e\",\"x\":0.5,\"xanchor\":\"center\",\"y\":0.9,\"yanchor\":\"middle\"},\"width\":900,\"xaxis\":{\"title\":{\"font\":{\"color\":\"rgb(50, 50, 50)\",\"family\":\"Arial Black\",\"size\":16},\"text\":\"Mean absolute Contribution\"}},\"yaxis\":{\"title\":{\"font\":{\"color\":\"rgb(50, 50, 50)\",\"family\":\"Arial Black\",\"size\":16}},\"ticktext\":[\"RegionOrigen__Otros\",\"RegionOrigen__Ocean\\u00eda\",\"RegionOrigen__Asia\",\"RegionOrigen__Am\\u00e9ricadelNorte\",\"RegionOrigen__Europa\",\"RegionOrigen__Am\\u00e9ricadelSur\",\"RegionOrigen__Am\\u00e9ricaCen...ibe\"],\"tickvals\":[\"RegionOrigen__Otros\",\"RegionOrigen__Ocean\\u00eda\",\"RegionOrigen__Asia\",\"RegionOrigen__Am\\u00e9ricadelNorte\",\"RegionOrigen__Europa\",\"RegionOrigen__Am\\u00e9ricadelSur\",\"RegionOrigen__Am\\u00e9ricaCentralyelCaribe\"],\"tickmode\":\"array\",\"dtick\":1,\"automargin\":true}},                        {\"responsive\": true}                    ).then(function(){\n",
              "                            \n",
              "var gd = document.getElementById('f79e50fe-45e1-47a5-b6d1-045da803f4c4');\n",
              "var x = new MutationObserver(function (mutations, observer) {{\n",
              "        var display = window.getComputedStyle(gd).display;\n",
              "        if (!display || display === 'none') {{\n",
              "            console.log([gd, 'removed!']);\n",
              "            Plotly.purge(gd);\n",
              "            observer.disconnect();\n",
              "        }}\n",
              "}});\n",
              "\n",
              "// Listen for the removal of the full notebook cells\n",
              "var notebookContainer = gd.closest('#notebook-container');\n",
              "if (notebookContainer) {{\n",
              "    x.observe(notebookContainer, {childList: true});\n",
              "}}\n",
              "\n",
              "// Listen for the clearing of the current output cell\n",
              "var outputEl = gd.closest('.output');\n",
              "if (outputEl) {{\n",
              "    x.observe(outputEl, {childList: true});\n",
              "}}\n",
              "\n",
              "                        })                };                            </script>        </div>\n",
              "</body>\n",
              "</html>"
            ]
          },
          "metadata": {}
        }
      ]
    },
    {
      "cell_type": "code",
      "source": [
        "# Mostrar la importancia de las características del grupo \"MotivoViaje\"\n",
        "xpl.plot.features_importance(group_name='RegionHospedaje')"
      ],
      "metadata": {
        "colab": {
          "base_uri": "https://localhost:8080/",
          "height": 517
        },
        "id": "LbTxSYdECzf1",
        "outputId": "289c4e59-6287-4ea6-c964-750406f9e0b5"
      },
      "execution_count": null,
      "outputs": [
        {
          "output_type": "display_data",
          "data": {
            "text/html": [
              "<html>\n",
              "<head><meta charset=\"utf-8\" /></head>\n",
              "<body>\n",
              "    <div>            <script src=\"https://cdnjs.cloudflare.com/ajax/libs/mathjax/2.7.5/MathJax.js?config=TeX-AMS-MML_SVG\"></script><script type=\"text/javascript\">if (window.MathJax && window.MathJax.Hub && window.MathJax.Hub.Config) {window.MathJax.Hub.Config({SVG: {font: \"STIX-Web\"}});}</script>                <script type=\"text/javascript\">window.PlotlyConfig = {MathJaxConfig: 'local'};</script>\n",
              "        <script charset=\"utf-8\" src=\"https://cdn.plot.ly/plotly-2.24.1.min.js\"></script>                <div id=\"3127b07f-1a0e-44ab-868a-0ef364657107\" class=\"plotly-graph-div\" style=\"height:500px; width:900px;\"></div>            <script type=\"text/javascript\">                                    window.PLOTLYENV=window.PLOTLYENV || {};                                    if (document.getElementById(\"3127b07f-1a0e-44ab-868a-0ef364657107\")) {                    Plotly.newPlot(                        \"3127b07f-1a0e-44ab-868a-0ef364657107\",                        [{\"customdata\":[\"RegionHospedaje__Regi\\u00f3nAmaz\\u00f3nica\",\"RegionHospedaje__Regi\\u00f3nOrinoqu\\u00eda\",\"RegionHospedaje__Regi\\u00f3nAndina\",\"RegionHospedaje__Regi\\u00f3nPac\\u00edfica\",\"RegionHospedaje__Regi\\u00f3nCaribe\"],\"hovertemplate\":\"Feature: %{customdata}\\u003cbr \\u002f\\u003eContribution: %{x:.4f}\\u003cextra\\u003e\\u003c\\u002fextra\\u003e\",\"marker\":{\"color\":[\"rgba(244, 192, 0, 1.0)\",\"rgba(244, 192, 0, 1.0)\",\"rgba(244, 192, 0, 1.0)\",\"rgba(244, 192, 0, 1.0)\",\"rgba(244, 192, 0, 1.0)\"],\"line\":{\"color\":\"rgba(52, 55, 54, 0.8)\",\"width\":0.5}},\"name\":\"Global\",\"orientation\":\"h\",\"x\":[0.0018,0.0034,0.0295,0.099,0.1489],\"y\":[\"RegionHospedaje__Regi\\u00f3nAmaz\\u00f3nica\",\"RegionHospedaje__Regi\\u00f3nOrinoqu\\u00eda\",\"RegionHospedaje__Regi\\u00f3nAndina\",\"RegionHospedaje__Regi\\u00f3nPac\\u00edfica\",\"RegionHospedaje__Regi\\u00f3nCaribe\"],\"type\":\"bar\"}],                        {\"autosize\":false,\"barmode\":\"group\",\"height\":500,\"hovermode\":\"closest\",\"margin\":{\"b\":50,\"l\":160,\"r\":0,\"t\":95},\"template\":{\"data\":{\"scatter\":[{\"type\":\"scatter\"}]}},\"title\":{\"font\":{\"color\":\"rgb(50, 50, 50)\",\"family\":\"Arial\",\"size\":24},\"text\":\"Features Importance - Regi\\u00f3n de hospedaje\\u003cbr\\u003e\\u003csup\\u003eResponse: \\u003cb\\u003e3\\u003c\\u002fb\\u003e - Total number of features: 35\\u003c\\u002fsup\\u003e\",\"x\":0.5,\"xanchor\":\"center\",\"y\":0.9,\"yanchor\":\"middle\"},\"width\":900,\"xaxis\":{\"title\":{\"font\":{\"color\":\"rgb(50, 50, 50)\",\"family\":\"Arial Black\",\"size\":16},\"text\":\"Mean absolute Contribution\"}},\"yaxis\":{\"title\":{\"font\":{\"color\":\"rgb(50, 50, 50)\",\"family\":\"Arial Black\",\"size\":16}},\"ticktext\":[\"RegionHospedaje__Regi\\u00f3nA...ica\",\"RegionHospedaje__Regi\\u00f3nO...u\\u00eda\",\"RegionHospedaje__Regi\\u00f3nAndina\",\"RegionHospedaje__Regi\\u00f3nP...ica\",\"RegionHospedaje__Regi\\u00f3nCaribe\"],\"tickvals\":[\"RegionHospedaje__Regi\\u00f3nAmaz\\u00f3nica\",\"RegionHospedaje__Regi\\u00f3nOrinoqu\\u00eda\",\"RegionHospedaje__Regi\\u00f3nAndina\",\"RegionHospedaje__Regi\\u00f3nPac\\u00edfica\",\"RegionHospedaje__Regi\\u00f3nCaribe\"],\"tickmode\":\"array\",\"dtick\":1,\"automargin\":true}},                        {\"responsive\": true}                    ).then(function(){\n",
              "                            \n",
              "var gd = document.getElementById('3127b07f-1a0e-44ab-868a-0ef364657107');\n",
              "var x = new MutationObserver(function (mutations, observer) {{\n",
              "        var display = window.getComputedStyle(gd).display;\n",
              "        if (!display || display === 'none') {{\n",
              "            console.log([gd, 'removed!']);\n",
              "            Plotly.purge(gd);\n",
              "            observer.disconnect();\n",
              "        }}\n",
              "}});\n",
              "\n",
              "// Listen for the removal of the full notebook cells\n",
              "var notebookContainer = gd.closest('#notebook-container');\n",
              "if (notebookContainer) {{\n",
              "    x.observe(notebookContainer, {childList: true});\n",
              "}}\n",
              "\n",
              "// Listen for the clearing of the current output cell\n",
              "var outputEl = gd.closest('.output');\n",
              "if (outputEl) {{\n",
              "    x.observe(outputEl, {childList: true});\n",
              "}}\n",
              "\n",
              "                        })                };                            </script>        </div>\n",
              "</body>\n",
              "</html>"
            ]
          },
          "metadata": {}
        }
      ]
    },
    {
      "cell_type": "code",
      "source": [
        "# Mostrar la importancia de las características del grupo \"MotivoViaje\"\n",
        "xpl.plot.features_importance(group_name='Transporte')"
      ],
      "metadata": {
        "colab": {
          "base_uri": "https://localhost:8080/",
          "height": 517
        },
        "id": "4oEX0pDUDOk6",
        "outputId": "46586964-54fd-4a0e-89ab-a5087e43711d"
      },
      "execution_count": null,
      "outputs": [
        {
          "output_type": "display_data",
          "data": {
            "text/html": [
              "<html>\n",
              "<head><meta charset=\"utf-8\" /></head>\n",
              "<body>\n",
              "    <div>            <script src=\"https://cdnjs.cloudflare.com/ajax/libs/mathjax/2.7.5/MathJax.js?config=TeX-AMS-MML_SVG\"></script><script type=\"text/javascript\">if (window.MathJax && window.MathJax.Hub && window.MathJax.Hub.Config) {window.MathJax.Hub.Config({SVG: {font: \"STIX-Web\"}});}</script>                <script type=\"text/javascript\">window.PlotlyConfig = {MathJaxConfig: 'local'};</script>\n",
              "        <script charset=\"utf-8\" src=\"https://cdn.plot.ly/plotly-2.24.1.min.js\"></script>                <div id=\"6bfaabce-3286-4e37-87e0-993865cfaf0a\" class=\"plotly-graph-div\" style=\"height:500px; width:900px;\"></div>            <script type=\"text/javascript\">                                    window.PLOTLYENV=window.PLOTLYENV || {};                                    if (document.getElementById(\"6bfaabce-3286-4e37-87e0-993865cfaf0a\")) {                    Plotly.newPlot(                        \"6bfaabce-3286-4e37-87e0-993865cfaf0a\",                        [{\"customdata\":[\"Transporte__Otros\",\"Transporte__Terrestre\"],\"hovertemplate\":\"Feature: %{customdata}\\u003cbr \\u002f\\u003eContribution: %{x:.4f}\\u003cextra\\u003e\\u003c\\u002fextra\\u003e\",\"marker\":{\"color\":[\"rgba(244, 192, 0, 1.0)\",\"rgba(244, 192, 0, 1.0)\"],\"line\":{\"color\":\"rgba(52, 55, 54, 0.8)\",\"width\":0.5}},\"name\":\"Global\",\"orientation\":\"h\",\"x\":[0.0039,0.0097],\"y\":[\"Transporte__Otros\",\"Transporte__Terrestre\"],\"type\":\"bar\"}],                        {\"autosize\":false,\"barmode\":\"group\",\"height\":500,\"hovermode\":\"closest\",\"margin\":{\"b\":50,\"l\":160,\"r\":0,\"t\":95},\"template\":{\"data\":{\"scatter\":[{\"type\":\"scatter\"}]}},\"title\":{\"font\":{\"color\":\"rgb(50, 50, 50)\",\"family\":\"Arial\",\"size\":24},\"text\":\"Features Importance - Medio de transporte\\u003cbr\\u003e\\u003csup\\u003eResponse: \\u003cb\\u003e3\\u003c\\u002fb\\u003e - Total number of features: 35\\u003c\\u002fsup\\u003e\",\"x\":0.5,\"xanchor\":\"center\",\"y\":0.9,\"yanchor\":\"middle\"},\"width\":900,\"xaxis\":{\"title\":{\"font\":{\"color\":\"rgb(50, 50, 50)\",\"family\":\"Arial Black\",\"size\":16},\"text\":\"Mean absolute Contribution\"}},\"yaxis\":{\"title\":{\"font\":{\"color\":\"rgb(50, 50, 50)\",\"family\":\"Arial Black\",\"size\":16}},\"ticktext\":[\"Transporte__Otros\",\"Transporte__Terrestre\"],\"tickvals\":[\"Transporte__Otros\",\"Transporte__Terrestre\"],\"tickmode\":\"array\",\"dtick\":1,\"automargin\":true}},                        {\"responsive\": true}                    ).then(function(){\n",
              "                            \n",
              "var gd = document.getElementById('6bfaabce-3286-4e37-87e0-993865cfaf0a');\n",
              "var x = new MutationObserver(function (mutations, observer) {{\n",
              "        var display = window.getComputedStyle(gd).display;\n",
              "        if (!display || display === 'none') {{\n",
              "            console.log([gd, 'removed!']);\n",
              "            Plotly.purge(gd);\n",
              "            observer.disconnect();\n",
              "        }}\n",
              "}});\n",
              "\n",
              "// Listen for the removal of the full notebook cells\n",
              "var notebookContainer = gd.closest('#notebook-container');\n",
              "if (notebookContainer) {{\n",
              "    x.observe(notebookContainer, {childList: true});\n",
              "}}\n",
              "\n",
              "// Listen for the clearing of the current output cell\n",
              "var outputEl = gd.closest('.output');\n",
              "if (outputEl) {{\n",
              "    x.observe(outputEl, {childList: true});\n",
              "}}\n",
              "\n",
              "                        })                };                            </script>        </div>\n",
              "</body>\n",
              "</html>"
            ]
          },
          "metadata": {}
        }
      ]
    },
    {
      "cell_type": "code",
      "source": [
        "# Crear un DataFrame con las etiquetas de los clusters\n",
        "df_clusters = pd.DataFrame(X_reduced, columns=['Component1', 'Component2'])  # Ajusta los nombres de las columnas según corresponda\n",
        "df_clusters['Cluster'] = clusters_predict\n",
        "\n",
        "# Mostrar las observaciones de cada cluster\n",
        "for cluster_num in range(4):\n",
        "    print(f\"Cluster {cluster_num}:\")\n",
        "    print(df_clusters[df_clusters['Cluster'] == cluster_num])\n",
        "    print(\"\\n\")"
      ],
      "metadata": {
        "colab": {
          "base_uri": "https://localhost:8080/"
        },
        "id": "vos1jzybJF-n",
        "outputId": "04988e8b-a256-4331-fe58-64cc82dc04c2"
      },
      "execution_count": null,
      "outputs": [
        {
          "output_type": "stream",
          "name": "stdout",
          "text": [
            "Cluster 0:\n",
            "       Component1  Component2  Cluster\n",
            "6       12.511570   13.762691        0\n",
            "7        9.926367    5.472273        0\n",
            "10       7.852721   11.176318        0\n",
            "14       6.452404   -0.315671        0\n",
            "16      12.511605   13.762753        0\n",
            "...           ...         ...      ...\n",
            "49961    3.835269    3.018259        0\n",
            "49975   13.941009    4.898817        0\n",
            "49981   12.467244    7.315306        0\n",
            "49982    5.336728    6.111658        0\n",
            "49987    8.267038    6.742013        0\n",
            "\n",
            "[10752 rows x 3 columns]\n",
            "\n",
            "\n",
            "Cluster 1:\n",
            "       Component1  Component2  Cluster\n",
            "1        5.224977   22.213394        1\n",
            "19      -7.135254   12.841970        1\n",
            "20       2.376073    8.544271        1\n",
            "22       1.212343   11.632970        1\n",
            "31       0.488932    6.045846        1\n",
            "...           ...         ...      ...\n",
            "49979    0.687983    5.677123        1\n",
            "49988   -2.164070    5.697080        1\n",
            "49991    1.212111   11.646050        1\n",
            "49992    7.713995   15.822710        1\n",
            "49997   -0.434432   16.143492        1\n",
            "\n",
            "[12529 rows x 3 columns]\n",
            "\n",
            "\n",
            "Cluster 2:\n",
            "       Component1  Component2  Cluster\n",
            "2        5.401739    0.073766        2\n",
            "3        2.454424   -0.493297        2\n",
            "9        0.120695   -0.912650        2\n",
            "15       2.112465   -0.147320        2\n",
            "21       0.071005   -0.958228        2\n",
            "...           ...         ...      ...\n",
            "49983    3.310445   -1.409350        2\n",
            "49986    4.862739   -2.850296        2\n",
            "49993   -0.204250   -0.889055        2\n",
            "49994    0.951445   -1.246987        2\n",
            "49996    3.947574    1.234275        2\n",
            "\n",
            "[14927 rows x 3 columns]\n",
            "\n",
            "\n",
            "Cluster 3:\n",
            "       Component1  Component2  Cluster\n",
            "0       -9.832147    1.908437        3\n",
            "4       -6.593611    5.727744        3\n",
            "5       -8.214193    3.163666        3\n",
            "8       -9.857970    6.054881        3\n",
            "11      -5.099150   -0.181013        3\n",
            "...           ...         ...      ...\n",
            "49989   -9.385550   12.762519        3\n",
            "49990   -8.202840    3.017769        3\n",
            "49995   -3.009286    3.754771        3\n",
            "49998  -13.920386    5.308617        3\n",
            "49999  -18.735825    5.365563        3\n",
            "\n",
            "[11792 rows x 3 columns]\n",
            "\n",
            "\n"
          ]
        }
      ]
    },
    {
      "cell_type": "markdown",
      "source": [
        "# Cluster cero nombrado como 3"
      ],
      "metadata": {
        "id": "yaIkhBjmM_pN"
      }
    },
    {
      "cell_type": "code",
      "source": [
        "# Ajustar el modelo KMeans\n",
        "km = KMeans(n_clusters=4,\n",
        "            init='k-means++',\n",
        "            n_init=10,\n",
        "            max_iter=100,\n",
        "            random_state=42)\n",
        "\n",
        "clusters_predict = km.fit_predict(X_reduced)\n",
        "\n",
        "# Crear un DataFrame con las etiquetas de los clusters\n",
        "df_clusters = pd.DataFrame(X_reduced, columns=['Component1', 'Component2'])  # Ajusta los nombres de las columnas según corresponda\n",
        "df_clusters['Cluster'] = clusters_predict\n",
        "\n",
        "# Renombrar los clusters\n",
        "df_clusters['Cluster'] = df_clusters['Cluster'].replace({0: 3, 1: 0, 2: 1, 3: 2})\n",
        "\n",
        "# Mostrar las observaciones de cada cluster con las nuevas etiquetas\n",
        "for cluster_num in range(4):\n",
        "    print(f\"Cluster {cluster_num}:\")\n",
        "    print(df_clusters[df_clusters['Cluster'] == cluster_num])\n",
        "    print(\"\\n\")"
      ],
      "metadata": {
        "colab": {
          "base_uri": "https://localhost:8080/"
        },
        "id": "I5UReq6wLE-H",
        "outputId": "bca11008-b7d1-4d5a-8495-13bbc5fde803"
      },
      "execution_count": null,
      "outputs": [
        {
          "output_type": "stream",
          "name": "stdout",
          "text": [
            "Cluster 0:\n",
            "       Component1  Component2  Cluster\n",
            "1        5.224977   22.213394        0\n",
            "19      -7.135254   12.841970        0\n",
            "20       2.376073    8.544271        0\n",
            "22       1.212343   11.632970        0\n",
            "31       0.488932    6.045846        0\n",
            "...           ...         ...      ...\n",
            "49979    0.687983    5.677123        0\n",
            "49988   -2.164070    5.697080        0\n",
            "49991    1.212111   11.646050        0\n",
            "49992    7.713995   15.822710        0\n",
            "49997   -0.434432   16.143492        0\n",
            "\n",
            "[12529 rows x 3 columns]\n",
            "\n",
            "\n",
            "Cluster 1:\n",
            "       Component1  Component2  Cluster\n",
            "2        5.401739    0.073766        1\n",
            "3        2.454424   -0.493297        1\n",
            "9        0.120695   -0.912650        1\n",
            "15       2.112465   -0.147320        1\n",
            "21       0.071005   -0.958228        1\n",
            "...           ...         ...      ...\n",
            "49983    3.310445   -1.409350        1\n",
            "49986    4.862739   -2.850296        1\n",
            "49993   -0.204250   -0.889055        1\n",
            "49994    0.951445   -1.246987        1\n",
            "49996    3.947574    1.234275        1\n",
            "\n",
            "[14927 rows x 3 columns]\n",
            "\n",
            "\n",
            "Cluster 2:\n",
            "       Component1  Component2  Cluster\n",
            "0       -9.832147    1.908437        2\n",
            "4       -6.593611    5.727744        2\n",
            "5       -8.214193    3.163666        2\n",
            "8       -9.857970    6.054881        2\n",
            "11      -5.099150   -0.181013        2\n",
            "...           ...         ...      ...\n",
            "49989   -9.385550   12.762519        2\n",
            "49990   -8.202840    3.017769        2\n",
            "49995   -3.009286    3.754771        2\n",
            "49998  -13.920386    5.308617        2\n",
            "49999  -18.735825    5.365563        2\n",
            "\n",
            "[11792 rows x 3 columns]\n",
            "\n",
            "\n",
            "Cluster 3:\n",
            "       Component1  Component2  Cluster\n",
            "6       12.511570   13.762691        3\n",
            "7        9.926367    5.472273        3\n",
            "10       7.852721   11.176318        3\n",
            "14       6.452404   -0.315671        3\n",
            "16      12.511605   13.762753        3\n",
            "...           ...         ...      ...\n",
            "49961    3.835269    3.018259        3\n",
            "49975   13.941009    4.898817        3\n",
            "49981   12.467244    7.315306        3\n",
            "49982    5.336728    6.111658        3\n",
            "49987    8.267038    6.742013        3\n",
            "\n",
            "[10752 rows x 3 columns]\n",
            "\n",
            "\n"
          ]
        }
      ]
    },
    {
      "cell_type": "code",
      "source": [
        "# Convertir las etiquetas renombradas en una serie\n",
        "clusters_predict_series = df_clusters['Cluster']"
      ],
      "metadata": {
        "id": "2fDFjHb1QcwP"
      },
      "execution_count": null,
      "outputs": []
    },
    {
      "cell_type": "code",
      "source": [
        "# Entrenar el modelo LGBMClassifier\n",
        "model = LGBMClassifier(random_state=42)\n",
        "model.fit(df_uno, clusters_predict_series)"
      ],
      "metadata": {
        "colab": {
          "base_uri": "https://localhost:8080/",
          "height": 231
        },
        "id": "I9fCBm3YLQvl",
        "outputId": "48d9367a-c06d-41f6-8b4a-02bfdfc1c304"
      },
      "execution_count": null,
      "outputs": [
        {
          "output_type": "stream",
          "name": "stdout",
          "text": [
            "[LightGBM] [Info] Auto-choosing row-wise multi-threading, the overhead of testing was 0.002158 seconds.\n",
            "You can set `force_row_wise=true` to remove the overhead.\n",
            "And if memory is not enough, you can set `force_col_wise=true`.\n",
            "[LightGBM] [Info] Total Bins 74\n",
            "[LightGBM] [Info] Number of data points in the train set: 50000, number of used features: 34\n",
            "[LightGBM] [Info] Start training from score -1.383977\n",
            "[LightGBM] [Info] Start training from score -1.208851\n",
            "[LightGBM] [Info] Start training from score -1.444602\n",
            "[LightGBM] [Info] Start training from score -1.536931\n"
          ]
        },
        {
          "output_type": "execute_result",
          "data": {
            "text/plain": [
              "LGBMClassifier(random_state=42)"
            ],
            "text/html": [
              "<style>#sk-container-id-2 {color: black;background-color: white;}#sk-container-id-2 pre{padding: 0;}#sk-container-id-2 div.sk-toggleable {background-color: white;}#sk-container-id-2 label.sk-toggleable__label {cursor: pointer;display: block;width: 100%;margin-bottom: 0;padding: 0.3em;box-sizing: border-box;text-align: center;}#sk-container-id-2 label.sk-toggleable__label-arrow:before {content: \"▸\";float: left;margin-right: 0.25em;color: #696969;}#sk-container-id-2 label.sk-toggleable__label-arrow:hover:before {color: black;}#sk-container-id-2 div.sk-estimator:hover label.sk-toggleable__label-arrow:before {color: black;}#sk-container-id-2 div.sk-toggleable__content {max-height: 0;max-width: 0;overflow: hidden;text-align: left;background-color: #f0f8ff;}#sk-container-id-2 div.sk-toggleable__content pre {margin: 0.2em;color: black;border-radius: 0.25em;background-color: #f0f8ff;}#sk-container-id-2 input.sk-toggleable__control:checked~div.sk-toggleable__content {max-height: 200px;max-width: 100%;overflow: auto;}#sk-container-id-2 input.sk-toggleable__control:checked~label.sk-toggleable__label-arrow:before {content: \"▾\";}#sk-container-id-2 div.sk-estimator input.sk-toggleable__control:checked~label.sk-toggleable__label {background-color: #d4ebff;}#sk-container-id-2 div.sk-label input.sk-toggleable__control:checked~label.sk-toggleable__label {background-color: #d4ebff;}#sk-container-id-2 input.sk-hidden--visually {border: 0;clip: rect(1px 1px 1px 1px);clip: rect(1px, 1px, 1px, 1px);height: 1px;margin: -1px;overflow: hidden;padding: 0;position: absolute;width: 1px;}#sk-container-id-2 div.sk-estimator {font-family: monospace;background-color: #f0f8ff;border: 1px dotted black;border-radius: 0.25em;box-sizing: border-box;margin-bottom: 0.5em;}#sk-container-id-2 div.sk-estimator:hover {background-color: #d4ebff;}#sk-container-id-2 div.sk-parallel-item::after {content: \"\";width: 100%;border-bottom: 1px solid gray;flex-grow: 1;}#sk-container-id-2 div.sk-label:hover label.sk-toggleable__label {background-color: #d4ebff;}#sk-container-id-2 div.sk-serial::before {content: \"\";position: absolute;border-left: 1px solid gray;box-sizing: border-box;top: 0;bottom: 0;left: 50%;z-index: 0;}#sk-container-id-2 div.sk-serial {display: flex;flex-direction: column;align-items: center;background-color: white;padding-right: 0.2em;padding-left: 0.2em;position: relative;}#sk-container-id-2 div.sk-item {position: relative;z-index: 1;}#sk-container-id-2 div.sk-parallel {display: flex;align-items: stretch;justify-content: center;background-color: white;position: relative;}#sk-container-id-2 div.sk-item::before, #sk-container-id-2 div.sk-parallel-item::before {content: \"\";position: absolute;border-left: 1px solid gray;box-sizing: border-box;top: 0;bottom: 0;left: 50%;z-index: -1;}#sk-container-id-2 div.sk-parallel-item {display: flex;flex-direction: column;z-index: 1;position: relative;background-color: white;}#sk-container-id-2 div.sk-parallel-item:first-child::after {align-self: flex-end;width: 50%;}#sk-container-id-2 div.sk-parallel-item:last-child::after {align-self: flex-start;width: 50%;}#sk-container-id-2 div.sk-parallel-item:only-child::after {width: 0;}#sk-container-id-2 div.sk-dashed-wrapped {border: 1px dashed gray;margin: 0 0.4em 0.5em 0.4em;box-sizing: border-box;padding-bottom: 0.4em;background-color: white;}#sk-container-id-2 div.sk-label label {font-family: monospace;font-weight: bold;display: inline-block;line-height: 1.2em;}#sk-container-id-2 div.sk-label-container {text-align: center;}#sk-container-id-2 div.sk-container {/* jupyter's `normalize.less` sets `[hidden] { display: none; }` but bootstrap.min.css set `[hidden] { display: none !important; }` so we also need the `!important` here to be able to override the default hidden behavior on the sphinx rendered scikit-learn.org. See: https://github.com/scikit-learn/scikit-learn/issues/21755 */display: inline-block !important;position: relative;}#sk-container-id-2 div.sk-text-repr-fallback {display: none;}</style><div id=\"sk-container-id-2\" class=\"sk-top-container\"><div class=\"sk-text-repr-fallback\"><pre>LGBMClassifier(random_state=42)</pre><b>In a Jupyter environment, please rerun this cell to show the HTML representation or trust the notebook. <br />On GitHub, the HTML representation is unable to render, please try loading this page with nbviewer.org.</b></div><div class=\"sk-container\" hidden><div class=\"sk-item\"><div class=\"sk-estimator sk-toggleable\"><input class=\"sk-toggleable__control sk-hidden--visually\" id=\"sk-estimator-id-2\" type=\"checkbox\" checked><label for=\"sk-estimator-id-2\" class=\"sk-toggleable__label sk-toggleable__label-arrow\">LGBMClassifier</label><div class=\"sk-toggleable__content\"><pre>LGBMClassifier(random_state=42)</pre></div></div></div></div></div>"
            ]
          },
          "metadata": {},
          "execution_count": 84
        }
      ]
    },
    {
      "cell_type": "code",
      "source": [
        "# Crear un SmartExplainer de Shapash\n",
        "xpl = SmartExplainer(model=model, features_groups=features_groups, features_dict=groups_labels)\n",
        "xpl.compile(x=df_uno, y_pred=clusters_predict_series)"
      ],
      "metadata": {
        "colab": {
          "base_uri": "https://localhost:8080/"
        },
        "id": "E2a3aBPSLk_I",
        "outputId": "67e10c24-2d95-4aca-a289-647355b79136"
      },
      "execution_count": null,
      "outputs": [
        {
          "output_type": "stream",
          "name": "stdout",
          "text": [
            "INFO: Shap explainer type - <shap.explainers._tree.TreeExplainer object at 0x7e081d7fba30>\n"
          ]
        }
      ]
    },
    {
      "cell_type": "code",
      "source": [
        "# Mostrar la importancia de las características\n",
        "xpl.plot.features_importance()"
      ],
      "metadata": {
        "colab": {
          "base_uri": "https://localhost:8080/",
          "height": 517
        },
        "id": "CnhoOo7lMnLP",
        "outputId": "99f2ff1f-4835-44fe-d61d-492cee42a3a8"
      },
      "execution_count": null,
      "outputs": [
        {
          "output_type": "display_data",
          "data": {
            "text/html": [
              "<html>\n",
              "<head><meta charset=\"utf-8\" /></head>\n",
              "<body>\n",
              "    <div>            <script src=\"https://cdnjs.cloudflare.com/ajax/libs/mathjax/2.7.5/MathJax.js?config=TeX-AMS-MML_SVG\"></script><script type=\"text/javascript\">if (window.MathJax && window.MathJax.Hub && window.MathJax.Hub.Config) {window.MathJax.Hub.Config({SVG: {font: \"STIX-Web\"}});}</script>                <script type=\"text/javascript\">window.PlotlyConfig = {MathJaxConfig: 'local'};</script>\n",
              "        <script charset=\"utf-8\" src=\"https://cdn.plot.ly/plotly-2.24.1.min.js\"></script>                <div id=\"18f3cc75-3d3e-42a5-85a5-ee4a303bb86b\" class=\"plotly-graph-div\" style=\"height:500px; width:900px;\"></div>            <script type=\"text/javascript\">                                    window.PLOTLYENV=window.PLOTLYENV || {};                                    if (document.getElementById(\"18f3cc75-3d3e-42a5-85a5-ee4a303bb86b\")) {                    Plotly.newPlot(                        \"18f3cc75-3d3e-42a5-85a5-ee4a303bb86b\",                        [{\"customdata\":[\"\\u003cb\\u003eMedio de transporte\",\"\\u003cb\\u003eMotivo del viaje\",\"RangoEdad_\",\"\\u003cb\\u003eRegi\\u00f3n de hospedaje\",\"\\u003cb\\u003eMes de viaje\",\"\\u003cb\\u003eRegi\\u00f3n de origen\"],\"hovertemplate\":\"Feature: %{customdata}\\u003cbr \\u002f\\u003eContribution: %{x:.4f}\\u003cextra\\u003e\\u003c\\u002fextra\\u003e\",\"marker\":{\"color\":[\"rgb(245, 133, 24)\",\"rgb(245, 133, 24)\",\"rgba(244, 192, 0, 1.0)\",\"rgb(245, 133, 24)\",\"rgb(245, 133, 24)\",\"rgb(245, 133, 24)\"],\"line\":{\"color\":\"rgba(52, 55, 54, 0.8)\",\"width\":0.5}},\"name\":\"Global\",\"orientation\":\"h\",\"x\":[0.0101,0.1149,0.148,0.1644,0.205,0.3575],\"y\":[\"\\u003cb\\u003eMedio de transporte\",\"\\u003cb\\u003eMotivo del viaje\",\"RangoEdad_\",\"\\u003cb\\u003eRegi\\u00f3n de hospedaje\",\"\\u003cb\\u003eMes de viaje\",\"\\u003cb\\u003eRegi\\u00f3n de origen\"],\"type\":\"bar\"}],                        {\"autosize\":false,\"barmode\":\"group\",\"height\":500,\"hovermode\":\"closest\",\"margin\":{\"b\":50,\"l\":160,\"r\":0,\"t\":95},\"template\":{\"data\":{\"scatter\":[{\"type\":\"scatter\"}]}},\"title\":{\"font\":{\"color\":\"rgb(50, 50, 50)\",\"family\":\"Arial\",\"size\":24},\"text\":\"Features Importance\\u003cbr\\u003e\\u003csup\\u003eResponse: \\u003cb\\u003e3\\u003c\\u002fb\\u003e - Total number of features: 35\\u003c\\u002fsup\\u003e\",\"x\":0.5,\"xanchor\":\"center\",\"y\":0.9,\"yanchor\":\"middle\"},\"width\":900,\"xaxis\":{\"title\":{\"font\":{\"color\":\"rgb(50, 50, 50)\",\"family\":\"Arial Black\",\"size\":16},\"text\":\"Mean absolute Contribution\"}},\"yaxis\":{\"title\":{\"font\":{\"color\":\"rgb(50, 50, 50)\",\"family\":\"Arial Black\",\"size\":16}},\"ticktext\":[\"\\u003cb\\u003eMedio de transporte\",\"\\u003cb\\u003eMotivo del viaje\",\"RangoEdad_\",\"\\u003cb\\u003eRegi\\u00f3n de hospedaje\",\"\\u003cb\\u003eMes de viaje\",\"\\u003cb\\u003eRegi\\u00f3n de origen\"],\"tickvals\":[\"\\u003cb\\u003eMedio de transporte\",\"\\u003cb\\u003eMotivo del viaje\",\"RangoEdad_\",\"\\u003cb\\u003eRegi\\u00f3n de hospedaje\",\"\\u003cb\\u003eMes de viaje\",\"\\u003cb\\u003eRegi\\u00f3n de origen\"],\"tickmode\":\"array\",\"dtick\":1,\"automargin\":true}},                        {\"responsive\": true}                    ).then(function(){\n",
              "                            \n",
              "var gd = document.getElementById('18f3cc75-3d3e-42a5-85a5-ee4a303bb86b');\n",
              "var x = new MutationObserver(function (mutations, observer) {{\n",
              "        var display = window.getComputedStyle(gd).display;\n",
              "        if (!display || display === 'none') {{\n",
              "            console.log([gd, 'removed!']);\n",
              "            Plotly.purge(gd);\n",
              "            observer.disconnect();\n",
              "        }}\n",
              "}});\n",
              "\n",
              "// Listen for the removal of the full notebook cells\n",
              "var notebookContainer = gd.closest('#notebook-container');\n",
              "if (notebookContainer) {{\n",
              "    x.observe(notebookContainer, {childList: true});\n",
              "}}\n",
              "\n",
              "// Listen for the clearing of the current output cell\n",
              "var outputEl = gd.closest('.output');\n",
              "if (outputEl) {{\n",
              "    x.observe(outputEl, {childList: true});\n",
              "}}\n",
              "\n",
              "                        })                };                            </script>        </div>\n",
              "</body>\n",
              "</html>"
            ]
          },
          "metadata": {}
        }
      ]
    },
    {
      "cell_type": "code",
      "source": [
        "# Mostrar la importancia de las características del grupo \"MotivoViaje\"\n",
        "xpl.plot.features_importance(group_name='MotivoViaje')"
      ],
      "metadata": {
        "colab": {
          "base_uri": "https://localhost:8080/",
          "height": 517
        },
        "id": "P8VUkds7Ny85",
        "outputId": "e1fdec22-c332-4879-ae77-435a80835d1a"
      },
      "execution_count": null,
      "outputs": [
        {
          "output_type": "display_data",
          "data": {
            "text/html": [
              "<html>\n",
              "<head><meta charset=\"utf-8\" /></head>\n",
              "<body>\n",
              "    <div>            <script src=\"https://cdnjs.cloudflare.com/ajax/libs/mathjax/2.7.5/MathJax.js?config=TeX-AMS-MML_SVG\"></script><script type=\"text/javascript\">if (window.MathJax && window.MathJax.Hub && window.MathJax.Hub.Config) {window.MathJax.Hub.Config({SVG: {font: \"STIX-Web\"}});}</script>                <script type=\"text/javascript\">window.PlotlyConfig = {MathJaxConfig: 'local'};</script>\n",
              "        <script charset=\"utf-8\" src=\"https://cdn.plot.ly/plotly-2.24.1.min.js\"></script>                <div id=\"4a3be3a7-dd54-46b8-b87d-00b51415d82b\" class=\"plotly-graph-div\" style=\"height:500px; width:900px;\"></div>            <script type=\"text/javascript\">                                    window.PLOTLYENV=window.PLOTLYENV || {};                                    if (document.getElementById(\"4a3be3a7-dd54-46b8-b87d-00b51415d82b\")) {                    Plotly.newPlot(                        \"4a3be3a7-dd54-46b8-b87d-00b51415d82b\",                        [{\"customdata\":[\"MotivoViaje__SaludyTratamientoM\\u00e9dico\",\"MotivoViaje__Protecci\\u00f3nySituacionesEspeciales\",\"MotivoViaje__EstudiosyPr\\u00e1cticas\",\"MotivoViaje__EventosyConferencias\",\"MotivoViaje__Casosespec\\u00edficosyotros\",\"MotivoViaje__Tr\\u00e1nsitoyMovilidad\",\"MotivoViaje__NegociosyTrabajo\",\"MotivoViaje__FamiliayRelacionesMaritales\",\"MotivoViaje__TurismoyViajes\"],\"hovertemplate\":\"Feature: %{customdata}\\u003cbr \\u002f\\u003eContribution: %{x:.4f}\\u003cextra\\u003e\\u003c\\u002fextra\\u003e\",\"marker\":{\"color\":[\"rgba(244, 192, 0, 1.0)\",\"rgba(244, 192, 0, 1.0)\",\"rgba(244, 192, 0, 1.0)\",\"rgba(244, 192, 0, 1.0)\",\"rgba(244, 192, 0, 1.0)\",\"rgba(244, 192, 0, 1.0)\",\"rgba(244, 192, 0, 1.0)\",\"rgba(244, 192, 0, 1.0)\",\"rgba(244, 192, 0, 1.0)\"],\"line\":{\"color\":\"rgba(52, 55, 54, 0.8)\",\"width\":0.5}},\"name\":\"Global\",\"orientation\":\"h\",\"x\":[0.0,0.0,0.0003,0.0007,0.0016,0.0143,0.0184,0.027,0.0468],\"y\":[\"MotivoViaje__SaludyTratamientoM\\u00e9dico\",\"MotivoViaje__Protecci\\u00f3nySituacionesEspeciales\",\"MotivoViaje__EstudiosyPr\\u00e1cticas\",\"MotivoViaje__EventosyConferencias\",\"MotivoViaje__Casosespec\\u00edficosyotros\",\"MotivoViaje__Tr\\u00e1nsitoyMovilidad\",\"MotivoViaje__NegociosyTrabajo\",\"MotivoViaje__FamiliayRelacionesMaritales\",\"MotivoViaje__TurismoyViajes\"],\"type\":\"bar\"}],                        {\"autosize\":false,\"barmode\":\"group\",\"height\":500,\"hovermode\":\"closest\",\"margin\":{\"b\":50,\"l\":160,\"r\":0,\"t\":95},\"template\":{\"data\":{\"scatter\":[{\"type\":\"scatter\"}]}},\"title\":{\"font\":{\"color\":\"rgb(50, 50, 50)\",\"family\":\"Arial\",\"size\":24},\"text\":\"Features Importance - Motivo del viaje\\u003cbr\\u003e\\u003csup\\u003eResponse: \\u003cb\\u003e3\\u003c\\u002fb\\u003e - Total number of features: 35\\u003c\\u002fsup\\u003e\",\"x\":0.5,\"xanchor\":\"center\",\"y\":0.9,\"yanchor\":\"middle\"},\"width\":900,\"xaxis\":{\"title\":{\"font\":{\"color\":\"rgb(50, 50, 50)\",\"family\":\"Arial Black\",\"size\":16},\"text\":\"Mean absolute Contribution\"}},\"yaxis\":{\"title\":{\"font\":{\"color\":\"rgb(50, 50, 50)\",\"family\":\"Arial Black\",\"size\":16}},\"ticktext\":[\"MotivoViaje__SaludyTrata...ico\",\"MotivoViaje__Protecci\\u00f3ny...les\",\"MotivoViaje__EstudiosyPr...cas\",\"MotivoViaje__EventosyCon...ias\",\"MotivoViaje__Casosespec\\u00ed...ros\",\"MotivoViaje__Tr\\u00e1nsitoyMo...dad\",\"MotivoViaje__NegociosyTrabajo\",\"MotivoViaje__FamiliayRel...les\",\"MotivoViaje__TurismoyViajes\"],\"tickvals\":[\"MotivoViaje__SaludyTratamientoM\\u00e9dico\",\"MotivoViaje__Protecci\\u00f3nySituacionesEspeciales\",\"MotivoViaje__EstudiosyPr\\u00e1cticas\",\"MotivoViaje__EventosyConferencias\",\"MotivoViaje__Casosespec\\u00edficosyotros\",\"MotivoViaje__Tr\\u00e1nsitoyMovilidad\",\"MotivoViaje__NegociosyTrabajo\",\"MotivoViaje__FamiliayRelacionesMaritales\",\"MotivoViaje__TurismoyViajes\"],\"tickmode\":\"array\",\"dtick\":1,\"automargin\":true}},                        {\"responsive\": true}                    ).then(function(){\n",
              "                            \n",
              "var gd = document.getElementById('4a3be3a7-dd54-46b8-b87d-00b51415d82b');\n",
              "var x = new MutationObserver(function (mutations, observer) {{\n",
              "        var display = window.getComputedStyle(gd).display;\n",
              "        if (!display || display === 'none') {{\n",
              "            console.log([gd, 'removed!']);\n",
              "            Plotly.purge(gd);\n",
              "            observer.disconnect();\n",
              "        }}\n",
              "}});\n",
              "\n",
              "// Listen for the removal of the full notebook cells\n",
              "var notebookContainer = gd.closest('#notebook-container');\n",
              "if (notebookContainer) {{\n",
              "    x.observe(notebookContainer, {childList: true});\n",
              "}}\n",
              "\n",
              "// Listen for the clearing of the current output cell\n",
              "var outputEl = gd.closest('.output');\n",
              "if (outputEl) {{\n",
              "    x.observe(outputEl, {childList: true});\n",
              "}}\n",
              "\n",
              "                        })                };                            </script>        </div>\n",
              "</body>\n",
              "</html>"
            ]
          },
          "metadata": {}
        }
      ]
    },
    {
      "cell_type": "code",
      "source": [
        "# Mostrar la importancia de las características del grupo \"Mes\"\n",
        "xpl.plot.features_importance(group_name='Mes')"
      ],
      "metadata": {
        "colab": {
          "base_uri": "https://localhost:8080/",
          "height": 517
        },
        "id": "R7nmkXONUtvu",
        "outputId": "e5da4e94-14c5-4bc8-d553-5914f7e1286e"
      },
      "execution_count": null,
      "outputs": [
        {
          "output_type": "display_data",
          "data": {
            "text/html": [
              "<html>\n",
              "<head><meta charset=\"utf-8\" /></head>\n",
              "<body>\n",
              "    <div>            <script src=\"https://cdnjs.cloudflare.com/ajax/libs/mathjax/2.7.5/MathJax.js?config=TeX-AMS-MML_SVG\"></script><script type=\"text/javascript\">if (window.MathJax && window.MathJax.Hub && window.MathJax.Hub.Config) {window.MathJax.Hub.Config({SVG: {font: \"STIX-Web\"}});}</script>                <script type=\"text/javascript\">window.PlotlyConfig = {MathJaxConfig: 'local'};</script>\n",
              "        <script charset=\"utf-8\" src=\"https://cdn.plot.ly/plotly-2.24.1.min.js\"></script>                <div id=\"3f63ee59-06b0-417a-b27d-56daa4fed6e6\" class=\"plotly-graph-div\" style=\"height:500px; width:900px;\"></div>            <script type=\"text/javascript\">                                    window.PLOTLYENV=window.PLOTLYENV || {};                                    if (document.getElementById(\"3f63ee59-06b0-417a-b27d-56daa4fed6e6\")) {                    Plotly.newPlot(                        \"3f63ee59-06b0-417a-b27d-56daa4fed6e6\",                        [{\"customdata\":[\"Mes__Septiembre\",\"Mes__Octubre\",\"Mes__Diciembre\",\"Mes__Febrero\",\"Mes__Mayo\",\"Mes__Julio\",\"Mes__Noviembre\",\"Mes__Marzo\",\"Mes__Junio\",\"Mes__Agosto\",\"Mes__Enero\"],\"hovertemplate\":\"Feature: %{customdata}\\u003cbr \\u002f\\u003eContribution: %{x:.4f}\\u003cextra\\u003e\\u003c\\u002fextra\\u003e\",\"marker\":{\"color\":[\"rgba(244, 192, 0, 1.0)\",\"rgba(244, 192, 0, 1.0)\",\"rgba(244, 192, 0, 1.0)\",\"rgba(244, 192, 0, 1.0)\",\"rgba(244, 192, 0, 1.0)\",\"rgba(244, 192, 0, 1.0)\",\"rgba(244, 192, 0, 1.0)\",\"rgba(244, 192, 0, 1.0)\",\"rgba(244, 192, 0, 1.0)\",\"rgba(244, 192, 0, 1.0)\",\"rgba(244, 192, 0, 1.0)\"],\"line\":{\"color\":\"rgba(52, 55, 54, 0.8)\",\"width\":0.5}},\"name\":\"Global\",\"orientation\":\"h\",\"x\":[0.0059,0.0099,0.0101,0.0151,0.016,0.0178,0.0186,0.0256,0.0427,0.0438,0.0655],\"y\":[\"Mes__Septiembre\",\"Mes__Octubre\",\"Mes__Diciembre\",\"Mes__Febrero\",\"Mes__Mayo\",\"Mes__Julio\",\"Mes__Noviembre\",\"Mes__Marzo\",\"Mes__Junio\",\"Mes__Agosto\",\"Mes__Enero\"],\"type\":\"bar\"}],                        {\"autosize\":false,\"barmode\":\"group\",\"height\":500,\"hovermode\":\"closest\",\"margin\":{\"b\":50,\"l\":160,\"r\":0,\"t\":95},\"template\":{\"data\":{\"scatter\":[{\"type\":\"scatter\"}]}},\"title\":{\"font\":{\"color\":\"rgb(50, 50, 50)\",\"family\":\"Arial\",\"size\":24},\"text\":\"Features Importance - Mes de viaje\\u003cbr\\u003e\\u003csup\\u003eResponse: \\u003cb\\u003e3\\u003c\\u002fb\\u003e - Total number of features: 35\\u003c\\u002fsup\\u003e\",\"x\":0.5,\"xanchor\":\"center\",\"y\":0.9,\"yanchor\":\"middle\"},\"width\":900,\"xaxis\":{\"title\":{\"font\":{\"color\":\"rgb(50, 50, 50)\",\"family\":\"Arial Black\",\"size\":16},\"text\":\"Mean absolute Contribution\"}},\"yaxis\":{\"title\":{\"font\":{\"color\":\"rgb(50, 50, 50)\",\"family\":\"Arial Black\",\"size\":16}},\"ticktext\":[\"Mes__Septiembre\",\"Mes__Octubre\",\"Mes__Diciembre\",\"Mes__Febrero\",\"Mes__Mayo\",\"Mes__Julio\",\"Mes__Noviembre\",\"Mes__Marzo\",\"Mes__Junio\",\"Mes__Agosto\",\"Mes__Enero\"],\"tickvals\":[\"Mes__Septiembre\",\"Mes__Octubre\",\"Mes__Diciembre\",\"Mes__Febrero\",\"Mes__Mayo\",\"Mes__Julio\",\"Mes__Noviembre\",\"Mes__Marzo\",\"Mes__Junio\",\"Mes__Agosto\",\"Mes__Enero\"],\"tickmode\":\"array\",\"dtick\":1,\"automargin\":true}},                        {\"responsive\": true}                    ).then(function(){\n",
              "                            \n",
              "var gd = document.getElementById('3f63ee59-06b0-417a-b27d-56daa4fed6e6');\n",
              "var x = new MutationObserver(function (mutations, observer) {{\n",
              "        var display = window.getComputedStyle(gd).display;\n",
              "        if (!display || display === 'none') {{\n",
              "            console.log([gd, 'removed!']);\n",
              "            Plotly.purge(gd);\n",
              "            observer.disconnect();\n",
              "        }}\n",
              "}});\n",
              "\n",
              "// Listen for the removal of the full notebook cells\n",
              "var notebookContainer = gd.closest('#notebook-container');\n",
              "if (notebookContainer) {{\n",
              "    x.observe(notebookContainer, {childList: true});\n",
              "}}\n",
              "\n",
              "// Listen for the clearing of the current output cell\n",
              "var outputEl = gd.closest('.output');\n",
              "if (outputEl) {{\n",
              "    x.observe(outputEl, {childList: true});\n",
              "}}\n",
              "\n",
              "                        })                };                            </script>        </div>\n",
              "</body>\n",
              "</html>"
            ]
          },
          "metadata": {}
        }
      ]
    },
    {
      "cell_type": "code",
      "source": [
        "# Mostrar la importancia de las características del grupo \"MotivoViaje\"\n",
        "xpl.plot.features_importance(group_name='RegionOrigen')"
      ],
      "metadata": {
        "colab": {
          "base_uri": "https://localhost:8080/",
          "height": 517
        },
        "id": "TX9NUu8VUx6f",
        "outputId": "67e65359-1a26-4358-9987-fcbf3934598e"
      },
      "execution_count": null,
      "outputs": [
        {
          "output_type": "display_data",
          "data": {
            "text/html": [
              "<html>\n",
              "<head><meta charset=\"utf-8\" /></head>\n",
              "<body>\n",
              "    <div>            <script src=\"https://cdnjs.cloudflare.com/ajax/libs/mathjax/2.7.5/MathJax.js?config=TeX-AMS-MML_SVG\"></script><script type=\"text/javascript\">if (window.MathJax && window.MathJax.Hub && window.MathJax.Hub.Config) {window.MathJax.Hub.Config({SVG: {font: \"STIX-Web\"}});}</script>                <script type=\"text/javascript\">window.PlotlyConfig = {MathJaxConfig: 'local'};</script>\n",
              "        <script charset=\"utf-8\" src=\"https://cdn.plot.ly/plotly-2.24.1.min.js\"></script>                <div id=\"7aca1cb0-508a-4422-b5df-44c5e98ff1ef\" class=\"plotly-graph-div\" style=\"height:500px; width:900px;\"></div>            <script type=\"text/javascript\">                                    window.PLOTLYENV=window.PLOTLYENV || {};                                    if (document.getElementById(\"7aca1cb0-508a-4422-b5df-44c5e98ff1ef\")) {                    Plotly.newPlot(                        \"7aca1cb0-508a-4422-b5df-44c5e98ff1ef\",                        [{\"customdata\":[\"RegionOrigen__Otros\",\"RegionOrigen__Ocean\\u00eda\",\"RegionOrigen__Am\\u00e9ricaCentralyelCaribe\",\"RegionOrigen__Europa\",\"RegionOrigen__Asia\",\"RegionOrigen__Am\\u00e9ricadelNorte\",\"RegionOrigen__Am\\u00e9ricadelSur\"],\"hovertemplate\":\"Feature: %{customdata}\\u003cbr \\u002f\\u003eContribution: %{x:.4f}\\u003cextra\\u003e\\u003c\\u002fextra\\u003e\",\"marker\":{\"color\":[\"rgba(244, 192, 0, 1.0)\",\"rgba(244, 192, 0, 1.0)\",\"rgba(244, 192, 0, 1.0)\",\"rgba(244, 192, 0, 1.0)\",\"rgba(244, 192, 0, 1.0)\",\"rgba(244, 192, 0, 1.0)\",\"rgba(244, 192, 0, 1.0)\"],\"line\":{\"color\":\"rgba(52, 55, 54, 0.8)\",\"width\":0.5}},\"name\":\"Global\",\"orientation\":\"h\",\"x\":[0.0,0.0052,0.0168,0.026,0.0425,0.068,0.1987],\"y\":[\"RegionOrigen__Otros\",\"RegionOrigen__Ocean\\u00eda\",\"RegionOrigen__Am\\u00e9ricaCentralyelCaribe\",\"RegionOrigen__Europa\",\"RegionOrigen__Asia\",\"RegionOrigen__Am\\u00e9ricadelNorte\",\"RegionOrigen__Am\\u00e9ricadelSur\"],\"type\":\"bar\"}],                        {\"autosize\":false,\"barmode\":\"group\",\"height\":500,\"hovermode\":\"closest\",\"margin\":{\"b\":50,\"l\":160,\"r\":0,\"t\":95},\"template\":{\"data\":{\"scatter\":[{\"type\":\"scatter\"}]}},\"title\":{\"font\":{\"color\":\"rgb(50, 50, 50)\",\"family\":\"Arial\",\"size\":24},\"text\":\"Features Importance - Regi\\u00f3n de origen\\u003cbr\\u003e\\u003csup\\u003eResponse: \\u003cb\\u003e3\\u003c\\u002fb\\u003e - Total number of features: 35\\u003c\\u002fsup\\u003e\",\"x\":0.5,\"xanchor\":\"center\",\"y\":0.9,\"yanchor\":\"middle\"},\"width\":900,\"xaxis\":{\"title\":{\"font\":{\"color\":\"rgb(50, 50, 50)\",\"family\":\"Arial Black\",\"size\":16},\"text\":\"Mean absolute Contribution\"}},\"yaxis\":{\"title\":{\"font\":{\"color\":\"rgb(50, 50, 50)\",\"family\":\"Arial Black\",\"size\":16}},\"ticktext\":[\"RegionOrigen__Otros\",\"RegionOrigen__Ocean\\u00eda\",\"RegionOrigen__Am\\u00e9ricaCen...ibe\",\"RegionOrigen__Europa\",\"RegionOrigen__Asia\",\"RegionOrigen__Am\\u00e9ricadelNorte\",\"RegionOrigen__Am\\u00e9ricadelSur\"],\"tickvals\":[\"RegionOrigen__Otros\",\"RegionOrigen__Ocean\\u00eda\",\"RegionOrigen__Am\\u00e9ricaCentralyelCaribe\",\"RegionOrigen__Europa\",\"RegionOrigen__Asia\",\"RegionOrigen__Am\\u00e9ricadelNorte\",\"RegionOrigen__Am\\u00e9ricadelSur\"],\"tickmode\":\"array\",\"dtick\":1,\"automargin\":true}},                        {\"responsive\": true}                    ).then(function(){\n",
              "                            \n",
              "var gd = document.getElementById('7aca1cb0-508a-4422-b5df-44c5e98ff1ef');\n",
              "var x = new MutationObserver(function (mutations, observer) {{\n",
              "        var display = window.getComputedStyle(gd).display;\n",
              "        if (!display || display === 'none') {{\n",
              "            console.log([gd, 'removed!']);\n",
              "            Plotly.purge(gd);\n",
              "            observer.disconnect();\n",
              "        }}\n",
              "}});\n",
              "\n",
              "// Listen for the removal of the full notebook cells\n",
              "var notebookContainer = gd.closest('#notebook-container');\n",
              "if (notebookContainer) {{\n",
              "    x.observe(notebookContainer, {childList: true});\n",
              "}}\n",
              "\n",
              "// Listen for the clearing of the current output cell\n",
              "var outputEl = gd.closest('.output');\n",
              "if (outputEl) {{\n",
              "    x.observe(outputEl, {childList: true});\n",
              "}}\n",
              "\n",
              "                        })                };                            </script>        </div>\n",
              "</body>\n",
              "</html>"
            ]
          },
          "metadata": {}
        }
      ]
    },
    {
      "cell_type": "code",
      "source": [
        "# Mostrar la importancia de las características del grupo \"MotivoViaje\"\n",
        "xpl.plot.features_importance(group_name='RegionHospedaje')"
      ],
      "metadata": {
        "colab": {
          "base_uri": "https://localhost:8080/",
          "height": 517
        },
        "id": "PnRpTnbcVEj_",
        "outputId": "72701b34-8acc-41e0-e59a-24ed817ee329"
      },
      "execution_count": null,
      "outputs": [
        {
          "output_type": "display_data",
          "data": {
            "text/html": [
              "<html>\n",
              "<head><meta charset=\"utf-8\" /></head>\n",
              "<body>\n",
              "    <div>            <script src=\"https://cdnjs.cloudflare.com/ajax/libs/mathjax/2.7.5/MathJax.js?config=TeX-AMS-MML_SVG\"></script><script type=\"text/javascript\">if (window.MathJax && window.MathJax.Hub && window.MathJax.Hub.Config) {window.MathJax.Hub.Config({SVG: {font: \"STIX-Web\"}});}</script>                <script type=\"text/javascript\">window.PlotlyConfig = {MathJaxConfig: 'local'};</script>\n",
              "        <script charset=\"utf-8\" src=\"https://cdn.plot.ly/plotly-2.24.1.min.js\"></script>                <div id=\"0f417cb7-5dc5-429b-b529-ab94f6c138c6\" class=\"plotly-graph-div\" style=\"height:500px; width:900px;\"></div>            <script type=\"text/javascript\">                                    window.PLOTLYENV=window.PLOTLYENV || {};                                    if (document.getElementById(\"0f417cb7-5dc5-429b-b529-ab94f6c138c6\")) {                    Plotly.newPlot(                        \"0f417cb7-5dc5-429b-b529-ab94f6c138c6\",                        [{\"customdata\":[\"RegionHospedaje__Regi\\u00f3nAmaz\\u00f3nica\",\"RegionHospedaje__Regi\\u00f3nOrinoqu\\u00eda\",\"RegionHospedaje__Regi\\u00f3nPac\\u00edfica\",\"RegionHospedaje__Regi\\u00f3nCaribe\",\"RegionHospedaje__Regi\\u00f3nAndina\"],\"hovertemplate\":\"Feature: %{customdata}\\u003cbr \\u002f\\u003eContribution: %{x:.4f}\\u003cextra\\u003e\\u003c\\u002fextra\\u003e\",\"marker\":{\"color\":[\"rgba(244, 192, 0, 1.0)\",\"rgba(244, 192, 0, 1.0)\",\"rgba(244, 192, 0, 1.0)\",\"rgba(244, 192, 0, 1.0)\",\"rgba(244, 192, 0, 1.0)\"],\"line\":{\"color\":\"rgba(52, 55, 54, 0.8)\",\"width\":0.5}},\"name\":\"Global\",\"orientation\":\"h\",\"x\":[0.0027,0.0033,0.0359,0.0381,0.0692],\"y\":[\"RegionHospedaje__Regi\\u00f3nAmaz\\u00f3nica\",\"RegionHospedaje__Regi\\u00f3nOrinoqu\\u00eda\",\"RegionHospedaje__Regi\\u00f3nPac\\u00edfica\",\"RegionHospedaje__Regi\\u00f3nCaribe\",\"RegionHospedaje__Regi\\u00f3nAndina\"],\"type\":\"bar\"}],                        {\"autosize\":false,\"barmode\":\"group\",\"height\":500,\"hovermode\":\"closest\",\"margin\":{\"b\":50,\"l\":160,\"r\":0,\"t\":95},\"template\":{\"data\":{\"scatter\":[{\"type\":\"scatter\"}]}},\"title\":{\"font\":{\"color\":\"rgb(50, 50, 50)\",\"family\":\"Arial\",\"size\":24},\"text\":\"Features Importance - Regi\\u00f3n de hospedaje\\u003cbr\\u003e\\u003csup\\u003eResponse: \\u003cb\\u003e3\\u003c\\u002fb\\u003e - Total number of features: 35\\u003c\\u002fsup\\u003e\",\"x\":0.5,\"xanchor\":\"center\",\"y\":0.9,\"yanchor\":\"middle\"},\"width\":900,\"xaxis\":{\"title\":{\"font\":{\"color\":\"rgb(50, 50, 50)\",\"family\":\"Arial Black\",\"size\":16},\"text\":\"Mean absolute Contribution\"}},\"yaxis\":{\"title\":{\"font\":{\"color\":\"rgb(50, 50, 50)\",\"family\":\"Arial Black\",\"size\":16}},\"ticktext\":[\"RegionHospedaje__Regi\\u00f3nA...ica\",\"RegionHospedaje__Regi\\u00f3nO...u\\u00eda\",\"RegionHospedaje__Regi\\u00f3nP...ica\",\"RegionHospedaje__Regi\\u00f3nCaribe\",\"RegionHospedaje__Regi\\u00f3nAndina\"],\"tickvals\":[\"RegionHospedaje__Regi\\u00f3nAmaz\\u00f3nica\",\"RegionHospedaje__Regi\\u00f3nOrinoqu\\u00eda\",\"RegionHospedaje__Regi\\u00f3nPac\\u00edfica\",\"RegionHospedaje__Regi\\u00f3nCaribe\",\"RegionHospedaje__Regi\\u00f3nAndina\"],\"tickmode\":\"array\",\"dtick\":1,\"automargin\":true}},                        {\"responsive\": true}                    ).then(function(){\n",
              "                            \n",
              "var gd = document.getElementById('0f417cb7-5dc5-429b-b529-ab94f6c138c6');\n",
              "var x = new MutationObserver(function (mutations, observer) {{\n",
              "        var display = window.getComputedStyle(gd).display;\n",
              "        if (!display || display === 'none') {{\n",
              "            console.log([gd, 'removed!']);\n",
              "            Plotly.purge(gd);\n",
              "            observer.disconnect();\n",
              "        }}\n",
              "}});\n",
              "\n",
              "// Listen for the removal of the full notebook cells\n",
              "var notebookContainer = gd.closest('#notebook-container');\n",
              "if (notebookContainer) {{\n",
              "    x.observe(notebookContainer, {childList: true});\n",
              "}}\n",
              "\n",
              "// Listen for the clearing of the current output cell\n",
              "var outputEl = gd.closest('.output');\n",
              "if (outputEl) {{\n",
              "    x.observe(outputEl, {childList: true});\n",
              "}}\n",
              "\n",
              "                        })                };                            </script>        </div>\n",
              "</body>\n",
              "</html>"
            ]
          },
          "metadata": {}
        }
      ]
    },
    {
      "cell_type": "code",
      "source": [
        "# Mostrar la importancia de las características del grupo \"MotivoViaje\"\n",
        "xpl.plot.features_importance(group_name='Transporte')"
      ],
      "metadata": {
        "colab": {
          "base_uri": "https://localhost:8080/",
          "height": 517
        },
        "id": "riLuxfL4VHKn",
        "outputId": "ae7998dd-b52e-40df-f806-2ab1c9d19877"
      },
      "execution_count": null,
      "outputs": [
        {
          "output_type": "display_data",
          "data": {
            "text/html": [
              "<html>\n",
              "<head><meta charset=\"utf-8\" /></head>\n",
              "<body>\n",
              "    <div>            <script src=\"https://cdnjs.cloudflare.com/ajax/libs/mathjax/2.7.5/MathJax.js?config=TeX-AMS-MML_SVG\"></script><script type=\"text/javascript\">if (window.MathJax && window.MathJax.Hub && window.MathJax.Hub.Config) {window.MathJax.Hub.Config({SVG: {font: \"STIX-Web\"}});}</script>                <script type=\"text/javascript\">window.PlotlyConfig = {MathJaxConfig: 'local'};</script>\n",
              "        <script charset=\"utf-8\" src=\"https://cdn.plot.ly/plotly-2.24.1.min.js\"></script>                <div id=\"9f3945bb-5130-4e1e-bc09-78623f616e6f\" class=\"plotly-graph-div\" style=\"height:500px; width:900px;\"></div>            <script type=\"text/javascript\">                                    window.PLOTLYENV=window.PLOTLYENV || {};                                    if (document.getElementById(\"9f3945bb-5130-4e1e-bc09-78623f616e6f\")) {                    Plotly.newPlot(                        \"9f3945bb-5130-4e1e-bc09-78623f616e6f\",                        [{\"customdata\":[\"Transporte__Otros\",\"Transporte__Terrestre\"],\"hovertemplate\":\"Feature: %{customdata}\\u003cbr \\u002f\\u003eContribution: %{x:.4f}\\u003cextra\\u003e\\u003c\\u002fextra\\u003e\",\"marker\":{\"color\":[\"rgba(244, 192, 0, 1.0)\",\"rgba(244, 192, 0, 1.0)\"],\"line\":{\"color\":\"rgba(52, 55, 54, 0.8)\",\"width\":0.5}},\"name\":\"Global\",\"orientation\":\"h\",\"x\":[0.0029,0.0057],\"y\":[\"Transporte__Otros\",\"Transporte__Terrestre\"],\"type\":\"bar\"}],                        {\"autosize\":false,\"barmode\":\"group\",\"height\":500,\"hovermode\":\"closest\",\"margin\":{\"b\":50,\"l\":160,\"r\":0,\"t\":95},\"template\":{\"data\":{\"scatter\":[{\"type\":\"scatter\"}]}},\"title\":{\"font\":{\"color\":\"rgb(50, 50, 50)\",\"family\":\"Arial\",\"size\":24},\"text\":\"Features Importance - Medio de transporte\\u003cbr\\u003e\\u003csup\\u003eResponse: \\u003cb\\u003e3\\u003c\\u002fb\\u003e - Total number of features: 35\\u003c\\u002fsup\\u003e\",\"x\":0.5,\"xanchor\":\"center\",\"y\":0.9,\"yanchor\":\"middle\"},\"width\":900,\"xaxis\":{\"title\":{\"font\":{\"color\":\"rgb(50, 50, 50)\",\"family\":\"Arial Black\",\"size\":16},\"text\":\"Mean absolute Contribution\"}},\"yaxis\":{\"title\":{\"font\":{\"color\":\"rgb(50, 50, 50)\",\"family\":\"Arial Black\",\"size\":16}},\"ticktext\":[\"Transporte__Otros\",\"Transporte__Terrestre\"],\"tickvals\":[\"Transporte__Otros\",\"Transporte__Terrestre\"],\"tickmode\":\"array\",\"dtick\":1,\"automargin\":true}},                        {\"responsive\": true}                    ).then(function(){\n",
              "                            \n",
              "var gd = document.getElementById('9f3945bb-5130-4e1e-bc09-78623f616e6f');\n",
              "var x = new MutationObserver(function (mutations, observer) {{\n",
              "        var display = window.getComputedStyle(gd).display;\n",
              "        if (!display || display === 'none') {{\n",
              "            console.log([gd, 'removed!']);\n",
              "            Plotly.purge(gd);\n",
              "            observer.disconnect();\n",
              "        }}\n",
              "}});\n",
              "\n",
              "// Listen for the removal of the full notebook cells\n",
              "var notebookContainer = gd.closest('#notebook-container');\n",
              "if (notebookContainer) {{\n",
              "    x.observe(notebookContainer, {childList: true});\n",
              "}}\n",
              "\n",
              "// Listen for the clearing of the current output cell\n",
              "var outputEl = gd.closest('.output');\n",
              "if (outputEl) {{\n",
              "    x.observe(outputEl, {childList: true});\n",
              "}}\n",
              "\n",
              "                        })                };                            </script>        </div>\n",
              "</body>\n",
              "</html>"
            ]
          },
          "metadata": {}
        }
      ]
    },
    {
      "cell_type": "code",
      "source": [
        "# Consultar cuántos valores tiene cada cluster\n",
        "cluster_counts = df_clusters['Cluster'].value_counts()\n",
        "\n",
        "# Mostrar los resultados\n",
        "print(cluster_counts)"
      ],
      "metadata": {
        "colab": {
          "base_uri": "https://localhost:8080/"
        },
        "collapsed": true,
        "id": "VQBs3Yw_WZlR",
        "outputId": "02756890-b2aa-441c-9c55-1158ec577bc5"
      },
      "execution_count": null,
      "outputs": [
        {
          "output_type": "stream",
          "name": "stdout",
          "text": [
            "Cluster\n",
            "1    14927\n",
            "0    12529\n",
            "2    11792\n",
            "3    10752\n",
            "Name: count, dtype: int64\n"
          ]
        }
      ]
    },
    {
      "cell_type": "markdown",
      "source": [
        "# Cluser 1 nombrado como 3"
      ],
      "metadata": {
        "id": "YUP98UxNV87-"
      }
    },
    {
      "cell_type": "code",
      "source": [
        "# Ajustar el modelo KMeans\n",
        "km = KMeans(n_clusters=4,\n",
        "            init='k-means++',\n",
        "            n_init=10,\n",
        "            max_iter=100,\n",
        "            random_state=42)\n",
        "\n",
        "clusters_predict = km.fit_predict(X_reduced)\n",
        "\n",
        "# Crear un DataFrame con las etiquetas de los clusters\n",
        "df_clusters = pd.DataFrame(X_reduced, columns=['Component1', 'Component2'])  # Ajusta los nombres de las columnas según corresponda\n",
        "df_clusters['Cluster'] = clusters_predict\n",
        "\n",
        "# Renombrar los clusters\n",
        "df_clusters['Cluster'] = df_clusters['Cluster'].replace({1: 3, 2: 0, 3: 1, 0: 2})\n",
        "\n",
        "#replace({0: 3, 1: 0, 2: 1, 3: 2})\n",
        "#replace({1: 3, 2: 0, 3: 1, 0: 2})\n",
        "#replace({2: 3, 3: 0, 0: 1, 1: 2})\n",
        "\n",
        "# Mostrar las observaciones de cada cluster con las nuevas etiquetas\n",
        "for cluster_num in range(4):\n",
        "    print(f\"Cluster {cluster_num}:\")\n",
        "    print(df_clusters[df_clusters['Cluster'] == cluster_num])\n",
        "    print(\"\\n\")"
      ],
      "metadata": {
        "colab": {
          "base_uri": "https://localhost:8080/"
        },
        "id": "8m_W-UgiXDGP",
        "outputId": "00286dde-bc50-41ae-d089-4efd22d9d844"
      },
      "execution_count": null,
      "outputs": [
        {
          "output_type": "stream",
          "name": "stdout",
          "text": [
            "Cluster 0:\n",
            "       Component1  Component2  Cluster\n",
            "2        5.401739    0.073766        0\n",
            "3        2.454424   -0.493297        0\n",
            "9        0.120695   -0.912650        0\n",
            "15       2.112465   -0.147320        0\n",
            "21       0.071005   -0.958228        0\n",
            "...           ...         ...      ...\n",
            "49983    3.310445   -1.409350        0\n",
            "49986    4.862739   -2.850296        0\n",
            "49993   -0.204250   -0.889055        0\n",
            "49994    0.951445   -1.246987        0\n",
            "49996    3.947574    1.234275        0\n",
            "\n",
            "[14927 rows x 3 columns]\n",
            "\n",
            "\n",
            "Cluster 1:\n",
            "       Component1  Component2  Cluster\n",
            "0       -9.832147    1.908437        1\n",
            "4       -6.593611    5.727744        1\n",
            "5       -8.214193    3.163666        1\n",
            "8       -9.857970    6.054881        1\n",
            "11      -5.099150   -0.181013        1\n",
            "...           ...         ...      ...\n",
            "49989   -9.385550   12.762519        1\n",
            "49990   -8.202840    3.017769        1\n",
            "49995   -3.009286    3.754771        1\n",
            "49998  -13.920386    5.308617        1\n",
            "49999  -18.735825    5.365563        1\n",
            "\n",
            "[11792 rows x 3 columns]\n",
            "\n",
            "\n",
            "Cluster 2:\n",
            "       Component1  Component2  Cluster\n",
            "6       12.511570   13.762691        2\n",
            "7        9.926367    5.472273        2\n",
            "10       7.852721   11.176318        2\n",
            "14       6.452404   -0.315671        2\n",
            "16      12.511605   13.762753        2\n",
            "...           ...         ...      ...\n",
            "49961    3.835269    3.018259        2\n",
            "49975   13.941009    4.898817        2\n",
            "49981   12.467244    7.315306        2\n",
            "49982    5.336728    6.111658        2\n",
            "49987    8.267038    6.742013        2\n",
            "\n",
            "[10752 rows x 3 columns]\n",
            "\n",
            "\n",
            "Cluster 3:\n",
            "       Component1  Component2  Cluster\n",
            "1        5.224977   22.213394        3\n",
            "19      -7.135254   12.841970        3\n",
            "20       2.376073    8.544271        3\n",
            "22       1.212343   11.632970        3\n",
            "31       0.488932    6.045846        3\n",
            "...           ...         ...      ...\n",
            "49979    0.687983    5.677123        3\n",
            "49988   -2.164070    5.697080        3\n",
            "49991    1.212111   11.646050        3\n",
            "49992    7.713995   15.822710        3\n",
            "49997   -0.434432   16.143492        3\n",
            "\n",
            "[12529 rows x 3 columns]\n",
            "\n",
            "\n"
          ]
        }
      ]
    },
    {
      "cell_type": "code",
      "source": [
        "# Convertir las etiquetas renombradas en una serie\n",
        "clusters_predict_series = df_clusters['Cluster']"
      ],
      "metadata": {
        "id": "BKZntFMRbDwT"
      },
      "execution_count": null,
      "outputs": []
    },
    {
      "cell_type": "code",
      "source": [
        "# Entrenar el modelo LGBMClassifier\n",
        "model = LGBMClassifier(random_state=42)\n",
        "model.fit(df_uno, clusters_predict_series)"
      ],
      "metadata": {
        "colab": {
          "base_uri": "https://localhost:8080/",
          "height": 231
        },
        "id": "Upblqs_qbPoa",
        "outputId": "a4a93a23-56e0-4766-f901-717a2119dbe2"
      },
      "execution_count": null,
      "outputs": [
        {
          "output_type": "stream",
          "name": "stdout",
          "text": [
            "[LightGBM] [Info] Auto-choosing row-wise multi-threading, the overhead of testing was 0.001240 seconds.\n",
            "You can set `force_row_wise=true` to remove the overhead.\n",
            "And if memory is not enough, you can set `force_col_wise=true`.\n",
            "[LightGBM] [Info] Total Bins 74\n",
            "[LightGBM] [Info] Number of data points in the train set: 50000, number of used features: 34\n",
            "[LightGBM] [Info] Start training from score -1.208851\n",
            "[LightGBM] [Info] Start training from score -1.444602\n",
            "[LightGBM] [Info] Start training from score -1.536931\n",
            "[LightGBM] [Info] Start training from score -1.383977\n"
          ]
        },
        {
          "output_type": "execute_result",
          "data": {
            "text/plain": [
              "LGBMClassifier(random_state=42)"
            ],
            "text/html": [
              "<style>#sk-container-id-3 {color: black;background-color: white;}#sk-container-id-3 pre{padding: 0;}#sk-container-id-3 div.sk-toggleable {background-color: white;}#sk-container-id-3 label.sk-toggleable__label {cursor: pointer;display: block;width: 100%;margin-bottom: 0;padding: 0.3em;box-sizing: border-box;text-align: center;}#sk-container-id-3 label.sk-toggleable__label-arrow:before {content: \"▸\";float: left;margin-right: 0.25em;color: #696969;}#sk-container-id-3 label.sk-toggleable__label-arrow:hover:before {color: black;}#sk-container-id-3 div.sk-estimator:hover label.sk-toggleable__label-arrow:before {color: black;}#sk-container-id-3 div.sk-toggleable__content {max-height: 0;max-width: 0;overflow: hidden;text-align: left;background-color: #f0f8ff;}#sk-container-id-3 div.sk-toggleable__content pre {margin: 0.2em;color: black;border-radius: 0.25em;background-color: #f0f8ff;}#sk-container-id-3 input.sk-toggleable__control:checked~div.sk-toggleable__content {max-height: 200px;max-width: 100%;overflow: auto;}#sk-container-id-3 input.sk-toggleable__control:checked~label.sk-toggleable__label-arrow:before {content: \"▾\";}#sk-container-id-3 div.sk-estimator input.sk-toggleable__control:checked~label.sk-toggleable__label {background-color: #d4ebff;}#sk-container-id-3 div.sk-label input.sk-toggleable__control:checked~label.sk-toggleable__label {background-color: #d4ebff;}#sk-container-id-3 input.sk-hidden--visually {border: 0;clip: rect(1px 1px 1px 1px);clip: rect(1px, 1px, 1px, 1px);height: 1px;margin: -1px;overflow: hidden;padding: 0;position: absolute;width: 1px;}#sk-container-id-3 div.sk-estimator {font-family: monospace;background-color: #f0f8ff;border: 1px dotted black;border-radius: 0.25em;box-sizing: border-box;margin-bottom: 0.5em;}#sk-container-id-3 div.sk-estimator:hover {background-color: #d4ebff;}#sk-container-id-3 div.sk-parallel-item::after {content: \"\";width: 100%;border-bottom: 1px solid gray;flex-grow: 1;}#sk-container-id-3 div.sk-label:hover label.sk-toggleable__label {background-color: #d4ebff;}#sk-container-id-3 div.sk-serial::before {content: \"\";position: absolute;border-left: 1px solid gray;box-sizing: border-box;top: 0;bottom: 0;left: 50%;z-index: 0;}#sk-container-id-3 div.sk-serial {display: flex;flex-direction: column;align-items: center;background-color: white;padding-right: 0.2em;padding-left: 0.2em;position: relative;}#sk-container-id-3 div.sk-item {position: relative;z-index: 1;}#sk-container-id-3 div.sk-parallel {display: flex;align-items: stretch;justify-content: center;background-color: white;position: relative;}#sk-container-id-3 div.sk-item::before, #sk-container-id-3 div.sk-parallel-item::before {content: \"\";position: absolute;border-left: 1px solid gray;box-sizing: border-box;top: 0;bottom: 0;left: 50%;z-index: -1;}#sk-container-id-3 div.sk-parallel-item {display: flex;flex-direction: column;z-index: 1;position: relative;background-color: white;}#sk-container-id-3 div.sk-parallel-item:first-child::after {align-self: flex-end;width: 50%;}#sk-container-id-3 div.sk-parallel-item:last-child::after {align-self: flex-start;width: 50%;}#sk-container-id-3 div.sk-parallel-item:only-child::after {width: 0;}#sk-container-id-3 div.sk-dashed-wrapped {border: 1px dashed gray;margin: 0 0.4em 0.5em 0.4em;box-sizing: border-box;padding-bottom: 0.4em;background-color: white;}#sk-container-id-3 div.sk-label label {font-family: monospace;font-weight: bold;display: inline-block;line-height: 1.2em;}#sk-container-id-3 div.sk-label-container {text-align: center;}#sk-container-id-3 div.sk-container {/* jupyter's `normalize.less` sets `[hidden] { display: none; }` but bootstrap.min.css set `[hidden] { display: none !important; }` so we also need the `!important` here to be able to override the default hidden behavior on the sphinx rendered scikit-learn.org. See: https://github.com/scikit-learn/scikit-learn/issues/21755 */display: inline-block !important;position: relative;}#sk-container-id-3 div.sk-text-repr-fallback {display: none;}</style><div id=\"sk-container-id-3\" class=\"sk-top-container\"><div class=\"sk-text-repr-fallback\"><pre>LGBMClassifier(random_state=42)</pre><b>In a Jupyter environment, please rerun this cell to show the HTML representation or trust the notebook. <br />On GitHub, the HTML representation is unable to render, please try loading this page with nbviewer.org.</b></div><div class=\"sk-container\" hidden><div class=\"sk-item\"><div class=\"sk-estimator sk-toggleable\"><input class=\"sk-toggleable__control sk-hidden--visually\" id=\"sk-estimator-id-3\" type=\"checkbox\" checked><label for=\"sk-estimator-id-3\" class=\"sk-toggleable__label sk-toggleable__label-arrow\">LGBMClassifier</label><div class=\"sk-toggleable__content\"><pre>LGBMClassifier(random_state=42)</pre></div></div></div></div></div>"
            ]
          },
          "metadata": {},
          "execution_count": 96
        }
      ]
    },
    {
      "cell_type": "code",
      "source": [
        "# Utilizar SHAP para la explicación\n",
        "explainer = shap.TreeExplainer(model)\n",
        "shap_values = explainer.shap_values(df_uno)"
      ],
      "metadata": {
        "id": "65Jq0GuUbV6B"
      },
      "execution_count": null,
      "outputs": []
    },
    {
      "cell_type": "code",
      "source": [
        "# Crear un SmartExplainer de Shapash\n",
        "xpl = SmartExplainer(model=model, features_groups=features_groups, features_dict=groups_labels)\n",
        "xpl.compile(x=df_uno, y_pred=clusters_predict_series)"
      ],
      "metadata": {
        "colab": {
          "base_uri": "https://localhost:8080/"
        },
        "id": "reaHFRuubdt0",
        "outputId": "4df323ce-9c62-4074-83db-2001ad5cdcf0"
      },
      "execution_count": null,
      "outputs": [
        {
          "output_type": "stream",
          "name": "stdout",
          "text": [
            "INFO: Shap explainer type - <shap.explainers._tree.TreeExplainer object at 0x7e080e0d7550>\n"
          ]
        }
      ]
    },
    {
      "cell_type": "code",
      "source": [
        "# Mostrar la importancia de las características\n",
        "xpl.plot.features_importance()"
      ],
      "metadata": {
        "colab": {
          "base_uri": "https://localhost:8080/",
          "height": 517
        },
        "id": "iBlDRDPpbj5c",
        "outputId": "57fcf13b-3a7b-49f4-9aa6-91b7d1715020"
      },
      "execution_count": null,
      "outputs": [
        {
          "output_type": "display_data",
          "data": {
            "text/html": [
              "<html>\n",
              "<head><meta charset=\"utf-8\" /></head>\n",
              "<body>\n",
              "    <div>            <script src=\"https://cdnjs.cloudflare.com/ajax/libs/mathjax/2.7.5/MathJax.js?config=TeX-AMS-MML_SVG\"></script><script type=\"text/javascript\">if (window.MathJax && window.MathJax.Hub && window.MathJax.Hub.Config) {window.MathJax.Hub.Config({SVG: {font: \"STIX-Web\"}});}</script>                <script type=\"text/javascript\">window.PlotlyConfig = {MathJaxConfig: 'local'};</script>\n",
              "        <script charset=\"utf-8\" src=\"https://cdn.plot.ly/plotly-2.24.1.min.js\"></script>                <div id=\"cb22633a-abcf-4a1e-98a6-406339215c37\" class=\"plotly-graph-div\" style=\"height:500px; width:900px;\"></div>            <script type=\"text/javascript\">                                    window.PLOTLYENV=window.PLOTLYENV || {};                                    if (document.getElementById(\"cb22633a-abcf-4a1e-98a6-406339215c37\")) {                    Plotly.newPlot(                        \"cb22633a-abcf-4a1e-98a6-406339215c37\",                        [{\"customdata\":[\"\\u003cb\\u003eMedio de transporte\",\"\\u003cb\\u003eMes de viaje\",\"RangoEdad_\",\"\\u003cb\\u003eRegi\\u00f3n de origen\",\"\\u003cb\\u003eMotivo del viaje\",\"\\u003cb\\u003eRegi\\u00f3n de hospedaje\"],\"hovertemplate\":\"Feature: %{customdata}\\u003cbr \\u002f\\u003eContribution: %{x:.4f}\\u003cextra\\u003e\\u003c\\u002fextra\\u003e\",\"marker\":{\"color\":[\"rgb(245, 133, 24)\",\"rgb(245, 133, 24)\",\"rgba(244, 192, 0, 1.0)\",\"rgb(245, 133, 24)\",\"rgb(245, 133, 24)\",\"rgb(245, 133, 24)\"],\"line\":{\"color\":\"rgba(52, 55, 54, 0.8)\",\"width\":0.5}},\"name\":\"Global\",\"orientation\":\"h\",\"x\":[0.0064,0.1144,0.1592,0.209,0.2409,0.27],\"y\":[\"\\u003cb\\u003eMedio de transporte\",\"\\u003cb\\u003eMes de viaje\",\"RangoEdad_\",\"\\u003cb\\u003eRegi\\u00f3n de origen\",\"\\u003cb\\u003eMotivo del viaje\",\"\\u003cb\\u003eRegi\\u00f3n de hospedaje\"],\"type\":\"bar\"}],                        {\"autosize\":false,\"barmode\":\"group\",\"height\":500,\"hovermode\":\"closest\",\"margin\":{\"b\":50,\"l\":160,\"r\":0,\"t\":95},\"template\":{\"data\":{\"scatter\":[{\"type\":\"scatter\"}]}},\"title\":{\"font\":{\"color\":\"rgb(50, 50, 50)\",\"family\":\"Arial\",\"size\":24},\"text\":\"Features Importance\\u003cbr\\u003e\\u003csup\\u003eResponse: \\u003cb\\u003e3\\u003c\\u002fb\\u003e - Total number of features: 35\\u003c\\u002fsup\\u003e\",\"x\":0.5,\"xanchor\":\"center\",\"y\":0.9,\"yanchor\":\"middle\"},\"width\":900,\"xaxis\":{\"title\":{\"font\":{\"color\":\"rgb(50, 50, 50)\",\"family\":\"Arial Black\",\"size\":16},\"text\":\"Mean absolute Contribution\"}},\"yaxis\":{\"title\":{\"font\":{\"color\":\"rgb(50, 50, 50)\",\"family\":\"Arial Black\",\"size\":16}},\"ticktext\":[\"\\u003cb\\u003eMedio de transporte\",\"\\u003cb\\u003eMes de viaje\",\"RangoEdad_\",\"\\u003cb\\u003eRegi\\u00f3n de origen\",\"\\u003cb\\u003eMotivo del viaje\",\"\\u003cb\\u003eRegi\\u00f3n de hospedaje\"],\"tickvals\":[\"\\u003cb\\u003eMedio de transporte\",\"\\u003cb\\u003eMes de viaje\",\"RangoEdad_\",\"\\u003cb\\u003eRegi\\u00f3n de origen\",\"\\u003cb\\u003eMotivo del viaje\",\"\\u003cb\\u003eRegi\\u00f3n de hospedaje\"],\"tickmode\":\"array\",\"dtick\":1,\"automargin\":true}},                        {\"responsive\": true}                    ).then(function(){\n",
              "                            \n",
              "var gd = document.getElementById('cb22633a-abcf-4a1e-98a6-406339215c37');\n",
              "var x = new MutationObserver(function (mutations, observer) {{\n",
              "        var display = window.getComputedStyle(gd).display;\n",
              "        if (!display || display === 'none') {{\n",
              "            console.log([gd, 'removed!']);\n",
              "            Plotly.purge(gd);\n",
              "            observer.disconnect();\n",
              "        }}\n",
              "}});\n",
              "\n",
              "// Listen for the removal of the full notebook cells\n",
              "var notebookContainer = gd.closest('#notebook-container');\n",
              "if (notebookContainer) {{\n",
              "    x.observe(notebookContainer, {childList: true});\n",
              "}}\n",
              "\n",
              "// Listen for the clearing of the current output cell\n",
              "var outputEl = gd.closest('.output');\n",
              "if (outputEl) {{\n",
              "    x.observe(outputEl, {childList: true});\n",
              "}}\n",
              "\n",
              "                        })                };                            </script>        </div>\n",
              "</body>\n",
              "</html>"
            ]
          },
          "metadata": {}
        }
      ]
    },
    {
      "cell_type": "code",
      "source": [
        "# Mostrar la importancia de las características del grupo \"MotivoViaje\"\n",
        "xpl.plot.features_importance(group_name='MotivoViaje')"
      ],
      "metadata": {
        "colab": {
          "base_uri": "https://localhost:8080/",
          "height": 517
        },
        "id": "0pUHSx6fdWWg",
        "outputId": "d6493351-9eb5-41b9-9f37-b573ddf12e0e"
      },
      "execution_count": null,
      "outputs": [
        {
          "output_type": "display_data",
          "data": {
            "text/html": [
              "<html>\n",
              "<head><meta charset=\"utf-8\" /></head>\n",
              "<body>\n",
              "    <div>            <script src=\"https://cdnjs.cloudflare.com/ajax/libs/mathjax/2.7.5/MathJax.js?config=TeX-AMS-MML_SVG\"></script><script type=\"text/javascript\">if (window.MathJax && window.MathJax.Hub && window.MathJax.Hub.Config) {window.MathJax.Hub.Config({SVG: {font: \"STIX-Web\"}});}</script>                <script type=\"text/javascript\">window.PlotlyConfig = {MathJaxConfig: 'local'};</script>\n",
              "        <script charset=\"utf-8\" src=\"https://cdn.plot.ly/plotly-2.24.1.min.js\"></script>                <div id=\"77353b7a-d160-443d-ba35-8c7f1e50851d\" class=\"plotly-graph-div\" style=\"height:500px; width:900px;\"></div>            <script type=\"text/javascript\">                                    window.PLOTLYENV=window.PLOTLYENV || {};                                    if (document.getElementById(\"77353b7a-d160-443d-ba35-8c7f1e50851d\")) {                    Plotly.newPlot(                        \"77353b7a-d160-443d-ba35-8c7f1e50851d\",                        [{\"customdata\":[\"MotivoViaje__Protecci\\u00f3nySituacionesEspeciales\",\"MotivoViaje__EstudiosyPr\\u00e1cticas\",\"MotivoViaje__Casosespec\\u00edficosyotros\",\"MotivoViaje__SaludyTratamientoM\\u00e9dico\",\"MotivoViaje__FamiliayRelacionesMaritales\",\"MotivoViaje__Tr\\u00e1nsitoyMovilidad\",\"MotivoViaje__EventosyConferencias\",\"MotivoViaje__NegociosyTrabajo\",\"MotivoViaje__TurismoyViajes\"],\"hovertemplate\":\"Feature: %{customdata}\\u003cbr \\u002f\\u003eContribution: %{x:.4f}\\u003cextra\\u003e\\u003c\\u002fextra\\u003e\",\"marker\":{\"color\":[\"rgba(244, 192, 0, 1.0)\",\"rgba(244, 192, 0, 1.0)\",\"rgba(244, 192, 0, 1.0)\",\"rgba(244, 192, 0, 1.0)\",\"rgba(244, 192, 0, 1.0)\",\"rgba(244, 192, 0, 1.0)\",\"rgba(244, 192, 0, 1.0)\",\"rgba(244, 192, 0, 1.0)\",\"rgba(244, 192, 0, 1.0)\"],\"line\":{\"color\":\"rgba(52, 55, 54, 0.8)\",\"width\":0.5}},\"name\":\"Global\",\"orientation\":\"h\",\"x\":[0.0,0.0,0.0009,0.001,0.0058,0.0081,0.0106,0.0168,0.161],\"y\":[\"MotivoViaje__Protecci\\u00f3nySituacionesEspeciales\",\"MotivoViaje__EstudiosyPr\\u00e1cticas\",\"MotivoViaje__Casosespec\\u00edficosyotros\",\"MotivoViaje__SaludyTratamientoM\\u00e9dico\",\"MotivoViaje__FamiliayRelacionesMaritales\",\"MotivoViaje__Tr\\u00e1nsitoyMovilidad\",\"MotivoViaje__EventosyConferencias\",\"MotivoViaje__NegociosyTrabajo\",\"MotivoViaje__TurismoyViajes\"],\"type\":\"bar\"}],                        {\"autosize\":false,\"barmode\":\"group\",\"height\":500,\"hovermode\":\"closest\",\"margin\":{\"b\":50,\"l\":160,\"r\":0,\"t\":95},\"template\":{\"data\":{\"scatter\":[{\"type\":\"scatter\"}]}},\"title\":{\"font\":{\"color\":\"rgb(50, 50, 50)\",\"family\":\"Arial\",\"size\":24},\"text\":\"Features Importance - Motivo del viaje\\u003cbr\\u003e\\u003csup\\u003eResponse: \\u003cb\\u003e3\\u003c\\u002fb\\u003e - Total number of features: 35\\u003c\\u002fsup\\u003e\",\"x\":0.5,\"xanchor\":\"center\",\"y\":0.9,\"yanchor\":\"middle\"},\"width\":900,\"xaxis\":{\"title\":{\"font\":{\"color\":\"rgb(50, 50, 50)\",\"family\":\"Arial Black\",\"size\":16},\"text\":\"Mean absolute Contribution\"}},\"yaxis\":{\"title\":{\"font\":{\"color\":\"rgb(50, 50, 50)\",\"family\":\"Arial Black\",\"size\":16}},\"ticktext\":[\"MotivoViaje__Protecci\\u00f3ny...les\",\"MotivoViaje__EstudiosyPr...cas\",\"MotivoViaje__Casosespec\\u00ed...ros\",\"MotivoViaje__SaludyTrata...ico\",\"MotivoViaje__FamiliayRel...les\",\"MotivoViaje__Tr\\u00e1nsitoyMo...dad\",\"MotivoViaje__EventosyCon...ias\",\"MotivoViaje__NegociosyTrabajo\",\"MotivoViaje__TurismoyViajes\"],\"tickvals\":[\"MotivoViaje__Protecci\\u00f3nySituacionesEspeciales\",\"MotivoViaje__EstudiosyPr\\u00e1cticas\",\"MotivoViaje__Casosespec\\u00edficosyotros\",\"MotivoViaje__SaludyTratamientoM\\u00e9dico\",\"MotivoViaje__FamiliayRelacionesMaritales\",\"MotivoViaje__Tr\\u00e1nsitoyMovilidad\",\"MotivoViaje__EventosyConferencias\",\"MotivoViaje__NegociosyTrabajo\",\"MotivoViaje__TurismoyViajes\"],\"tickmode\":\"array\",\"dtick\":1,\"automargin\":true}},                        {\"responsive\": true}                    ).then(function(){\n",
              "                            \n",
              "var gd = document.getElementById('77353b7a-d160-443d-ba35-8c7f1e50851d');\n",
              "var x = new MutationObserver(function (mutations, observer) {{\n",
              "        var display = window.getComputedStyle(gd).display;\n",
              "        if (!display || display === 'none') {{\n",
              "            console.log([gd, 'removed!']);\n",
              "            Plotly.purge(gd);\n",
              "            observer.disconnect();\n",
              "        }}\n",
              "}});\n",
              "\n",
              "// Listen for the removal of the full notebook cells\n",
              "var notebookContainer = gd.closest('#notebook-container');\n",
              "if (notebookContainer) {{\n",
              "    x.observe(notebookContainer, {childList: true});\n",
              "}}\n",
              "\n",
              "// Listen for the clearing of the current output cell\n",
              "var outputEl = gd.closest('.output');\n",
              "if (outputEl) {{\n",
              "    x.observe(outputEl, {childList: true});\n",
              "}}\n",
              "\n",
              "                        })                };                            </script>        </div>\n",
              "</body>\n",
              "</html>"
            ]
          },
          "metadata": {}
        }
      ]
    },
    {
      "cell_type": "code",
      "source": [
        "# Mostrar la importancia de las características del grupo \"Mes\"\n",
        "xpl.plot.features_importance(group_name='Mes')"
      ],
      "metadata": {
        "colab": {
          "base_uri": "https://localhost:8080/",
          "height": 517
        },
        "id": "ncnkIDe5d3sy",
        "outputId": "340d04ae-cc1e-45e7-eaed-12923a128276"
      },
      "execution_count": null,
      "outputs": [
        {
          "output_type": "display_data",
          "data": {
            "text/html": [
              "<html>\n",
              "<head><meta charset=\"utf-8\" /></head>\n",
              "<body>\n",
              "    <div>            <script src=\"https://cdnjs.cloudflare.com/ajax/libs/mathjax/2.7.5/MathJax.js?config=TeX-AMS-MML_SVG\"></script><script type=\"text/javascript\">if (window.MathJax && window.MathJax.Hub && window.MathJax.Hub.Config) {window.MathJax.Hub.Config({SVG: {font: \"STIX-Web\"}});}</script>                <script type=\"text/javascript\">window.PlotlyConfig = {MathJaxConfig: 'local'};</script>\n",
              "        <script charset=\"utf-8\" src=\"https://cdn.plot.ly/plotly-2.24.1.min.js\"></script>                <div id=\"6239dfa7-6775-4dc2-81a6-e13acfd4771f\" class=\"plotly-graph-div\" style=\"height:500px; width:900px;\"></div>            <script type=\"text/javascript\">                                    window.PLOTLYENV=window.PLOTLYENV || {};                                    if (document.getElementById(\"6239dfa7-6775-4dc2-81a6-e13acfd4771f\")) {                    Plotly.newPlot(                        \"6239dfa7-6775-4dc2-81a6-e13acfd4771f\",                        [{\"customdata\":[\"Mes__Junio\",\"Mes__Mayo\",\"Mes__Enero\",\"Mes__Marzo\",\"Mes__Diciembre\",\"Mes__Agosto\",\"Mes__Noviembre\",\"Mes__Septiembre\",\"Mes__Julio\",\"Mes__Febrero\",\"Mes__Octubre\"],\"hovertemplate\":\"Feature: %{customdata}\\u003cbr \\u002f\\u003eContribution: %{x:.4f}\\u003cextra\\u003e\\u003c\\u002fextra\\u003e\",\"marker\":{\"color\":[\"rgba(244, 192, 0, 1.0)\",\"rgba(244, 192, 0, 1.0)\",\"rgba(244, 192, 0, 1.0)\",\"rgba(244, 192, 0, 1.0)\",\"rgba(244, 192, 0, 1.0)\",\"rgba(244, 192, 0, 1.0)\",\"rgba(244, 192, 0, 1.0)\",\"rgba(244, 192, 0, 1.0)\",\"rgba(244, 192, 0, 1.0)\",\"rgba(244, 192, 0, 1.0)\",\"rgba(244, 192, 0, 1.0)\"],\"line\":{\"color\":\"rgba(52, 55, 54, 0.8)\",\"width\":0.5}},\"name\":\"Global\",\"orientation\":\"h\",\"x\":[0.006,0.0064,0.0086,0.0097,0.0115,0.0125,0.0137,0.0149,0.0172,0.0203,0.024],\"y\":[\"Mes__Junio\",\"Mes__Mayo\",\"Mes__Enero\",\"Mes__Marzo\",\"Mes__Diciembre\",\"Mes__Agosto\",\"Mes__Noviembre\",\"Mes__Septiembre\",\"Mes__Julio\",\"Mes__Febrero\",\"Mes__Octubre\"],\"type\":\"bar\"}],                        {\"autosize\":false,\"barmode\":\"group\",\"height\":500,\"hovermode\":\"closest\",\"margin\":{\"b\":50,\"l\":160,\"r\":0,\"t\":95},\"template\":{\"data\":{\"scatter\":[{\"type\":\"scatter\"}]}},\"title\":{\"font\":{\"color\":\"rgb(50, 50, 50)\",\"family\":\"Arial\",\"size\":24},\"text\":\"Features Importance - Mes de viaje\\u003cbr\\u003e\\u003csup\\u003eResponse: \\u003cb\\u003e3\\u003c\\u002fb\\u003e - Total number of features: 35\\u003c\\u002fsup\\u003e\",\"x\":0.5,\"xanchor\":\"center\",\"y\":0.9,\"yanchor\":\"middle\"},\"width\":900,\"xaxis\":{\"title\":{\"font\":{\"color\":\"rgb(50, 50, 50)\",\"family\":\"Arial Black\",\"size\":16},\"text\":\"Mean absolute Contribution\"}},\"yaxis\":{\"title\":{\"font\":{\"color\":\"rgb(50, 50, 50)\",\"family\":\"Arial Black\",\"size\":16}},\"ticktext\":[\"Mes__Junio\",\"Mes__Mayo\",\"Mes__Enero\",\"Mes__Marzo\",\"Mes__Diciembre\",\"Mes__Agosto\",\"Mes__Noviembre\",\"Mes__Septiembre\",\"Mes__Julio\",\"Mes__Febrero\",\"Mes__Octubre\"],\"tickvals\":[\"Mes__Junio\",\"Mes__Mayo\",\"Mes__Enero\",\"Mes__Marzo\",\"Mes__Diciembre\",\"Mes__Agosto\",\"Mes__Noviembre\",\"Mes__Septiembre\",\"Mes__Julio\",\"Mes__Febrero\",\"Mes__Octubre\"],\"tickmode\":\"array\",\"dtick\":1,\"automargin\":true}},                        {\"responsive\": true}                    ).then(function(){\n",
              "                            \n",
              "var gd = document.getElementById('6239dfa7-6775-4dc2-81a6-e13acfd4771f');\n",
              "var x = new MutationObserver(function (mutations, observer) {{\n",
              "        var display = window.getComputedStyle(gd).display;\n",
              "        if (!display || display === 'none') {{\n",
              "            console.log([gd, 'removed!']);\n",
              "            Plotly.purge(gd);\n",
              "            observer.disconnect();\n",
              "        }}\n",
              "}});\n",
              "\n",
              "// Listen for the removal of the full notebook cells\n",
              "var notebookContainer = gd.closest('#notebook-container');\n",
              "if (notebookContainer) {{\n",
              "    x.observe(notebookContainer, {childList: true});\n",
              "}}\n",
              "\n",
              "// Listen for the clearing of the current output cell\n",
              "var outputEl = gd.closest('.output');\n",
              "if (outputEl) {{\n",
              "    x.observe(outputEl, {childList: true});\n",
              "}}\n",
              "\n",
              "                        })                };                            </script>        </div>\n",
              "</body>\n",
              "</html>"
            ]
          },
          "metadata": {}
        }
      ]
    },
    {
      "cell_type": "code",
      "source": [
        "# Mostrar la importancia de las características del grupo \"MotivoViaje\"\n",
        "xpl.plot.features_importance(group_name='RegionOrigen')"
      ],
      "metadata": {
        "colab": {
          "base_uri": "https://localhost:8080/",
          "height": 517
        },
        "id": "uU0tBFALeK-_",
        "outputId": "36935d9d-cbd6-4714-88e9-e564ad826c18"
      },
      "execution_count": null,
      "outputs": [
        {
          "output_type": "display_data",
          "data": {
            "text/html": [
              "<html>\n",
              "<head><meta charset=\"utf-8\" /></head>\n",
              "<body>\n",
              "    <div>            <script src=\"https://cdnjs.cloudflare.com/ajax/libs/mathjax/2.7.5/MathJax.js?config=TeX-AMS-MML_SVG\"></script><script type=\"text/javascript\">if (window.MathJax && window.MathJax.Hub && window.MathJax.Hub.Config) {window.MathJax.Hub.Config({SVG: {font: \"STIX-Web\"}});}</script>                <script type=\"text/javascript\">window.PlotlyConfig = {MathJaxConfig: 'local'};</script>\n",
              "        <script charset=\"utf-8\" src=\"https://cdn.plot.ly/plotly-2.24.1.min.js\"></script>                <div id=\"133289ed-178c-4b4e-b580-9bc9c818305b\" class=\"plotly-graph-div\" style=\"height:500px; width:900px;\"></div>            <script type=\"text/javascript\">                                    window.PLOTLYENV=window.PLOTLYENV || {};                                    if (document.getElementById(\"133289ed-178c-4b4e-b580-9bc9c818305b\")) {                    Plotly.newPlot(                        \"133289ed-178c-4b4e-b580-9bc9c818305b\",                        [{\"customdata\":[\"RegionOrigen__Otros\",\"RegionOrigen__Ocean\\u00eda\",\"RegionOrigen__Asia\",\"RegionOrigen__Am\\u00e9ricadelSur\",\"RegionOrigen__Europa\",\"RegionOrigen__Am\\u00e9ricaCentralyelCaribe\",\"RegionOrigen__Am\\u00e9ricadelNorte\"],\"hovertemplate\":\"Feature: %{customdata}\\u003cbr \\u002f\\u003eContribution: %{x:.4f}\\u003cextra\\u003e\\u003c\\u002fextra\\u003e\",\"marker\":{\"color\":[\"rgba(244, 192, 0, 1.0)\",\"rgba(244, 192, 0, 1.0)\",\"rgba(244, 192, 0, 1.0)\",\"rgba(244, 192, 0, 1.0)\",\"rgba(244, 192, 0, 1.0)\",\"rgba(244, 192, 0, 1.0)\",\"rgba(244, 192, 0, 1.0)\"],\"line\":{\"color\":\"rgba(52, 55, 54, 0.8)\",\"width\":0.5}},\"name\":\"Global\",\"orientation\":\"h\",\"x\":[0.0,0.0049,0.015,0.0162,0.0533,0.0563,0.0905],\"y\":[\"RegionOrigen__Otros\",\"RegionOrigen__Ocean\\u00eda\",\"RegionOrigen__Asia\",\"RegionOrigen__Am\\u00e9ricadelSur\",\"RegionOrigen__Europa\",\"RegionOrigen__Am\\u00e9ricaCentralyelCaribe\",\"RegionOrigen__Am\\u00e9ricadelNorte\"],\"type\":\"bar\"}],                        {\"autosize\":false,\"barmode\":\"group\",\"height\":500,\"hovermode\":\"closest\",\"margin\":{\"b\":50,\"l\":160,\"r\":0,\"t\":95},\"template\":{\"data\":{\"scatter\":[{\"type\":\"scatter\"}]}},\"title\":{\"font\":{\"color\":\"rgb(50, 50, 50)\",\"family\":\"Arial\",\"size\":24},\"text\":\"Features Importance - Regi\\u00f3n de origen\\u003cbr\\u003e\\u003csup\\u003eResponse: \\u003cb\\u003e3\\u003c\\u002fb\\u003e - Total number of features: 35\\u003c\\u002fsup\\u003e\",\"x\":0.5,\"xanchor\":\"center\",\"y\":0.9,\"yanchor\":\"middle\"},\"width\":900,\"xaxis\":{\"title\":{\"font\":{\"color\":\"rgb(50, 50, 50)\",\"family\":\"Arial Black\",\"size\":16},\"text\":\"Mean absolute Contribution\"}},\"yaxis\":{\"title\":{\"font\":{\"color\":\"rgb(50, 50, 50)\",\"family\":\"Arial Black\",\"size\":16}},\"ticktext\":[\"RegionOrigen__Otros\",\"RegionOrigen__Ocean\\u00eda\",\"RegionOrigen__Asia\",\"RegionOrigen__Am\\u00e9ricadelSur\",\"RegionOrigen__Europa\",\"RegionOrigen__Am\\u00e9ricaCen...ibe\",\"RegionOrigen__Am\\u00e9ricadelNorte\"],\"tickvals\":[\"RegionOrigen__Otros\",\"RegionOrigen__Ocean\\u00eda\",\"RegionOrigen__Asia\",\"RegionOrigen__Am\\u00e9ricadelSur\",\"RegionOrigen__Europa\",\"RegionOrigen__Am\\u00e9ricaCentralyelCaribe\",\"RegionOrigen__Am\\u00e9ricadelNorte\"],\"tickmode\":\"array\",\"dtick\":1,\"automargin\":true}},                        {\"responsive\": true}                    ).then(function(){\n",
              "                            \n",
              "var gd = document.getElementById('133289ed-178c-4b4e-b580-9bc9c818305b');\n",
              "var x = new MutationObserver(function (mutations, observer) {{\n",
              "        var display = window.getComputedStyle(gd).display;\n",
              "        if (!display || display === 'none') {{\n",
              "            console.log([gd, 'removed!']);\n",
              "            Plotly.purge(gd);\n",
              "            observer.disconnect();\n",
              "        }}\n",
              "}});\n",
              "\n",
              "// Listen for the removal of the full notebook cells\n",
              "var notebookContainer = gd.closest('#notebook-container');\n",
              "if (notebookContainer) {{\n",
              "    x.observe(notebookContainer, {childList: true});\n",
              "}}\n",
              "\n",
              "// Listen for the clearing of the current output cell\n",
              "var outputEl = gd.closest('.output');\n",
              "if (outputEl) {{\n",
              "    x.observe(outputEl, {childList: true});\n",
              "}}\n",
              "\n",
              "                        })                };                            </script>        </div>\n",
              "</body>\n",
              "</html>"
            ]
          },
          "metadata": {}
        }
      ]
    },
    {
      "cell_type": "code",
      "source": [
        "# Mostrar la importancia de las características del grupo \"MotivoViaje\"\n",
        "xpl.plot.features_importance(group_name='RegionHospedaje')"
      ],
      "metadata": {
        "colab": {
          "base_uri": "https://localhost:8080/",
          "height": 517
        },
        "id": "3F70_PraeNip",
        "outputId": "cd5299eb-4234-4be7-f3f1-6964714a0e52"
      },
      "execution_count": null,
      "outputs": [
        {
          "output_type": "display_data",
          "data": {
            "text/html": [
              "<html>\n",
              "<head><meta charset=\"utf-8\" /></head>\n",
              "<body>\n",
              "    <div>            <script src=\"https://cdnjs.cloudflare.com/ajax/libs/mathjax/2.7.5/MathJax.js?config=TeX-AMS-MML_SVG\"></script><script type=\"text/javascript\">if (window.MathJax && window.MathJax.Hub && window.MathJax.Hub.Config) {window.MathJax.Hub.Config({SVG: {font: \"STIX-Web\"}});}</script>                <script type=\"text/javascript\">window.PlotlyConfig = {MathJaxConfig: 'local'};</script>\n",
              "        <script charset=\"utf-8\" src=\"https://cdn.plot.ly/plotly-2.24.1.min.js\"></script>                <div id=\"71631a80-ae69-49c7-8715-4bff7a13152c\" class=\"plotly-graph-div\" style=\"height:500px; width:900px;\"></div>            <script type=\"text/javascript\">                                    window.PLOTLYENV=window.PLOTLYENV || {};                                    if (document.getElementById(\"71631a80-ae69-49c7-8715-4bff7a13152c\")) {                    Plotly.newPlot(                        \"71631a80-ae69-49c7-8715-4bff7a13152c\",                        [{\"customdata\":[\"RegionHospedaje__Regi\\u00f3nAmaz\\u00f3nica\",\"RegionHospedaje__Regi\\u00f3nOrinoqu\\u00eda\",\"RegionHospedaje__Regi\\u00f3nCaribe\",\"RegionHospedaje__Regi\\u00f3nAndina\",\"RegionHospedaje__Regi\\u00f3nPac\\u00edfica\"],\"hovertemplate\":\"Feature: %{customdata}\\u003cbr \\u002f\\u003eContribution: %{x:.4f}\\u003cextra\\u003e\\u003c\\u002fextra\\u003e\",\"marker\":{\"color\":[\"rgba(244, 192, 0, 1.0)\",\"rgba(244, 192, 0, 1.0)\",\"rgba(244, 192, 0, 1.0)\",\"rgba(244, 192, 0, 1.0)\",\"rgba(244, 192, 0, 1.0)\"],\"line\":{\"color\":\"rgba(52, 55, 54, 0.8)\",\"width\":0.5}},\"name\":\"Global\",\"orientation\":\"h\",\"x\":[0.0007,0.0026,0.0465,0.0872,0.1517],\"y\":[\"RegionHospedaje__Regi\\u00f3nAmaz\\u00f3nica\",\"RegionHospedaje__Regi\\u00f3nOrinoqu\\u00eda\",\"RegionHospedaje__Regi\\u00f3nCaribe\",\"RegionHospedaje__Regi\\u00f3nAndina\",\"RegionHospedaje__Regi\\u00f3nPac\\u00edfica\"],\"type\":\"bar\"}],                        {\"autosize\":false,\"barmode\":\"group\",\"height\":500,\"hovermode\":\"closest\",\"margin\":{\"b\":50,\"l\":160,\"r\":0,\"t\":95},\"template\":{\"data\":{\"scatter\":[{\"type\":\"scatter\"}]}},\"title\":{\"font\":{\"color\":\"rgb(50, 50, 50)\",\"family\":\"Arial\",\"size\":24},\"text\":\"Features Importance - Regi\\u00f3n de hospedaje\\u003cbr\\u003e\\u003csup\\u003eResponse: \\u003cb\\u003e3\\u003c\\u002fb\\u003e - Total number of features: 35\\u003c\\u002fsup\\u003e\",\"x\":0.5,\"xanchor\":\"center\",\"y\":0.9,\"yanchor\":\"middle\"},\"width\":900,\"xaxis\":{\"title\":{\"font\":{\"color\":\"rgb(50, 50, 50)\",\"family\":\"Arial Black\",\"size\":16},\"text\":\"Mean absolute Contribution\"}},\"yaxis\":{\"title\":{\"font\":{\"color\":\"rgb(50, 50, 50)\",\"family\":\"Arial Black\",\"size\":16}},\"ticktext\":[\"RegionHospedaje__Regi\\u00f3nA...ica\",\"RegionHospedaje__Regi\\u00f3nO...u\\u00eda\",\"RegionHospedaje__Regi\\u00f3nCaribe\",\"RegionHospedaje__Regi\\u00f3nAndina\",\"RegionHospedaje__Regi\\u00f3nP...ica\"],\"tickvals\":[\"RegionHospedaje__Regi\\u00f3nAmaz\\u00f3nica\",\"RegionHospedaje__Regi\\u00f3nOrinoqu\\u00eda\",\"RegionHospedaje__Regi\\u00f3nCaribe\",\"RegionHospedaje__Regi\\u00f3nAndina\",\"RegionHospedaje__Regi\\u00f3nPac\\u00edfica\"],\"tickmode\":\"array\",\"dtick\":1,\"automargin\":true}},                        {\"responsive\": true}                    ).then(function(){\n",
              "                            \n",
              "var gd = document.getElementById('71631a80-ae69-49c7-8715-4bff7a13152c');\n",
              "var x = new MutationObserver(function (mutations, observer) {{\n",
              "        var display = window.getComputedStyle(gd).display;\n",
              "        if (!display || display === 'none') {{\n",
              "            console.log([gd, 'removed!']);\n",
              "            Plotly.purge(gd);\n",
              "            observer.disconnect();\n",
              "        }}\n",
              "}});\n",
              "\n",
              "// Listen for the removal of the full notebook cells\n",
              "var notebookContainer = gd.closest('#notebook-container');\n",
              "if (notebookContainer) {{\n",
              "    x.observe(notebookContainer, {childList: true});\n",
              "}}\n",
              "\n",
              "// Listen for the clearing of the current output cell\n",
              "var outputEl = gd.closest('.output');\n",
              "if (outputEl) {{\n",
              "    x.observe(outputEl, {childList: true});\n",
              "}}\n",
              "\n",
              "                        })                };                            </script>        </div>\n",
              "</body>\n",
              "</html>"
            ]
          },
          "metadata": {}
        }
      ]
    },
    {
      "cell_type": "code",
      "source": [
        "# Mostrar la importancia de las características del grupo \"MotivoViaje\"\n",
        "xpl.plot.features_importance(group_name='Transporte')"
      ],
      "metadata": {
        "colab": {
          "base_uri": "https://localhost:8080/",
          "height": 517
        },
        "id": "yVMTf7AjeV1d",
        "outputId": "aae78098-9175-4371-f32a-674e4a2a4563"
      },
      "execution_count": null,
      "outputs": [
        {
          "output_type": "display_data",
          "data": {
            "text/html": [
              "<html>\n",
              "<head><meta charset=\"utf-8\" /></head>\n",
              "<body>\n",
              "    <div>            <script src=\"https://cdnjs.cloudflare.com/ajax/libs/mathjax/2.7.5/MathJax.js?config=TeX-AMS-MML_SVG\"></script><script type=\"text/javascript\">if (window.MathJax && window.MathJax.Hub && window.MathJax.Hub.Config) {window.MathJax.Hub.Config({SVG: {font: \"STIX-Web\"}});}</script>                <script type=\"text/javascript\">window.PlotlyConfig = {MathJaxConfig: 'local'};</script>\n",
              "        <script charset=\"utf-8\" src=\"https://cdn.plot.ly/plotly-2.24.1.min.js\"></script>                <div id=\"d4423d4c-f5e1-48f4-b052-88fe06de65e0\" class=\"plotly-graph-div\" style=\"height:500px; width:900px;\"></div>            <script type=\"text/javascript\">                                    window.PLOTLYENV=window.PLOTLYENV || {};                                    if (document.getElementById(\"d4423d4c-f5e1-48f4-b052-88fe06de65e0\")) {                    Plotly.newPlot(                        \"d4423d4c-f5e1-48f4-b052-88fe06de65e0\",                        [{\"customdata\":[\"Transporte__Otros\",\"Transporte__Terrestre\"],\"hovertemplate\":\"Feature: %{customdata}\\u003cbr \\u002f\\u003eContribution: %{x:.4f}\\u003cextra\\u003e\\u003c\\u002fextra\\u003e\",\"marker\":{\"color\":[\"rgba(244, 192, 0, 1.0)\",\"rgba(244, 192, 0, 1.0)\"],\"line\":{\"color\":\"rgba(52, 55, 54, 0.8)\",\"width\":0.5}},\"name\":\"Global\",\"orientation\":\"h\",\"x\":[0.0008,0.0044],\"y\":[\"Transporte__Otros\",\"Transporte__Terrestre\"],\"type\":\"bar\"}],                        {\"autosize\":false,\"barmode\":\"group\",\"height\":500,\"hovermode\":\"closest\",\"margin\":{\"b\":50,\"l\":160,\"r\":0,\"t\":95},\"template\":{\"data\":{\"scatter\":[{\"type\":\"scatter\"}]}},\"title\":{\"font\":{\"color\":\"rgb(50, 50, 50)\",\"family\":\"Arial\",\"size\":24},\"text\":\"Features Importance - Medio de transporte\\u003cbr\\u003e\\u003csup\\u003eResponse: \\u003cb\\u003e3\\u003c\\u002fb\\u003e - Total number of features: 35\\u003c\\u002fsup\\u003e\",\"x\":0.5,\"xanchor\":\"center\",\"y\":0.9,\"yanchor\":\"middle\"},\"width\":900,\"xaxis\":{\"title\":{\"font\":{\"color\":\"rgb(50, 50, 50)\",\"family\":\"Arial Black\",\"size\":16},\"text\":\"Mean absolute Contribution\"}},\"yaxis\":{\"title\":{\"font\":{\"color\":\"rgb(50, 50, 50)\",\"family\":\"Arial Black\",\"size\":16}},\"ticktext\":[\"Transporte__Otros\",\"Transporte__Terrestre\"],\"tickvals\":[\"Transporte__Otros\",\"Transporte__Terrestre\"],\"tickmode\":\"array\",\"dtick\":1,\"automargin\":true}},                        {\"responsive\": true}                    ).then(function(){\n",
              "                            \n",
              "var gd = document.getElementById('d4423d4c-f5e1-48f4-b052-88fe06de65e0');\n",
              "var x = new MutationObserver(function (mutations, observer) {{\n",
              "        var display = window.getComputedStyle(gd).display;\n",
              "        if (!display || display === 'none') {{\n",
              "            console.log([gd, 'removed!']);\n",
              "            Plotly.purge(gd);\n",
              "            observer.disconnect();\n",
              "        }}\n",
              "}});\n",
              "\n",
              "// Listen for the removal of the full notebook cells\n",
              "var notebookContainer = gd.closest('#notebook-container');\n",
              "if (notebookContainer) {{\n",
              "    x.observe(notebookContainer, {childList: true});\n",
              "}}\n",
              "\n",
              "// Listen for the clearing of the current output cell\n",
              "var outputEl = gd.closest('.output');\n",
              "if (outputEl) {{\n",
              "    x.observe(outputEl, {childList: true});\n",
              "}}\n",
              "\n",
              "                        })                };                            </script>        </div>\n",
              "</body>\n",
              "</html>"
            ]
          },
          "metadata": {}
        }
      ]
    },
    {
      "cell_type": "markdown",
      "source": [
        "## Cluster 2 nombrado como 3"
      ],
      "metadata": {
        "id": "eKd3FswEegIc"
      }
    },
    {
      "cell_type": "code",
      "source": [
        "# Ajustar el modelo KMeans\n",
        "km = KMeans(n_clusters=4,\n",
        "            init='k-means++',\n",
        "            n_init=10,\n",
        "            max_iter=100,\n",
        "            random_state=42)\n",
        "\n",
        "clusters_predict = km.fit_predict(X_reduced)\n",
        "\n",
        "# Crear un DataFrame con las etiquetas de los clusters\n",
        "df_clusters = pd.DataFrame(X_reduced, columns=['Component1', 'Component2'])  # Ajusta los nombres de las columnas según corresponda\n",
        "df_clusters['Cluster'] = clusters_predict\n",
        "\n",
        "# Renombrar los clusters\n",
        "df_clusters['Cluster'] = df_clusters['Cluster'].replace({2: 3, 3: 0, 0: 1, 1: 2})\n",
        "\n",
        "#replace({0: 3, 1: 0, 2: 1, 3: 2})\n",
        "#replace({1: 3, 2: 0, 3: 1, 0: 2})\n",
        "#replace({2: 3, 3: 0, 0: 1, 1: 2})\n",
        "\n",
        "# Mostrar las observaciones de cada cluster con las nuevas etiquetas\n",
        "for cluster_num in range(4):\n",
        "    print(f\"Cluster {cluster_num}:\")\n",
        "    print(df_clusters[df_clusters['Cluster'] == cluster_num])\n",
        "    print(\"\\n\")"
      ],
      "metadata": {
        "colab": {
          "base_uri": "https://localhost:8080/"
        },
        "id": "GSDgRbVoefZ5",
        "outputId": "a6971e4a-a207-44ea-86ec-234028684044"
      },
      "execution_count": null,
      "outputs": [
        {
          "output_type": "stream",
          "name": "stdout",
          "text": [
            "Cluster 0:\n",
            "       Component1  Component2  Cluster\n",
            "0       -9.832147    1.908437        0\n",
            "4       -6.593611    5.727744        0\n",
            "5       -8.214193    3.163666        0\n",
            "8       -9.857970    6.054881        0\n",
            "11      -5.099150   -0.181013        0\n",
            "...           ...         ...      ...\n",
            "49989   -9.385550   12.762519        0\n",
            "49990   -8.202840    3.017769        0\n",
            "49995   -3.009286    3.754771        0\n",
            "49998  -13.920386    5.308617        0\n",
            "49999  -18.735825    5.365563        0\n",
            "\n",
            "[11792 rows x 3 columns]\n",
            "\n",
            "\n",
            "Cluster 1:\n",
            "       Component1  Component2  Cluster\n",
            "6       12.511570   13.762691        1\n",
            "7        9.926367    5.472273        1\n",
            "10       7.852721   11.176318        1\n",
            "14       6.452404   -0.315671        1\n",
            "16      12.511605   13.762753        1\n",
            "...           ...         ...      ...\n",
            "49961    3.835269    3.018259        1\n",
            "49975   13.941009    4.898817        1\n",
            "49981   12.467244    7.315306        1\n",
            "49982    5.336728    6.111658        1\n",
            "49987    8.267038    6.742013        1\n",
            "\n",
            "[10752 rows x 3 columns]\n",
            "\n",
            "\n",
            "Cluster 2:\n",
            "       Component1  Component2  Cluster\n",
            "1        5.224977   22.213394        2\n",
            "19      -7.135254   12.841970        2\n",
            "20       2.376073    8.544271        2\n",
            "22       1.212343   11.632970        2\n",
            "31       0.488932    6.045846        2\n",
            "...           ...         ...      ...\n",
            "49979    0.687983    5.677123        2\n",
            "49988   -2.164070    5.697080        2\n",
            "49991    1.212111   11.646050        2\n",
            "49992    7.713995   15.822710        2\n",
            "49997   -0.434432   16.143492        2\n",
            "\n",
            "[12529 rows x 3 columns]\n",
            "\n",
            "\n",
            "Cluster 3:\n",
            "       Component1  Component2  Cluster\n",
            "2        5.401739    0.073766        3\n",
            "3        2.454424   -0.493297        3\n",
            "9        0.120695   -0.912650        3\n",
            "15       2.112465   -0.147320        3\n",
            "21       0.071005   -0.958228        3\n",
            "...           ...         ...      ...\n",
            "49983    3.310445   -1.409350        3\n",
            "49986    4.862739   -2.850296        3\n",
            "49993   -0.204250   -0.889055        3\n",
            "49994    0.951445   -1.246987        3\n",
            "49996    3.947574    1.234275        3\n",
            "\n",
            "[14927 rows x 3 columns]\n",
            "\n",
            "\n"
          ]
        }
      ]
    },
    {
      "cell_type": "code",
      "source": [
        "# Convertir las etiquetas renombradas en una serie\n",
        "clusters_predict_series = df_clusters['Cluster']"
      ],
      "metadata": {
        "id": "Iutw1m1vf6kX"
      },
      "execution_count": null,
      "outputs": []
    },
    {
      "cell_type": "code",
      "source": [
        "# Entrenar el modelo LGBMClassifier\n",
        "model = LGBMClassifier(random_state=42)\n",
        "model.fit(df_uno, clusters_predict_series)"
      ],
      "metadata": {
        "colab": {
          "base_uri": "https://localhost:8080/",
          "height": 231
        },
        "id": "PE4C8YYngBh0",
        "outputId": "f5d11ff3-79ce-4612-ba27-bc5eb548440e"
      },
      "execution_count": null,
      "outputs": [
        {
          "output_type": "stream",
          "name": "stdout",
          "text": [
            "[LightGBM] [Info] Auto-choosing row-wise multi-threading, the overhead of testing was 0.001262 seconds.\n",
            "You can set `force_row_wise=true` to remove the overhead.\n",
            "And if memory is not enough, you can set `force_col_wise=true`.\n",
            "[LightGBM] [Info] Total Bins 74\n",
            "[LightGBM] [Info] Number of data points in the train set: 50000, number of used features: 34\n",
            "[LightGBM] [Info] Start training from score -1.444602\n",
            "[LightGBM] [Info] Start training from score -1.536931\n",
            "[LightGBM] [Info] Start training from score -1.383977\n",
            "[LightGBM] [Info] Start training from score -1.208851\n"
          ]
        },
        {
          "output_type": "execute_result",
          "data": {
            "text/plain": [
              "LGBMClassifier(random_state=42)"
            ],
            "text/html": [
              "<style>#sk-container-id-4 {color: black;background-color: white;}#sk-container-id-4 pre{padding: 0;}#sk-container-id-4 div.sk-toggleable {background-color: white;}#sk-container-id-4 label.sk-toggleable__label {cursor: pointer;display: block;width: 100%;margin-bottom: 0;padding: 0.3em;box-sizing: border-box;text-align: center;}#sk-container-id-4 label.sk-toggleable__label-arrow:before {content: \"▸\";float: left;margin-right: 0.25em;color: #696969;}#sk-container-id-4 label.sk-toggleable__label-arrow:hover:before {color: black;}#sk-container-id-4 div.sk-estimator:hover label.sk-toggleable__label-arrow:before {color: black;}#sk-container-id-4 div.sk-toggleable__content {max-height: 0;max-width: 0;overflow: hidden;text-align: left;background-color: #f0f8ff;}#sk-container-id-4 div.sk-toggleable__content pre {margin: 0.2em;color: black;border-radius: 0.25em;background-color: #f0f8ff;}#sk-container-id-4 input.sk-toggleable__control:checked~div.sk-toggleable__content {max-height: 200px;max-width: 100%;overflow: auto;}#sk-container-id-4 input.sk-toggleable__control:checked~label.sk-toggleable__label-arrow:before {content: \"▾\";}#sk-container-id-4 div.sk-estimator input.sk-toggleable__control:checked~label.sk-toggleable__label {background-color: #d4ebff;}#sk-container-id-4 div.sk-label input.sk-toggleable__control:checked~label.sk-toggleable__label {background-color: #d4ebff;}#sk-container-id-4 input.sk-hidden--visually {border: 0;clip: rect(1px 1px 1px 1px);clip: rect(1px, 1px, 1px, 1px);height: 1px;margin: -1px;overflow: hidden;padding: 0;position: absolute;width: 1px;}#sk-container-id-4 div.sk-estimator {font-family: monospace;background-color: #f0f8ff;border: 1px dotted black;border-radius: 0.25em;box-sizing: border-box;margin-bottom: 0.5em;}#sk-container-id-4 div.sk-estimator:hover {background-color: #d4ebff;}#sk-container-id-4 div.sk-parallel-item::after {content: \"\";width: 100%;border-bottom: 1px solid gray;flex-grow: 1;}#sk-container-id-4 div.sk-label:hover label.sk-toggleable__label {background-color: #d4ebff;}#sk-container-id-4 div.sk-serial::before {content: \"\";position: absolute;border-left: 1px solid gray;box-sizing: border-box;top: 0;bottom: 0;left: 50%;z-index: 0;}#sk-container-id-4 div.sk-serial {display: flex;flex-direction: column;align-items: center;background-color: white;padding-right: 0.2em;padding-left: 0.2em;position: relative;}#sk-container-id-4 div.sk-item {position: relative;z-index: 1;}#sk-container-id-4 div.sk-parallel {display: flex;align-items: stretch;justify-content: center;background-color: white;position: relative;}#sk-container-id-4 div.sk-item::before, #sk-container-id-4 div.sk-parallel-item::before {content: \"\";position: absolute;border-left: 1px solid gray;box-sizing: border-box;top: 0;bottom: 0;left: 50%;z-index: -1;}#sk-container-id-4 div.sk-parallel-item {display: flex;flex-direction: column;z-index: 1;position: relative;background-color: white;}#sk-container-id-4 div.sk-parallel-item:first-child::after {align-self: flex-end;width: 50%;}#sk-container-id-4 div.sk-parallel-item:last-child::after {align-self: flex-start;width: 50%;}#sk-container-id-4 div.sk-parallel-item:only-child::after {width: 0;}#sk-container-id-4 div.sk-dashed-wrapped {border: 1px dashed gray;margin: 0 0.4em 0.5em 0.4em;box-sizing: border-box;padding-bottom: 0.4em;background-color: white;}#sk-container-id-4 div.sk-label label {font-family: monospace;font-weight: bold;display: inline-block;line-height: 1.2em;}#sk-container-id-4 div.sk-label-container {text-align: center;}#sk-container-id-4 div.sk-container {/* jupyter's `normalize.less` sets `[hidden] { display: none; }` but bootstrap.min.css set `[hidden] { display: none !important; }` so we also need the `!important` here to be able to override the default hidden behavior on the sphinx rendered scikit-learn.org. See: https://github.com/scikit-learn/scikit-learn/issues/21755 */display: inline-block !important;position: relative;}#sk-container-id-4 div.sk-text-repr-fallback {display: none;}</style><div id=\"sk-container-id-4\" class=\"sk-top-container\"><div class=\"sk-text-repr-fallback\"><pre>LGBMClassifier(random_state=42)</pre><b>In a Jupyter environment, please rerun this cell to show the HTML representation or trust the notebook. <br />On GitHub, the HTML representation is unable to render, please try loading this page with nbviewer.org.</b></div><div class=\"sk-container\" hidden><div class=\"sk-item\"><div class=\"sk-estimator sk-toggleable\"><input class=\"sk-toggleable__control sk-hidden--visually\" id=\"sk-estimator-id-4\" type=\"checkbox\" checked><label for=\"sk-estimator-id-4\" class=\"sk-toggleable__label sk-toggleable__label-arrow\">LGBMClassifier</label><div class=\"sk-toggleable__content\"><pre>LGBMClassifier(random_state=42)</pre></div></div></div></div></div>"
            ]
          },
          "metadata": {},
          "execution_count": 107
        }
      ]
    },
    {
      "cell_type": "code",
      "source": [
        "# Utilizar SHAP para la explicación\n",
        "explainer = shap.TreeExplainer(model)\n",
        "shap_values = explainer.shap_values(df_uno)"
      ],
      "metadata": {
        "id": "CCPnqhr9gHT2"
      },
      "execution_count": null,
      "outputs": []
    },
    {
      "cell_type": "code",
      "source": [
        "# Crear un SmartExplainer de Shapash\n",
        "xpl = SmartExplainer(model=model, features_groups=features_groups, features_dict=groups_labels)\n",
        "xpl.compile(x=df_uno, y_pred=clusters_predict_series)"
      ],
      "metadata": {
        "colab": {
          "base_uri": "https://localhost:8080/"
        },
        "id": "VEaW803FgNin",
        "outputId": "de573477-384f-4120-8d37-fc0a33b3547b"
      },
      "execution_count": null,
      "outputs": [
        {
          "output_type": "stream",
          "name": "stdout",
          "text": [
            "INFO: Shap explainer type - <shap.explainers._tree.TreeExplainer object at 0x7e080e8f4f10>\n"
          ]
        }
      ]
    },
    {
      "cell_type": "code",
      "source": [
        "# Mostrar la importancia de las características\n",
        "xpl.plot.features_importance()"
      ],
      "metadata": {
        "colab": {
          "base_uri": "https://localhost:8080/",
          "height": 517
        },
        "id": "yomeJZFbgjbQ",
        "outputId": "9ba4e87e-584d-48db-a5d1-ba857409e262"
      },
      "execution_count": null,
      "outputs": [
        {
          "output_type": "display_data",
          "data": {
            "text/html": [
              "<html>\n",
              "<head><meta charset=\"utf-8\" /></head>\n",
              "<body>\n",
              "    <div>            <script src=\"https://cdnjs.cloudflare.com/ajax/libs/mathjax/2.7.5/MathJax.js?config=TeX-AMS-MML_SVG\"></script><script type=\"text/javascript\">if (window.MathJax && window.MathJax.Hub && window.MathJax.Hub.Config) {window.MathJax.Hub.Config({SVG: {font: \"STIX-Web\"}});}</script>                <script type=\"text/javascript\">window.PlotlyConfig = {MathJaxConfig: 'local'};</script>\n",
              "        <script charset=\"utf-8\" src=\"https://cdn.plot.ly/plotly-2.24.1.min.js\"></script>                <div id=\"8e858c14-cab9-4986-b669-a389167f4624\" class=\"plotly-graph-div\" style=\"height:500px; width:900px;\"></div>            <script type=\"text/javascript\">                                    window.PLOTLYENV=window.PLOTLYENV || {};                                    if (document.getElementById(\"8e858c14-cab9-4986-b669-a389167f4624\")) {                    Plotly.newPlot(                        \"8e858c14-cab9-4986-b669-a389167f4624\",                        [{\"customdata\":[\"\\u003cb\\u003eMedio de transporte\",\"RangoEdad_\",\"\\u003cb\\u003eRegi\\u00f3n de hospedaje\",\"\\u003cb\\u003eMes de viaje\",\"\\u003cb\\u003eMotivo del viaje\",\"\\u003cb\\u003eRegi\\u00f3n de origen\"],\"hovertemplate\":\"Feature: %{customdata}\\u003cbr \\u002f\\u003eContribution: %{x:.4f}\\u003cextra\\u003e\\u003c\\u002fextra\\u003e\",\"marker\":{\"color\":[\"rgb(245, 133, 24)\",\"rgba(244, 192, 0, 1.0)\",\"rgb(245, 133, 24)\",\"rgb(245, 133, 24)\",\"rgb(245, 133, 24)\",\"rgb(245, 133, 24)\"],\"line\":{\"color\":\"rgba(52, 55, 54, 0.8)\",\"width\":0.5}},\"name\":\"Global\",\"orientation\":\"h\",\"x\":[0.0274,0.1105,0.1363,0.1505,0.1691,0.4063],\"y\":[\"\\u003cb\\u003eMedio de transporte\",\"RangoEdad_\",\"\\u003cb\\u003eRegi\\u00f3n de hospedaje\",\"\\u003cb\\u003eMes de viaje\",\"\\u003cb\\u003eMotivo del viaje\",\"\\u003cb\\u003eRegi\\u00f3n de origen\"],\"type\":\"bar\"}],                        {\"autosize\":false,\"barmode\":\"group\",\"height\":500,\"hovermode\":\"closest\",\"margin\":{\"b\":50,\"l\":160,\"r\":0,\"t\":95},\"template\":{\"data\":{\"scatter\":[{\"type\":\"scatter\"}]}},\"title\":{\"font\":{\"color\":\"rgb(50, 50, 50)\",\"family\":\"Arial\",\"size\":24},\"text\":\"Features Importance\\u003cbr\\u003e\\u003csup\\u003eResponse: \\u003cb\\u003e3\\u003c\\u002fb\\u003e - Total number of features: 35\\u003c\\u002fsup\\u003e\",\"x\":0.5,\"xanchor\":\"center\",\"y\":0.9,\"yanchor\":\"middle\"},\"width\":900,\"xaxis\":{\"title\":{\"font\":{\"color\":\"rgb(50, 50, 50)\",\"family\":\"Arial Black\",\"size\":16},\"text\":\"Mean absolute Contribution\"}},\"yaxis\":{\"title\":{\"font\":{\"color\":\"rgb(50, 50, 50)\",\"family\":\"Arial Black\",\"size\":16}},\"ticktext\":[\"\\u003cb\\u003eMedio de transporte\",\"RangoEdad_\",\"\\u003cb\\u003eRegi\\u00f3n de hospedaje\",\"\\u003cb\\u003eMes de viaje\",\"\\u003cb\\u003eMotivo del viaje\",\"\\u003cb\\u003eRegi\\u00f3n de origen\"],\"tickvals\":[\"\\u003cb\\u003eMedio de transporte\",\"RangoEdad_\",\"\\u003cb\\u003eRegi\\u00f3n de hospedaje\",\"\\u003cb\\u003eMes de viaje\",\"\\u003cb\\u003eMotivo del viaje\",\"\\u003cb\\u003eRegi\\u00f3n de origen\"],\"tickmode\":\"array\",\"dtick\":1,\"automargin\":true}},                        {\"responsive\": true}                    ).then(function(){\n",
              "                            \n",
              "var gd = document.getElementById('8e858c14-cab9-4986-b669-a389167f4624');\n",
              "var x = new MutationObserver(function (mutations, observer) {{\n",
              "        var display = window.getComputedStyle(gd).display;\n",
              "        if (!display || display === 'none') {{\n",
              "            console.log([gd, 'removed!']);\n",
              "            Plotly.purge(gd);\n",
              "            observer.disconnect();\n",
              "        }}\n",
              "}});\n",
              "\n",
              "// Listen for the removal of the full notebook cells\n",
              "var notebookContainer = gd.closest('#notebook-container');\n",
              "if (notebookContainer) {{\n",
              "    x.observe(notebookContainer, {childList: true});\n",
              "}}\n",
              "\n",
              "// Listen for the clearing of the current output cell\n",
              "var outputEl = gd.closest('.output');\n",
              "if (outputEl) {{\n",
              "    x.observe(outputEl, {childList: true});\n",
              "}}\n",
              "\n",
              "                        })                };                            </script>        </div>\n",
              "</body>\n",
              "</html>"
            ]
          },
          "metadata": {}
        }
      ]
    },
    {
      "cell_type": "code",
      "source": [
        "# Mostrar la importancia de las características del grupo \"MotivoViaje\"\n",
        "xpl.plot.features_importance(group_name='MotivoViaje')"
      ],
      "metadata": {
        "colab": {
          "base_uri": "https://localhost:8080/",
          "height": 517
        },
        "id": "3Z7cutfqg6oH",
        "outputId": "6a7b98b0-306e-43f8-c93b-ad481e455e54"
      },
      "execution_count": null,
      "outputs": [
        {
          "output_type": "display_data",
          "data": {
            "text/html": [
              "<html>\n",
              "<head><meta charset=\"utf-8\" /></head>\n",
              "<body>\n",
              "    <div>            <script src=\"https://cdnjs.cloudflare.com/ajax/libs/mathjax/2.7.5/MathJax.js?config=TeX-AMS-MML_SVG\"></script><script type=\"text/javascript\">if (window.MathJax && window.MathJax.Hub && window.MathJax.Hub.Config) {window.MathJax.Hub.Config({SVG: {font: \"STIX-Web\"}});}</script>                <script type=\"text/javascript\">window.PlotlyConfig = {MathJaxConfig: 'local'};</script>\n",
              "        <script charset=\"utf-8\" src=\"https://cdn.plot.ly/plotly-2.24.1.min.js\"></script>                <div id=\"0af0ab06-5cd0-4774-98e8-293789eeb181\" class=\"plotly-graph-div\" style=\"height:500px; width:900px;\"></div>            <script type=\"text/javascript\">                                    window.PLOTLYENV=window.PLOTLYENV || {};                                    if (document.getElementById(\"0af0ab06-5cd0-4774-98e8-293789eeb181\")) {                    Plotly.newPlot(                        \"0af0ab06-5cd0-4774-98e8-293789eeb181\",                        [{\"customdata\":[\"MotivoViaje__EventosyConferencias\",\"MotivoViaje__Protecci\\u00f3nySituacionesEspeciales\",\"MotivoViaje__Casosespec\\u00edficosyotros\",\"MotivoViaje__EstudiosyPr\\u00e1cticas\",\"MotivoViaje__SaludyTratamientoM\\u00e9dico\",\"MotivoViaje__FamiliayRelacionesMaritales\",\"MotivoViaje__Tr\\u00e1nsitoyMovilidad\",\"MotivoViaje__NegociosyTrabajo\",\"MotivoViaje__TurismoyViajes\"],\"hovertemplate\":\"Feature: %{customdata}\\u003cbr \\u002f\\u003eContribution: %{x:.4f}\\u003cextra\\u003e\\u003c\\u002fextra\\u003e\",\"marker\":{\"color\":[\"rgba(244, 192, 0, 1.0)\",\"rgba(244, 192, 0, 1.0)\",\"rgba(244, 192, 0, 1.0)\",\"rgba(244, 192, 0, 1.0)\",\"rgba(244, 192, 0, 1.0)\",\"rgba(244, 192, 0, 1.0)\",\"rgba(244, 192, 0, 1.0)\",\"rgba(244, 192, 0, 1.0)\",\"rgba(244, 192, 0, 1.0)\"],\"line\":{\"color\":\"rgba(52, 55, 54, 0.8)\",\"width\":0.5}},\"name\":\"Global\",\"orientation\":\"h\",\"x\":[0.0,0.0,0.0007,0.0013,0.0021,0.0058,0.0136,0.0233,0.1071],\"y\":[\"MotivoViaje__EventosyConferencias\",\"MotivoViaje__Protecci\\u00f3nySituacionesEspeciales\",\"MotivoViaje__Casosespec\\u00edficosyotros\",\"MotivoViaje__EstudiosyPr\\u00e1cticas\",\"MotivoViaje__SaludyTratamientoM\\u00e9dico\",\"MotivoViaje__FamiliayRelacionesMaritales\",\"MotivoViaje__Tr\\u00e1nsitoyMovilidad\",\"MotivoViaje__NegociosyTrabajo\",\"MotivoViaje__TurismoyViajes\"],\"type\":\"bar\"}],                        {\"autosize\":false,\"barmode\":\"group\",\"height\":500,\"hovermode\":\"closest\",\"margin\":{\"b\":50,\"l\":160,\"r\":0,\"t\":95},\"template\":{\"data\":{\"scatter\":[{\"type\":\"scatter\"}]}},\"title\":{\"font\":{\"color\":\"rgb(50, 50, 50)\",\"family\":\"Arial\",\"size\":24},\"text\":\"Features Importance - Motivo del viaje\\u003cbr\\u003e\\u003csup\\u003eResponse: \\u003cb\\u003e3\\u003c\\u002fb\\u003e - Total number of features: 35\\u003c\\u002fsup\\u003e\",\"x\":0.5,\"xanchor\":\"center\",\"y\":0.9,\"yanchor\":\"middle\"},\"width\":900,\"xaxis\":{\"title\":{\"font\":{\"color\":\"rgb(50, 50, 50)\",\"family\":\"Arial Black\",\"size\":16},\"text\":\"Mean absolute Contribution\"}},\"yaxis\":{\"title\":{\"font\":{\"color\":\"rgb(50, 50, 50)\",\"family\":\"Arial Black\",\"size\":16}},\"ticktext\":[\"MotivoViaje__EventosyCon...ias\",\"MotivoViaje__Protecci\\u00f3ny...les\",\"MotivoViaje__Casosespec\\u00ed...ros\",\"MotivoViaje__EstudiosyPr...cas\",\"MotivoViaje__SaludyTrata...ico\",\"MotivoViaje__FamiliayRel...les\",\"MotivoViaje__Tr\\u00e1nsitoyMo...dad\",\"MotivoViaje__NegociosyTrabajo\",\"MotivoViaje__TurismoyViajes\"],\"tickvals\":[\"MotivoViaje__EventosyConferencias\",\"MotivoViaje__Protecci\\u00f3nySituacionesEspeciales\",\"MotivoViaje__Casosespec\\u00edficosyotros\",\"MotivoViaje__EstudiosyPr\\u00e1cticas\",\"MotivoViaje__SaludyTratamientoM\\u00e9dico\",\"MotivoViaje__FamiliayRelacionesMaritales\",\"MotivoViaje__Tr\\u00e1nsitoyMovilidad\",\"MotivoViaje__NegociosyTrabajo\",\"MotivoViaje__TurismoyViajes\"],\"tickmode\":\"array\",\"dtick\":1,\"automargin\":true}},                        {\"responsive\": true}                    ).then(function(){\n",
              "                            \n",
              "var gd = document.getElementById('0af0ab06-5cd0-4774-98e8-293789eeb181');\n",
              "var x = new MutationObserver(function (mutations, observer) {{\n",
              "        var display = window.getComputedStyle(gd).display;\n",
              "        if (!display || display === 'none') {{\n",
              "            console.log([gd, 'removed!']);\n",
              "            Plotly.purge(gd);\n",
              "            observer.disconnect();\n",
              "        }}\n",
              "}});\n",
              "\n",
              "// Listen for the removal of the full notebook cells\n",
              "var notebookContainer = gd.closest('#notebook-container');\n",
              "if (notebookContainer) {{\n",
              "    x.observe(notebookContainer, {childList: true});\n",
              "}}\n",
              "\n",
              "// Listen for the clearing of the current output cell\n",
              "var outputEl = gd.closest('.output');\n",
              "if (outputEl) {{\n",
              "    x.observe(outputEl, {childList: true});\n",
              "}}\n",
              "\n",
              "                        })                };                            </script>        </div>\n",
              "</body>\n",
              "</html>"
            ]
          },
          "metadata": {}
        }
      ]
    },
    {
      "cell_type": "code",
      "source": [
        "# Mostrar la importancia de las características del grupo \"Mes\"\n",
        "xpl.plot.features_importance(group_name='Mes')"
      ],
      "metadata": {
        "colab": {
          "base_uri": "https://localhost:8080/",
          "height": 517
        },
        "id": "d1XrWUzkhA4g",
        "outputId": "26826d55-63e0-44f3-abf9-21f8b660cb6f"
      },
      "execution_count": null,
      "outputs": [
        {
          "output_type": "display_data",
          "data": {
            "text/html": [
              "<html>\n",
              "<head><meta charset=\"utf-8\" /></head>\n",
              "<body>\n",
              "    <div>            <script src=\"https://cdnjs.cloudflare.com/ajax/libs/mathjax/2.7.5/MathJax.js?config=TeX-AMS-MML_SVG\"></script><script type=\"text/javascript\">if (window.MathJax && window.MathJax.Hub && window.MathJax.Hub.Config) {window.MathJax.Hub.Config({SVG: {font: \"STIX-Web\"}});}</script>                <script type=\"text/javascript\">window.PlotlyConfig = {MathJaxConfig: 'local'};</script>\n",
              "        <script charset=\"utf-8\" src=\"https://cdn.plot.ly/plotly-2.24.1.min.js\"></script>                <div id=\"5ae0c37f-a2db-47fd-8ee2-6e5e08e952f8\" class=\"plotly-graph-div\" style=\"height:500px; width:900px;\"></div>            <script type=\"text/javascript\">                                    window.PLOTLYENV=window.PLOTLYENV || {};                                    if (document.getElementById(\"5ae0c37f-a2db-47fd-8ee2-6e5e08e952f8\")) {                    Plotly.newPlot(                        \"5ae0c37f-a2db-47fd-8ee2-6e5e08e952f8\",                        [{\"customdata\":[\"Mes__Marzo\",\"Mes__Febrero\",\"Mes__Mayo\",\"Mes__Septiembre\",\"Mes__Enero\",\"Mes__Agosto\",\"Mes__Octubre\",\"Mes__Julio\",\"Mes__Junio\",\"Mes__Diciembre\",\"Mes__Noviembre\"],\"hovertemplate\":\"Feature: %{customdata}\\u003cbr \\u002f\\u003eContribution: %{x:.4f}\\u003cextra\\u003e\\u003c\\u002fextra\\u003e\",\"marker\":{\"color\":[\"rgba(244, 192, 0, 1.0)\",\"rgba(244, 192, 0, 1.0)\",\"rgba(244, 192, 0, 1.0)\",\"rgba(244, 192, 0, 1.0)\",\"rgba(244, 192, 0, 1.0)\",\"rgba(244, 192, 0, 1.0)\",\"rgba(244, 192, 0, 1.0)\",\"rgba(244, 192, 0, 1.0)\",\"rgba(244, 192, 0, 1.0)\",\"rgba(244, 192, 0, 1.0)\",\"rgba(244, 192, 0, 1.0)\"],\"line\":{\"color\":\"rgba(52, 55, 54, 0.8)\",\"width\":0.5}},\"name\":\"Global\",\"orientation\":\"h\",\"x\":[0.003,0.0037,0.0045,0.0075,0.0118,0.0128,0.0139,0.0145,0.0161,0.0355,0.0614],\"y\":[\"Mes__Marzo\",\"Mes__Febrero\",\"Mes__Mayo\",\"Mes__Septiembre\",\"Mes__Enero\",\"Mes__Agosto\",\"Mes__Octubre\",\"Mes__Julio\",\"Mes__Junio\",\"Mes__Diciembre\",\"Mes__Noviembre\"],\"type\":\"bar\"}],                        {\"autosize\":false,\"barmode\":\"group\",\"height\":500,\"hovermode\":\"closest\",\"margin\":{\"b\":50,\"l\":160,\"r\":0,\"t\":95},\"template\":{\"data\":{\"scatter\":[{\"type\":\"scatter\"}]}},\"title\":{\"font\":{\"color\":\"rgb(50, 50, 50)\",\"family\":\"Arial\",\"size\":24},\"text\":\"Features Importance - Mes de viaje\\u003cbr\\u003e\\u003csup\\u003eResponse: \\u003cb\\u003e3\\u003c\\u002fb\\u003e - Total number of features: 35\\u003c\\u002fsup\\u003e\",\"x\":0.5,\"xanchor\":\"center\",\"y\":0.9,\"yanchor\":\"middle\"},\"width\":900,\"xaxis\":{\"title\":{\"font\":{\"color\":\"rgb(50, 50, 50)\",\"family\":\"Arial Black\",\"size\":16},\"text\":\"Mean absolute Contribution\"}},\"yaxis\":{\"title\":{\"font\":{\"color\":\"rgb(50, 50, 50)\",\"family\":\"Arial Black\",\"size\":16}},\"ticktext\":[\"Mes__Marzo\",\"Mes__Febrero\",\"Mes__Mayo\",\"Mes__Septiembre\",\"Mes__Enero\",\"Mes__Agosto\",\"Mes__Octubre\",\"Mes__Julio\",\"Mes__Junio\",\"Mes__Diciembre\",\"Mes__Noviembre\"],\"tickvals\":[\"Mes__Marzo\",\"Mes__Febrero\",\"Mes__Mayo\",\"Mes__Septiembre\",\"Mes__Enero\",\"Mes__Agosto\",\"Mes__Octubre\",\"Mes__Julio\",\"Mes__Junio\",\"Mes__Diciembre\",\"Mes__Noviembre\"],\"tickmode\":\"array\",\"dtick\":1,\"automargin\":true}},                        {\"responsive\": true}                    ).then(function(){\n",
              "                            \n",
              "var gd = document.getElementById('5ae0c37f-a2db-47fd-8ee2-6e5e08e952f8');\n",
              "var x = new MutationObserver(function (mutations, observer) {{\n",
              "        var display = window.getComputedStyle(gd).display;\n",
              "        if (!display || display === 'none') {{\n",
              "            console.log([gd, 'removed!']);\n",
              "            Plotly.purge(gd);\n",
              "            observer.disconnect();\n",
              "        }}\n",
              "}});\n",
              "\n",
              "// Listen for the removal of the full notebook cells\n",
              "var notebookContainer = gd.closest('#notebook-container');\n",
              "if (notebookContainer) {{\n",
              "    x.observe(notebookContainer, {childList: true});\n",
              "}}\n",
              "\n",
              "// Listen for the clearing of the current output cell\n",
              "var outputEl = gd.closest('.output');\n",
              "if (outputEl) {{\n",
              "    x.observe(outputEl, {childList: true});\n",
              "}}\n",
              "\n",
              "                        })                };                            </script>        </div>\n",
              "</body>\n",
              "</html>"
            ]
          },
          "metadata": {}
        }
      ]
    },
    {
      "cell_type": "code",
      "source": [
        "# Mostrar la importancia de las características del grupo \"MotivoViaje\"\n",
        "xpl.plot.features_importance(group_name='RegionOrigen')"
      ],
      "metadata": {
        "colab": {
          "base_uri": "https://localhost:8080/",
          "height": 517
        },
        "id": "9CB-KtjghGuY",
        "outputId": "bc87181a-f041-4339-9be8-678540a19d78"
      },
      "execution_count": null,
      "outputs": [
        {
          "output_type": "display_data",
          "data": {
            "text/html": [
              "<html>\n",
              "<head><meta charset=\"utf-8\" /></head>\n",
              "<body>\n",
              "    <div>            <script src=\"https://cdnjs.cloudflare.com/ajax/libs/mathjax/2.7.5/MathJax.js?config=TeX-AMS-MML_SVG\"></script><script type=\"text/javascript\">if (window.MathJax && window.MathJax.Hub && window.MathJax.Hub.Config) {window.MathJax.Hub.Config({SVG: {font: \"STIX-Web\"}});}</script>                <script type=\"text/javascript\">window.PlotlyConfig = {MathJaxConfig: 'local'};</script>\n",
              "        <script charset=\"utf-8\" src=\"https://cdn.plot.ly/plotly-2.24.1.min.js\"></script>                <div id=\"5118a270-653c-49d4-afbf-4dc23d6a6c92\" class=\"plotly-graph-div\" style=\"height:500px; width:900px;\"></div>            <script type=\"text/javascript\">                                    window.PLOTLYENV=window.PLOTLYENV || {};                                    if (document.getElementById(\"5118a270-653c-49d4-afbf-4dc23d6a6c92\")) {                    Plotly.newPlot(                        \"5118a270-653c-49d4-afbf-4dc23d6a6c92\",                        [{\"customdata\":[\"RegionOrigen__Otros\",\"RegionOrigen__Ocean\\u00eda\",\"RegionOrigen__Asia\",\"RegionOrigen__Europa\",\"RegionOrigen__Am\\u00e9ricaCentralyelCaribe\",\"RegionOrigen__Am\\u00e9ricadelNorte\",\"RegionOrigen__Am\\u00e9ricadelSur\"],\"hovertemplate\":\"Feature: %{customdata}\\u003cbr \\u002f\\u003eContribution: %{x:.4f}\\u003cextra\\u003e\\u003c\\u002fextra\\u003e\",\"marker\":{\"color\":[\"rgba(244, 192, 0, 1.0)\",\"rgba(244, 192, 0, 1.0)\",\"rgba(244, 192, 0, 1.0)\",\"rgba(244, 192, 0, 1.0)\",\"rgba(244, 192, 0, 1.0)\",\"rgba(244, 192, 0, 1.0)\",\"rgba(244, 192, 0, 1.0)\"],\"line\":{\"color\":\"rgba(52, 55, 54, 0.8)\",\"width\":0.5}},\"name\":\"Global\",\"orientation\":\"h\",\"x\":[0.0,0.0025,0.0107,0.0341,0.0397,0.0569,0.2628],\"y\":[\"RegionOrigen__Otros\",\"RegionOrigen__Ocean\\u00eda\",\"RegionOrigen__Asia\",\"RegionOrigen__Europa\",\"RegionOrigen__Am\\u00e9ricaCentralyelCaribe\",\"RegionOrigen__Am\\u00e9ricadelNorte\",\"RegionOrigen__Am\\u00e9ricadelSur\"],\"type\":\"bar\"}],                        {\"autosize\":false,\"barmode\":\"group\",\"height\":500,\"hovermode\":\"closest\",\"margin\":{\"b\":50,\"l\":160,\"r\":0,\"t\":95},\"template\":{\"data\":{\"scatter\":[{\"type\":\"scatter\"}]}},\"title\":{\"font\":{\"color\":\"rgb(50, 50, 50)\",\"family\":\"Arial\",\"size\":24},\"text\":\"Features Importance - Regi\\u00f3n de origen\\u003cbr\\u003e\\u003csup\\u003eResponse: \\u003cb\\u003e3\\u003c\\u002fb\\u003e - Total number of features: 35\\u003c\\u002fsup\\u003e\",\"x\":0.5,\"xanchor\":\"center\",\"y\":0.9,\"yanchor\":\"middle\"},\"width\":900,\"xaxis\":{\"title\":{\"font\":{\"color\":\"rgb(50, 50, 50)\",\"family\":\"Arial Black\",\"size\":16},\"text\":\"Mean absolute Contribution\"}},\"yaxis\":{\"title\":{\"font\":{\"color\":\"rgb(50, 50, 50)\",\"family\":\"Arial Black\",\"size\":16}},\"ticktext\":[\"RegionOrigen__Otros\",\"RegionOrigen__Ocean\\u00eda\",\"RegionOrigen__Asia\",\"RegionOrigen__Europa\",\"RegionOrigen__Am\\u00e9ricaCen...ibe\",\"RegionOrigen__Am\\u00e9ricadelNorte\",\"RegionOrigen__Am\\u00e9ricadelSur\"],\"tickvals\":[\"RegionOrigen__Otros\",\"RegionOrigen__Ocean\\u00eda\",\"RegionOrigen__Asia\",\"RegionOrigen__Europa\",\"RegionOrigen__Am\\u00e9ricaCentralyelCaribe\",\"RegionOrigen__Am\\u00e9ricadelNorte\",\"RegionOrigen__Am\\u00e9ricadelSur\"],\"tickmode\":\"array\",\"dtick\":1,\"automargin\":true}},                        {\"responsive\": true}                    ).then(function(){\n",
              "                            \n",
              "var gd = document.getElementById('5118a270-653c-49d4-afbf-4dc23d6a6c92');\n",
              "var x = new MutationObserver(function (mutations, observer) {{\n",
              "        var display = window.getComputedStyle(gd).display;\n",
              "        if (!display || display === 'none') {{\n",
              "            console.log([gd, 'removed!']);\n",
              "            Plotly.purge(gd);\n",
              "            observer.disconnect();\n",
              "        }}\n",
              "}});\n",
              "\n",
              "// Listen for the removal of the full notebook cells\n",
              "var notebookContainer = gd.closest('#notebook-container');\n",
              "if (notebookContainer) {{\n",
              "    x.observe(notebookContainer, {childList: true});\n",
              "}}\n",
              "\n",
              "// Listen for the clearing of the current output cell\n",
              "var outputEl = gd.closest('.output');\n",
              "if (outputEl) {{\n",
              "    x.observe(outputEl, {childList: true});\n",
              "}}\n",
              "\n",
              "                        })                };                            </script>        </div>\n",
              "</body>\n",
              "</html>"
            ]
          },
          "metadata": {}
        }
      ]
    },
    {
      "cell_type": "code",
      "source": [
        "# Mostrar la importancia de las características del grupo \"MotivoViaje\"\n",
        "xpl.plot.features_importance(group_name='RegionHospedaje')"
      ],
      "metadata": {
        "colab": {
          "base_uri": "https://localhost:8080/",
          "height": 517
        },
        "id": "QTQQjXIYhLmS",
        "outputId": "50b270ad-7c8f-4d85-f1f4-5ac10a5665ef"
      },
      "execution_count": null,
      "outputs": [
        {
          "output_type": "display_data",
          "data": {
            "text/html": [
              "<html>\n",
              "<head><meta charset=\"utf-8\" /></head>\n",
              "<body>\n",
              "    <div>            <script src=\"https://cdnjs.cloudflare.com/ajax/libs/mathjax/2.7.5/MathJax.js?config=TeX-AMS-MML_SVG\"></script><script type=\"text/javascript\">if (window.MathJax && window.MathJax.Hub && window.MathJax.Hub.Config) {window.MathJax.Hub.Config({SVG: {font: \"STIX-Web\"}});}</script>                <script type=\"text/javascript\">window.PlotlyConfig = {MathJaxConfig: 'local'};</script>\n",
              "        <script charset=\"utf-8\" src=\"https://cdn.plot.ly/plotly-2.24.1.min.js\"></script>                <div id=\"87368e88-b900-43fa-8301-74e1eafe4f7f\" class=\"plotly-graph-div\" style=\"height:500px; width:900px;\"></div>            <script type=\"text/javascript\">                                    window.PLOTLYENV=window.PLOTLYENV || {};                                    if (document.getElementById(\"87368e88-b900-43fa-8301-74e1eafe4f7f\")) {                    Plotly.newPlot(                        \"87368e88-b900-43fa-8301-74e1eafe4f7f\",                        [{\"customdata\":[\"RegionHospedaje__Regi\\u00f3nAmaz\\u00f3nica\",\"RegionHospedaje__Regi\\u00f3nOrinoqu\\u00eda\",\"RegionHospedaje__Regi\\u00f3nCaribe\",\"RegionHospedaje__Regi\\u00f3nAndina\",\"RegionHospedaje__Regi\\u00f3nPac\\u00edfica\"],\"hovertemplate\":\"Feature: %{customdata}\\u003cbr \\u002f\\u003eContribution: %{x:.4f}\\u003cextra\\u003e\\u003c\\u002fextra\\u003e\",\"marker\":{\"color\":[\"rgba(244, 192, 0, 1.0)\",\"rgba(244, 192, 0, 1.0)\",\"rgba(244, 192, 0, 1.0)\",\"rgba(244, 192, 0, 1.0)\",\"rgba(244, 192, 0, 1.0)\"],\"line\":{\"color\":\"rgba(52, 55, 54, 0.8)\",\"width\":0.5}},\"name\":\"Global\",\"orientation\":\"h\",\"x\":[0.0006,0.003,0.026,0.0561,0.0572],\"y\":[\"RegionHospedaje__Regi\\u00f3nAmaz\\u00f3nica\",\"RegionHospedaje__Regi\\u00f3nOrinoqu\\u00eda\",\"RegionHospedaje__Regi\\u00f3nCaribe\",\"RegionHospedaje__Regi\\u00f3nAndina\",\"RegionHospedaje__Regi\\u00f3nPac\\u00edfica\"],\"type\":\"bar\"}],                        {\"autosize\":false,\"barmode\":\"group\",\"height\":500,\"hovermode\":\"closest\",\"margin\":{\"b\":50,\"l\":160,\"r\":0,\"t\":95},\"template\":{\"data\":{\"scatter\":[{\"type\":\"scatter\"}]}},\"title\":{\"font\":{\"color\":\"rgb(50, 50, 50)\",\"family\":\"Arial\",\"size\":24},\"text\":\"Features Importance - Regi\\u00f3n de hospedaje\\u003cbr\\u003e\\u003csup\\u003eResponse: \\u003cb\\u003e3\\u003c\\u002fb\\u003e - Total number of features: 35\\u003c\\u002fsup\\u003e\",\"x\":0.5,\"xanchor\":\"center\",\"y\":0.9,\"yanchor\":\"middle\"},\"width\":900,\"xaxis\":{\"title\":{\"font\":{\"color\":\"rgb(50, 50, 50)\",\"family\":\"Arial Black\",\"size\":16},\"text\":\"Mean absolute Contribution\"}},\"yaxis\":{\"title\":{\"font\":{\"color\":\"rgb(50, 50, 50)\",\"family\":\"Arial Black\",\"size\":16}},\"ticktext\":[\"RegionHospedaje__Regi\\u00f3nA...ica\",\"RegionHospedaje__Regi\\u00f3nO...u\\u00eda\",\"RegionHospedaje__Regi\\u00f3nCaribe\",\"RegionHospedaje__Regi\\u00f3nAndina\",\"RegionHospedaje__Regi\\u00f3nP...ica\"],\"tickvals\":[\"RegionHospedaje__Regi\\u00f3nAmaz\\u00f3nica\",\"RegionHospedaje__Regi\\u00f3nOrinoqu\\u00eda\",\"RegionHospedaje__Regi\\u00f3nCaribe\",\"RegionHospedaje__Regi\\u00f3nAndina\",\"RegionHospedaje__Regi\\u00f3nPac\\u00edfica\"],\"tickmode\":\"array\",\"dtick\":1,\"automargin\":true}},                        {\"responsive\": true}                    ).then(function(){\n",
              "                            \n",
              "var gd = document.getElementById('87368e88-b900-43fa-8301-74e1eafe4f7f');\n",
              "var x = new MutationObserver(function (mutations, observer) {{\n",
              "        var display = window.getComputedStyle(gd).display;\n",
              "        if (!display || display === 'none') {{\n",
              "            console.log([gd, 'removed!']);\n",
              "            Plotly.purge(gd);\n",
              "            observer.disconnect();\n",
              "        }}\n",
              "}});\n",
              "\n",
              "// Listen for the removal of the full notebook cells\n",
              "var notebookContainer = gd.closest('#notebook-container');\n",
              "if (notebookContainer) {{\n",
              "    x.observe(notebookContainer, {childList: true});\n",
              "}}\n",
              "\n",
              "// Listen for the clearing of the current output cell\n",
              "var outputEl = gd.closest('.output');\n",
              "if (outputEl) {{\n",
              "    x.observe(outputEl, {childList: true});\n",
              "}}\n",
              "\n",
              "                        })                };                            </script>        </div>\n",
              "</body>\n",
              "</html>"
            ]
          },
          "metadata": {}
        }
      ]
    },
    {
      "cell_type": "code",
      "source": [
        "# Mostrar la importancia de las características del grupo \"MotivoViaje\"\n",
        "xpl.plot.features_importance(group_name='Transporte')"
      ],
      "metadata": {
        "colab": {
          "base_uri": "https://localhost:8080/",
          "height": 517
        },
        "id": "nK-941vqhQvw",
        "outputId": "c9b5f0b7-16b1-4060-d07f-be607764f421"
      },
      "execution_count": null,
      "outputs": [
        {
          "output_type": "display_data",
          "data": {
            "text/html": [
              "<html>\n",
              "<head><meta charset=\"utf-8\" /></head>\n",
              "<body>\n",
              "    <div>            <script src=\"https://cdnjs.cloudflare.com/ajax/libs/mathjax/2.7.5/MathJax.js?config=TeX-AMS-MML_SVG\"></script><script type=\"text/javascript\">if (window.MathJax && window.MathJax.Hub && window.MathJax.Hub.Config) {window.MathJax.Hub.Config({SVG: {font: \"STIX-Web\"}});}</script>                <script type=\"text/javascript\">window.PlotlyConfig = {MathJaxConfig: 'local'};</script>\n",
              "        <script charset=\"utf-8\" src=\"https://cdn.plot.ly/plotly-2.24.1.min.js\"></script>                <div id=\"a0be9da3-6613-47f9-9f3c-9581e75742a1\" class=\"plotly-graph-div\" style=\"height:500px; width:900px;\"></div>            <script type=\"text/javascript\">                                    window.PLOTLYENV=window.PLOTLYENV || {};                                    if (document.getElementById(\"a0be9da3-6613-47f9-9f3c-9581e75742a1\")) {                    Plotly.newPlot(                        \"a0be9da3-6613-47f9-9f3c-9581e75742a1\",                        [{\"customdata\":[\"Transporte__Otros\",\"Transporte__Terrestre\"],\"hovertemplate\":\"Feature: %{customdata}\\u003cbr \\u002f\\u003eContribution: %{x:.4f}\\u003cextra\\u003e\\u003c\\u002fextra\\u003e\",\"marker\":{\"color\":[\"rgba(244, 192, 0, 1.0)\",\"rgba(244, 192, 0, 1.0)\"],\"line\":{\"color\":\"rgba(52, 55, 54, 0.8)\",\"width\":0.5}},\"name\":\"Global\",\"orientation\":\"h\",\"x\":[0.0062,0.0187],\"y\":[\"Transporte__Otros\",\"Transporte__Terrestre\"],\"type\":\"bar\"}],                        {\"autosize\":false,\"barmode\":\"group\",\"height\":500,\"hovermode\":\"closest\",\"margin\":{\"b\":50,\"l\":160,\"r\":0,\"t\":95},\"template\":{\"data\":{\"scatter\":[{\"type\":\"scatter\"}]}},\"title\":{\"font\":{\"color\":\"rgb(50, 50, 50)\",\"family\":\"Arial\",\"size\":24},\"text\":\"Features Importance - Medio de transporte\\u003cbr\\u003e\\u003csup\\u003eResponse: \\u003cb\\u003e3\\u003c\\u002fb\\u003e - Total number of features: 35\\u003c\\u002fsup\\u003e\",\"x\":0.5,\"xanchor\":\"center\",\"y\":0.9,\"yanchor\":\"middle\"},\"width\":900,\"xaxis\":{\"title\":{\"font\":{\"color\":\"rgb(50, 50, 50)\",\"family\":\"Arial Black\",\"size\":16},\"text\":\"Mean absolute Contribution\"}},\"yaxis\":{\"title\":{\"font\":{\"color\":\"rgb(50, 50, 50)\",\"family\":\"Arial Black\",\"size\":16}},\"ticktext\":[\"Transporte__Otros\",\"Transporte__Terrestre\"],\"tickvals\":[\"Transporte__Otros\",\"Transporte__Terrestre\"],\"tickmode\":\"array\",\"dtick\":1,\"automargin\":true}},                        {\"responsive\": true}                    ).then(function(){\n",
              "                            \n",
              "var gd = document.getElementById('a0be9da3-6613-47f9-9f3c-9581e75742a1');\n",
              "var x = new MutationObserver(function (mutations, observer) {{\n",
              "        var display = window.getComputedStyle(gd).display;\n",
              "        if (!display || display === 'none') {{\n",
              "            console.log([gd, 'removed!']);\n",
              "            Plotly.purge(gd);\n",
              "            observer.disconnect();\n",
              "        }}\n",
              "}});\n",
              "\n",
              "// Listen for the removal of the full notebook cells\n",
              "var notebookContainer = gd.closest('#notebook-container');\n",
              "if (notebookContainer) {{\n",
              "    x.observe(notebookContainer, {childList: true});\n",
              "}}\n",
              "\n",
              "// Listen for the clearing of the current output cell\n",
              "var outputEl = gd.closest('.output');\n",
              "if (outputEl) {{\n",
              "    x.observe(outputEl, {childList: true});\n",
              "}}\n",
              "\n",
              "                        })                };                            </script>        </div>\n",
              "</body>\n",
              "</html>"
            ]
          },
          "metadata": {}
        }
      ]
    }
  ],
  "metadata": {
    "colab": {
      "provenance": []
    },
    "kernelspec": {
      "display_name": "Python 3",
      "name": "python3"
    },
    "language_info": {
      "name": "python"
    }
  },
  "nbformat": 4,
  "nbformat_minor": 0
}